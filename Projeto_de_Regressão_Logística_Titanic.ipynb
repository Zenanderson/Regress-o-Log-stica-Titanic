{
  "nbformat": 4,
  "nbformat_minor": 0,
  "metadata": {
    "colab": {
      "name": "Projeto de Regressão Logística - Titanic",
      "provenance": [],
      "collapsed_sections": []
    },
    "kernelspec": {
      "name": "python3",
      "display_name": "Python 3"
    },
    "language_info": {
      "name": "python"
    }
  },
  "cells": [
    {
      "cell_type": "markdown",
      "metadata": {
        "id": "LJmVeVsUqDZ9"
      },
      "source": [
        "**BASE PARA ANÁLISE**\n",
        "\n",
        "https://gist.githubusercontent.com/michhar/2dfd2de0d4f8727f873422c5d959fff5/raw/fa71405126017e6a37bea592440b4bee94bf7b9e/titanic.csv"
      ]
    },
    {
      "cell_type": "code",
      "metadata": {
        "id": "xmxRcRPmp_HK"
      },
      "source": [
        "# Bibliotecas para manipulação dos dados\n",
        "import pandas as pd\n",
        "import numpy as np\n"
      ],
      "execution_count": null,
      "outputs": []
    },
    {
      "cell_type": "code",
      "metadata": {
        "id": "pj4El8ZHCa4e"
      },
      "source": [
        "# Bibliotecas para visualização dos dados\n",
        "import seaborn as sns\n",
        "import matplotlib.pyplot as plt\n",
        "%matplotlib inline"
      ],
      "execution_count": null,
      "outputs": []
    },
    {
      "cell_type": "code",
      "metadata": {
        "id": "scrcc_JaqPdU"
      },
      "source": [
        "titanic = pd.read_csv('https://gist.githubusercontent.com/michhar/2dfd2de0d4f8727f873422c5d959fff5/raw/fa71405126017e6a37bea592440b4bee94bf7b9e/titanic.csv')"
      ],
      "execution_count": null,
      "outputs": []
    },
    {
      "cell_type": "code",
      "metadata": {
        "id": "4qHKZMMD6f2X"
      },
      "source": [
        "## S = Southampton Inglaterra\n",
        "## Q = Queenstown - Irlanda\n",
        "## C = Cherbourg-Octeville - França"
      ],
      "execution_count": null,
      "outputs": []
    },
    {
      "cell_type": "code",
      "metadata": {
        "colab": {
          "base_uri": "https://localhost:8080/"
        },
        "id": "83MgrjZEqWJz",
        "outputId": "114a3d15-2092-445c-dc80-56c5e1af4696"
      },
      "source": [
        "titanic.shape"
      ],
      "execution_count": null,
      "outputs": [
        {
          "output_type": "execute_result",
          "data": {
            "text/plain": [
              "(891, 12)"
            ]
          },
          "metadata": {
            "tags": []
          },
          "execution_count": 5
        }
      ]
    },
    {
      "cell_type": "code",
      "metadata": {
        "colab": {
          "base_uri": "https://localhost:8080/",
          "height": 202
        },
        "id": "8UQl5n7yqgCh",
        "outputId": "2db05564-1f0d-4359-b4ff-0d51b7de2134"
      },
      "source": [
        "titanic.head()"
      ],
      "execution_count": null,
      "outputs": [
        {
          "output_type": "execute_result",
          "data": {
            "text/html": [
              "<div>\n",
              "<style scoped>\n",
              "    .dataframe tbody tr th:only-of-type {\n",
              "        vertical-align: middle;\n",
              "    }\n",
              "\n",
              "    .dataframe tbody tr th {\n",
              "        vertical-align: top;\n",
              "    }\n",
              "\n",
              "    .dataframe thead th {\n",
              "        text-align: right;\n",
              "    }\n",
              "</style>\n",
              "<table border=\"1\" class=\"dataframe\">\n",
              "  <thead>\n",
              "    <tr style=\"text-align: right;\">\n",
              "      <th></th>\n",
              "      <th>PassengerId</th>\n",
              "      <th>Survived</th>\n",
              "      <th>Pclass</th>\n",
              "      <th>Name</th>\n",
              "      <th>Sex</th>\n",
              "      <th>Age</th>\n",
              "      <th>SibSp</th>\n",
              "      <th>Parch</th>\n",
              "      <th>Ticket</th>\n",
              "      <th>Fare</th>\n",
              "      <th>Cabin</th>\n",
              "      <th>Embarked</th>\n",
              "    </tr>\n",
              "  </thead>\n",
              "  <tbody>\n",
              "    <tr>\n",
              "      <th>0</th>\n",
              "      <td>1</td>\n",
              "      <td>0</td>\n",
              "      <td>3</td>\n",
              "      <td>Braund, Mr. Owen Harris</td>\n",
              "      <td>male</td>\n",
              "      <td>22.0</td>\n",
              "      <td>1</td>\n",
              "      <td>0</td>\n",
              "      <td>A/5 21171</td>\n",
              "      <td>7.2500</td>\n",
              "      <td>NaN</td>\n",
              "      <td>S</td>\n",
              "    </tr>\n",
              "    <tr>\n",
              "      <th>1</th>\n",
              "      <td>2</td>\n",
              "      <td>1</td>\n",
              "      <td>1</td>\n",
              "      <td>Cumings, Mrs. John Bradley (Florence Briggs Th...</td>\n",
              "      <td>female</td>\n",
              "      <td>38.0</td>\n",
              "      <td>1</td>\n",
              "      <td>0</td>\n",
              "      <td>PC 17599</td>\n",
              "      <td>71.2833</td>\n",
              "      <td>C85</td>\n",
              "      <td>C</td>\n",
              "    </tr>\n",
              "    <tr>\n",
              "      <th>2</th>\n",
              "      <td>3</td>\n",
              "      <td>1</td>\n",
              "      <td>3</td>\n",
              "      <td>Heikkinen, Miss. Laina</td>\n",
              "      <td>female</td>\n",
              "      <td>26.0</td>\n",
              "      <td>0</td>\n",
              "      <td>0</td>\n",
              "      <td>STON/O2. 3101282</td>\n",
              "      <td>7.9250</td>\n",
              "      <td>NaN</td>\n",
              "      <td>S</td>\n",
              "    </tr>\n",
              "    <tr>\n",
              "      <th>3</th>\n",
              "      <td>4</td>\n",
              "      <td>1</td>\n",
              "      <td>1</td>\n",
              "      <td>Futrelle, Mrs. Jacques Heath (Lily May Peel)</td>\n",
              "      <td>female</td>\n",
              "      <td>35.0</td>\n",
              "      <td>1</td>\n",
              "      <td>0</td>\n",
              "      <td>113803</td>\n",
              "      <td>53.1000</td>\n",
              "      <td>C123</td>\n",
              "      <td>S</td>\n",
              "    </tr>\n",
              "    <tr>\n",
              "      <th>4</th>\n",
              "      <td>5</td>\n",
              "      <td>0</td>\n",
              "      <td>3</td>\n",
              "      <td>Allen, Mr. William Henry</td>\n",
              "      <td>male</td>\n",
              "      <td>35.0</td>\n",
              "      <td>0</td>\n",
              "      <td>0</td>\n",
              "      <td>373450</td>\n",
              "      <td>8.0500</td>\n",
              "      <td>NaN</td>\n",
              "      <td>S</td>\n",
              "    </tr>\n",
              "  </tbody>\n",
              "</table>\n",
              "</div>"
            ],
            "text/plain": [
              "   PassengerId  Survived  Pclass  ...     Fare Cabin  Embarked\n",
              "0            1         0       3  ...   7.2500   NaN         S\n",
              "1            2         1       1  ...  71.2833   C85         C\n",
              "2            3         1       3  ...   7.9250   NaN         S\n",
              "3            4         1       1  ...  53.1000  C123         S\n",
              "4            5         0       3  ...   8.0500   NaN         S\n",
              "\n",
              "[5 rows x 12 columns]"
            ]
          },
          "metadata": {
            "tags": []
          },
          "execution_count": 6
        }
      ]
    },
    {
      "cell_type": "markdown",
      "metadata": {
        "id": "ypf2PVxONIy5"
      },
      "source": [
        "**Limpeza dos dados. Dropando a coluna PassengerId.**"
      ]
    },
    {
      "cell_type": "code",
      "metadata": {
        "id": "BMl3gPPkMI5a"
      },
      "source": [
        "titanic.drop(\"PassengerId\",axis=1,inplace=True)\n"
      ],
      "execution_count": null,
      "outputs": []
    },
    {
      "cell_type": "code",
      "metadata": {
        "colab": {
          "base_uri": "https://localhost:8080/",
          "height": 202
        },
        "id": "WVj5jDD5NQgS",
        "outputId": "47ff63e9-4512-4cab-de13-ecaa1cbb1cd4"
      },
      "source": [
        "titanic.head()"
      ],
      "execution_count": null,
      "outputs": [
        {
          "output_type": "execute_result",
          "data": {
            "text/html": [
              "<div>\n",
              "<style scoped>\n",
              "    .dataframe tbody tr th:only-of-type {\n",
              "        vertical-align: middle;\n",
              "    }\n",
              "\n",
              "    .dataframe tbody tr th {\n",
              "        vertical-align: top;\n",
              "    }\n",
              "\n",
              "    .dataframe thead th {\n",
              "        text-align: right;\n",
              "    }\n",
              "</style>\n",
              "<table border=\"1\" class=\"dataframe\">\n",
              "  <thead>\n",
              "    <tr style=\"text-align: right;\">\n",
              "      <th></th>\n",
              "      <th>Survived</th>\n",
              "      <th>Pclass</th>\n",
              "      <th>Name</th>\n",
              "      <th>Sex</th>\n",
              "      <th>Age</th>\n",
              "      <th>SibSp</th>\n",
              "      <th>Parch</th>\n",
              "      <th>Ticket</th>\n",
              "      <th>Fare</th>\n",
              "      <th>Cabin</th>\n",
              "      <th>Embarked</th>\n",
              "    </tr>\n",
              "  </thead>\n",
              "  <tbody>\n",
              "    <tr>\n",
              "      <th>0</th>\n",
              "      <td>0</td>\n",
              "      <td>3</td>\n",
              "      <td>Braund, Mr. Owen Harris</td>\n",
              "      <td>male</td>\n",
              "      <td>22.0</td>\n",
              "      <td>1</td>\n",
              "      <td>0</td>\n",
              "      <td>A/5 21171</td>\n",
              "      <td>7.2500</td>\n",
              "      <td>NaN</td>\n",
              "      <td>S</td>\n",
              "    </tr>\n",
              "    <tr>\n",
              "      <th>1</th>\n",
              "      <td>1</td>\n",
              "      <td>1</td>\n",
              "      <td>Cumings, Mrs. John Bradley (Florence Briggs Th...</td>\n",
              "      <td>female</td>\n",
              "      <td>38.0</td>\n",
              "      <td>1</td>\n",
              "      <td>0</td>\n",
              "      <td>PC 17599</td>\n",
              "      <td>71.2833</td>\n",
              "      <td>C85</td>\n",
              "      <td>C</td>\n",
              "    </tr>\n",
              "    <tr>\n",
              "      <th>2</th>\n",
              "      <td>1</td>\n",
              "      <td>3</td>\n",
              "      <td>Heikkinen, Miss. Laina</td>\n",
              "      <td>female</td>\n",
              "      <td>26.0</td>\n",
              "      <td>0</td>\n",
              "      <td>0</td>\n",
              "      <td>STON/O2. 3101282</td>\n",
              "      <td>7.9250</td>\n",
              "      <td>NaN</td>\n",
              "      <td>S</td>\n",
              "    </tr>\n",
              "    <tr>\n",
              "      <th>3</th>\n",
              "      <td>1</td>\n",
              "      <td>1</td>\n",
              "      <td>Futrelle, Mrs. Jacques Heath (Lily May Peel)</td>\n",
              "      <td>female</td>\n",
              "      <td>35.0</td>\n",
              "      <td>1</td>\n",
              "      <td>0</td>\n",
              "      <td>113803</td>\n",
              "      <td>53.1000</td>\n",
              "      <td>C123</td>\n",
              "      <td>S</td>\n",
              "    </tr>\n",
              "    <tr>\n",
              "      <th>4</th>\n",
              "      <td>0</td>\n",
              "      <td>3</td>\n",
              "      <td>Allen, Mr. William Henry</td>\n",
              "      <td>male</td>\n",
              "      <td>35.0</td>\n",
              "      <td>0</td>\n",
              "      <td>0</td>\n",
              "      <td>373450</td>\n",
              "      <td>8.0500</td>\n",
              "      <td>NaN</td>\n",
              "      <td>S</td>\n",
              "    </tr>\n",
              "  </tbody>\n",
              "</table>\n",
              "</div>"
            ],
            "text/plain": [
              "   Survived  Pclass  ... Cabin Embarked\n",
              "0         0       3  ...   NaN        S\n",
              "1         1       1  ...   C85        C\n",
              "2         1       3  ...   NaN        S\n",
              "3         1       1  ...  C123        S\n",
              "4         0       3  ...   NaN        S\n",
              "\n",
              "[5 rows x 11 columns]"
            ]
          },
          "metadata": {
            "tags": []
          },
          "execution_count": 8
        }
      ]
    },
    {
      "cell_type": "code",
      "metadata": {
        "colab": {
          "base_uri": "https://localhost:8080/"
        },
        "id": "0rIOHDhwPdj8",
        "outputId": "c86b5e3a-c251-445e-c79b-c4208f6ebd04"
      },
      "source": [
        "#Mostrando apenas tripulantes da cidade de S = Southampton Inglaterra\n",
        "titanic[titanic['Embarked'] =='S']['Name']"
      ],
      "execution_count": null,
      "outputs": [
        {
          "output_type": "execute_result",
          "data": {
            "text/plain": [
              "0                           Braund, Mr. Owen Harris\n",
              "2                            Heikkinen, Miss. Laina\n",
              "3      Futrelle, Mrs. Jacques Heath (Lily May Peel)\n",
              "4                          Allen, Mr. William Henry\n",
              "6                           McCarthy, Mr. Timothy J\n",
              "                           ...                     \n",
              "883                   Banfield, Mr. Frederick James\n",
              "884                          Sutehall, Mr. Henry Jr\n",
              "886                           Montvila, Rev. Juozas\n",
              "887                    Graham, Miss. Margaret Edith\n",
              "888        Johnston, Miss. Catherine Helen \"Carrie\"\n",
              "Name: Name, Length: 644, dtype: object"
            ]
          },
          "metadata": {
            "tags": []
          },
          "execution_count": 9
        }
      ]
    },
    {
      "cell_type": "markdown",
      "metadata": {
        "id": "fYlvBByNRAJf"
      },
      "source": [
        "**Pesquisando pela coluna Survived e contando o máximo de linhas**"
      ]
    },
    {
      "cell_type": "code",
      "metadata": {
        "colab": {
          "base_uri": "https://localhost:8080/"
        },
        "id": "lbbqaf7cQhQe",
        "outputId": "02336c4e-f4ea-4aa2-c03f-b9ac23e8787b"
      },
      "source": [
        "titanic['Survived'] ==titanic['Survived'].max()"
      ],
      "execution_count": null,
      "outputs": [
        {
          "output_type": "execute_result",
          "data": {
            "text/plain": [
              "0      False\n",
              "1       True\n",
              "2       True\n",
              "3       True\n",
              "4      False\n",
              "       ...  \n",
              "886    False\n",
              "887     True\n",
              "888    False\n",
              "889     True\n",
              "890    False\n",
              "Name: Survived, Length: 891, dtype: bool"
            ]
          },
          "metadata": {
            "tags": []
          },
          "execution_count": 10
        }
      ]
    },
    {
      "cell_type": "markdown",
      "metadata": {
        "id": "9ICwTjn0R5l2"
      },
      "source": [
        "**Média de idade dos sobreviventes e mortos**"
      ]
    },
    {
      "cell_type": "code",
      "metadata": {
        "colab": {
          "base_uri": "https://localhost:8080/",
          "height": 445
        },
        "id": "niiKU0fLRuI2",
        "outputId": "546967dc-01ca-4867-dbc8-ac0b615f87fe"
      },
      "source": [
        "titanic.groupby('Age').mean()"
      ],
      "execution_count": null,
      "outputs": [
        {
          "output_type": "execute_result",
          "data": {
            "text/html": [
              "<div>\n",
              "<style scoped>\n",
              "    .dataframe tbody tr th:only-of-type {\n",
              "        vertical-align: middle;\n",
              "    }\n",
              "\n",
              "    .dataframe tbody tr th {\n",
              "        vertical-align: top;\n",
              "    }\n",
              "\n",
              "    .dataframe thead th {\n",
              "        text-align: right;\n",
              "    }\n",
              "</style>\n",
              "<table border=\"1\" class=\"dataframe\">\n",
              "  <thead>\n",
              "    <tr style=\"text-align: right;\">\n",
              "      <th></th>\n",
              "      <th>Survived</th>\n",
              "      <th>Pclass</th>\n",
              "      <th>SibSp</th>\n",
              "      <th>Parch</th>\n",
              "      <th>Fare</th>\n",
              "    </tr>\n",
              "    <tr>\n",
              "      <th>Age</th>\n",
              "      <th></th>\n",
              "      <th></th>\n",
              "      <th></th>\n",
              "      <th></th>\n",
              "      <th></th>\n",
              "    </tr>\n",
              "  </thead>\n",
              "  <tbody>\n",
              "    <tr>\n",
              "      <th>0.42</th>\n",
              "      <td>1.0</td>\n",
              "      <td>3.0</td>\n",
              "      <td>0.0</td>\n",
              "      <td>1.0</td>\n",
              "      <td>8.5167</td>\n",
              "    </tr>\n",
              "    <tr>\n",
              "      <th>0.67</th>\n",
              "      <td>1.0</td>\n",
              "      <td>2.0</td>\n",
              "      <td>1.0</td>\n",
              "      <td>1.0</td>\n",
              "      <td>14.5000</td>\n",
              "    </tr>\n",
              "    <tr>\n",
              "      <th>0.75</th>\n",
              "      <td>1.0</td>\n",
              "      <td>3.0</td>\n",
              "      <td>2.0</td>\n",
              "      <td>1.0</td>\n",
              "      <td>19.2583</td>\n",
              "    </tr>\n",
              "    <tr>\n",
              "      <th>0.83</th>\n",
              "      <td>1.0</td>\n",
              "      <td>2.0</td>\n",
              "      <td>0.5</td>\n",
              "      <td>1.5</td>\n",
              "      <td>23.8750</td>\n",
              "    </tr>\n",
              "    <tr>\n",
              "      <th>0.92</th>\n",
              "      <td>1.0</td>\n",
              "      <td>1.0</td>\n",
              "      <td>1.0</td>\n",
              "      <td>2.0</td>\n",
              "      <td>151.5500</td>\n",
              "    </tr>\n",
              "    <tr>\n",
              "      <th>...</th>\n",
              "      <td>...</td>\n",
              "      <td>...</td>\n",
              "      <td>...</td>\n",
              "      <td>...</td>\n",
              "      <td>...</td>\n",
              "    </tr>\n",
              "    <tr>\n",
              "      <th>70.00</th>\n",
              "      <td>0.0</td>\n",
              "      <td>1.5</td>\n",
              "      <td>0.5</td>\n",
              "      <td>0.5</td>\n",
              "      <td>40.7500</td>\n",
              "    </tr>\n",
              "    <tr>\n",
              "      <th>70.50</th>\n",
              "      <td>0.0</td>\n",
              "      <td>3.0</td>\n",
              "      <td>0.0</td>\n",
              "      <td>0.0</td>\n",
              "      <td>7.7500</td>\n",
              "    </tr>\n",
              "    <tr>\n",
              "      <th>71.00</th>\n",
              "      <td>0.0</td>\n",
              "      <td>1.0</td>\n",
              "      <td>0.0</td>\n",
              "      <td>0.0</td>\n",
              "      <td>42.0792</td>\n",
              "    </tr>\n",
              "    <tr>\n",
              "      <th>74.00</th>\n",
              "      <td>0.0</td>\n",
              "      <td>3.0</td>\n",
              "      <td>0.0</td>\n",
              "      <td>0.0</td>\n",
              "      <td>7.7750</td>\n",
              "    </tr>\n",
              "    <tr>\n",
              "      <th>80.00</th>\n",
              "      <td>1.0</td>\n",
              "      <td>1.0</td>\n",
              "      <td>0.0</td>\n",
              "      <td>0.0</td>\n",
              "      <td>30.0000</td>\n",
              "    </tr>\n",
              "  </tbody>\n",
              "</table>\n",
              "<p>88 rows × 5 columns</p>\n",
              "</div>"
            ],
            "text/plain": [
              "       Survived  Pclass  SibSp  Parch      Fare\n",
              "Age                                            \n",
              "0.42        1.0     3.0    0.0    1.0    8.5167\n",
              "0.67        1.0     2.0    1.0    1.0   14.5000\n",
              "0.75        1.0     3.0    2.0    1.0   19.2583\n",
              "0.83        1.0     2.0    0.5    1.5   23.8750\n",
              "0.92        1.0     1.0    1.0    2.0  151.5500\n",
              "...         ...     ...    ...    ...       ...\n",
              "70.00       0.0     1.5    0.5    0.5   40.7500\n",
              "70.50       0.0     3.0    0.0    0.0    7.7500\n",
              "71.00       0.0     1.0    0.0    0.0   42.0792\n",
              "74.00       0.0     3.0    0.0    0.0    7.7750\n",
              "80.00       1.0     1.0    0.0    0.0   30.0000\n",
              "\n",
              "[88 rows x 5 columns]"
            ]
          },
          "metadata": {
            "tags": []
          },
          "execution_count": 11
        }
      ]
    },
    {
      "cell_type": "markdown",
      "metadata": {
        "id": "ErKHkriARRBv"
      },
      "source": [
        "**Histograma da idade dos tripulantes**"
      ]
    },
    {
      "cell_type": "code",
      "metadata": {
        "colab": {
          "base_uri": "https://localhost:8080/",
          "height": 282
        },
        "id": "_FO-d6yQqraq",
        "outputId": "2f6ca4b3-7277-4d5c-f864-215aae438869"
      },
      "source": [
        "titanic['Age'].hist()\n"
      ],
      "execution_count": null,
      "outputs": [
        {
          "output_type": "execute_result",
          "data": {
            "text/plain": [
              "<matplotlib.axes._subplots.AxesSubplot at 0x7faf434b4fd0>"
            ]
          },
          "metadata": {
            "tags": []
          },
          "execution_count": 12
        },
        {
          "output_type": "display_data",
          "data": {
            "image/png": "[encoded data removed]",
            "text/plain": [
              "<Figure size 432x288 with 1 Axes>"
            ]
          },
          "metadata": {
            "tags": [],
            "needs_background": "light"
          }
        }
      ]
    },
    {
      "cell_type": "code",
      "metadata": {
        "colab": {
          "base_uri": "https://localhost:8080/",
          "height": 242
        },
        "id": "c0aFtxj4xZfg",
        "outputId": "fef65101-f66d-4f75-bac0-9d7c949ae662"
      },
      "source": [
        "titanic.plot.scatter(x='Age', y='Sex', c='green', figsize=(12,3))"
      ],
      "execution_count": null,
      "outputs": [
        {
          "output_type": "execute_result",
          "data": {
            "text/plain": [
              "<matplotlib.axes._subplots.AxesSubplot at 0x7faf4343d250>"
            ]
          },
          "metadata": {
            "tags": []
          },
          "execution_count": 13
        },
        {
          "output_type": "display_data",
          "data": {
            "image/png": "[encoded data removed]",
            "text/plain": [
              "<Figure size 864x216 with 1 Axes>"
            ]
          },
          "metadata": {
            "tags": [],
            "needs_background": "light"
          }
        }
      ]
    },
    {
      "cell_type": "code",
      "metadata": {
        "colab": {
          "base_uri": "https://localhost:8080/",
          "height": 282
        },
        "id": "Uu0XP-x821Kr",
        "outputId": "5a58a8cb-c9f9-4fc4-b7e8-922496b781c8"
      },
      "source": [
        "titanic.plot()"
      ],
      "execution_count": null,
      "outputs": [
        {
          "output_type": "execute_result",
          "data": {
            "text/plain": [
              "<matplotlib.axes._subplots.AxesSubplot at 0x7faf42f02dd0>"
            ]
          },
          "metadata": {
            "tags": []
          },
          "execution_count": 14
        },
        {
          "output_type": "display_data",
          "data": {
            "image/png": "[encoded data removed]",
            "text/plain": [
              "<Figure size 432x288 with 1 Axes>"
            ]
          },
          "metadata": {
            "tags": [],
            "needs_background": "light"
          }
        }
      ]
    },
    {
      "cell_type": "markdown",
      "metadata": {
        "id": "_1mlzf7D4NsS"
      },
      "source": [
        "**Total de mortos e vivos, 0 = mortos e 1 = vivo**"
      ]
    },
    {
      "cell_type": "code",
      "metadata": {
        "colab": {
          "base_uri": "https://localhost:8080/"
        },
        "id": "Z6_QMsTo3nkD",
        "outputId": "df6c19f3-9116-44e1-824f-f2856d8bebc1"
      },
      "source": [
        "titanic['Survived'].value_counts()\n"
      ],
      "execution_count": null,
      "outputs": [
        {
          "output_type": "execute_result",
          "data": {
            "text/plain": [
              "0    549\n",
              "1    342\n",
              "Name: Survived, dtype: int64"
            ]
          },
          "metadata": {
            "tags": []
          },
          "execution_count": 15
        }
      ]
    },
    {
      "cell_type": "code",
      "metadata": {
        "id": "_eU8VIKB3iEy"
      },
      "source": [
        "import plotly.express as px"
      ],
      "execution_count": null,
      "outputs": []
    },
    {
      "cell_type": "code",
      "metadata": {
        "colab": {
          "base_uri": "https://localhost:8080/",
          "height": 1000
        },
        "id": "X59VPIgv27B6",
        "outputId": "e21c220a-2c81-466e-deae-3ff77bd33171"
      },
      "source": [
        "for coluna in titanic:\n",
        "  grafico = px.histogram(titanic, x=coluna, color=\"Survived\")\n",
        "  grafico.show()"
      ],
      "execution_count": null,
      "outputs": [
        {
          "output_type": "display_data",
          "data": {
            "text/html": [
              "<html>\n",
              "<head><meta charset=\"utf-8\" /></head>\n",
              "<body>\n",
              "    <div>\n",
              "            <script src=\"https://cdnjs.cloudflare.com/ajax/libs/mathjax/2.7.5/MathJax.js?config=TeX-AMS-MML_SVG\"></script><script type=\"text/javascript\">if (window.MathJax) {MathJax.Hub.Config({SVG: {font: \"STIX-Web\"}});}</script>\n",
              "                <script type=\"text/javascript\">window.PlotlyConfig = {MathJaxConfig: 'local'};</script>\n",
              "        <script src=\"https://cdn.plot.ly/plotly-latest.min.js\"></script>    \n",
              "            <div id=\"9753fa0e-fa45-42ec-a505-faa6eca9ce03\" class=\"plotly-graph-div\" style=\"height:525px; width:100%;\"></div>\n",
              "            <script type=\"text/javascript\">\n",
              "                \n",
              "                    window.PLOTLYENV=window.PLOTLYENV || {};\n",
              "                    \n",
              "                if (document.getElementById(\"9753fa0e-fa45-42ec-a505-faa6eca9ce03\")) {\n",
              "                    Plotly.newPlot(\n",
              "                        '9753fa0e-fa45-42ec-a505-faa6eca9ce03',\n",
              "                        [{\"alignmentgroup\": \"True\", \"bingroup\": \"x\", \"hoverlabel\": {\"namelength\": 0}, \"hovertemplate\": \"Survived=%{x}<br>count=%{y}\", \"legendgroup\": \"Survived=0\", \"marker\": {\"color\": \"#636efa\"}, \"name\": \"Survived=0\", \"offsetgroup\": \"Survived=0\", \"orientation\": \"v\", \"showlegend\": true, \"type\": \"histogram\", \"x\": [0, 0, 0, 0, 0, 0, 0, 0, 0, 0, 0, 0, 0, 0, 0, 0, 0, 0, 0, 0, 0, 0, 0, 0, 0, 0, 0, 0, 0, 0, 0, 0, 0, 0, 0, 0, 0, 0, 0, 0, 0, 0, 0, 0, 0, 0, 0, 0, 0, 0, 0, 0, 0, 0, 0, 0, 0, 0, 0, 0, 0, 0, 0, 0, 0, 0, 0, 0, 0, 0, 0, 0, 0, 0, 0, 0, 0, 0, 0, 0, 0, 0, 0, 0, 0, 0, 0, 0, 0, 0, 0, 0, 0, 0, 0, 0, 0, 0, 0, 0, 0, 0, 0, 0, 0, 0, 0, 0, 0, 0, 0, 0, 0, 0, 0, 0, 0, 0, 0, 0, 0, 0, 0, 0, 0, 0, 0, 0, 0, 0, 0, 0, 0, 0, 0, 0, 0, 0, 0, 0, 0, 0, 0, 0, 0, 0, 0, 0, 0, 0, 0, 0, 0, 0, 0, 0, 0, 0, 0, 0, 0, 0, 0, 0, 0, 0, 0, 0, 0, 0, 0, 0, 0, 0, 0, 0, 0, 0, 0, 0, 0, 0, 0, 0, 0, 0, 0, 0, 0, 0, 0, 0, 0, 0, 0, 0, 0, 0, 0, 0, 0, 0, 0, 0, 0, 0, 0, 0, 0, 0, 0, 0, 0, 0, 0, 0, 0, 0, 0, 0, 0, 0, 0, 0, 0, 0, 0, 0, 0, 0, 0, 0, 0, 0, 0, 0, 0, 0, 0, 0, 0, 0, 0, 0, 0, 0, 0, 0, 0, 0, 0, 0, 0, 0, 0, 0, 0, 0, 0, 0, 0, 0, 0, 0, 0, 0, 0, 0, 0, 0, 0, 0, 0, 0, 0, 0, 0, 0, 0, 0, 0, 0, 0, 0, 0, 0, 0, 0, 0, 0, 0, 0, 0, 0, 0, 0, 0, 0, 0, 0, 0, 0, 0, 0, 0, 0, 0, 0, 0, 0, 0, 0, 0, 0, 0, 0, 0, 0, 0, 0, 0, 0, 0, 0, 0, 0, 0, 0, 0, 0, 0, 0, 0, 0, 0, 0, 0, 0, 0, 0, 0, 0, 0, 0, 0, 0, 0, 0, 0, 0, 0, 0, 0, 0, 0, 0, 0, 0, 0, 0, 0, 0, 0, 0, 0, 0, 0, 0, 0, 0, 0, 0, 0, 0, 0, 0, 0, 0, 0, 0, 0, 0, 0, 0, 0, 0, 0, 0, 0, 0, 0, 0, 0, 0, 0, 0, 0, 0, 0, 0, 0, 0, 0, 0, 0, 0, 0, 0, 0, 0, 0, 0, 0, 0, 0, 0, 0, 0, 0, 0, 0, 0, 0, 0, 0, 0, 0, 0, 0, 0, 0, 0, 0, 0, 0, 0, 0, 0, 0, 0, 0, 0, 0, 0, 0, 0, 0, 0, 0, 0, 0, 0, 0, 0, 0, 0, 0, 0, 0, 0, 0, 0, 0, 0, 0, 0, 0, 0, 0, 0, 0, 0, 0, 0, 0, 0, 0, 0, 0, 0, 0, 0, 0, 0, 0, 0, 0, 0, 0, 0, 0, 0, 0, 0, 0, 0, 0, 0, 0, 0, 0, 0, 0, 0, 0, 0, 0, 0, 0, 0, 0, 0, 0, 0, 0, 0, 0, 0, 0, 0, 0, 0, 0, 0, 0, 0, 0, 0, 0, 0, 0, 0, 0, 0, 0, 0, 0, 0, 0, 0, 0, 0, 0, 0, 0, 0, 0, 0, 0], \"xaxis\": \"x\", \"yaxis\": \"y\"}, {\"alignmentgroup\": \"True\", \"bingroup\": \"x\", \"hoverlabel\": {\"namelength\": 0}, \"hovertemplate\": \"Survived=%{x}<br>count=%{y}\", \"legendgroup\": \"Survived=1\", \"marker\": {\"color\": \"#EF553B\"}, \"name\": \"Survived=1\", \"offsetgroup\": \"Survived=1\", \"orientation\": \"v\", \"showlegend\": true, \"type\": \"histogram\", \"x\": [1, 1, 1, 1, 1, 1, 1, 1, 1, 1, 1, 1, 1, 1, 1, 1, 1, 1, 1, 1, 1, 1, 1, 1, 1, 1, 1, 1, 1, 1, 1, 1, 1, 1, 1, 1, 1, 1, 1, 1, 1, 1, 1, 1, 1, 1, 1, 1, 1, 1, 1, 1, 1, 1, 1, 1, 1, 1, 1, 1, 1, 1, 1, 1, 1, 1, 1, 1, 1, 1, 1, 1, 1, 1, 1, 1, 1, 1, 1, 1, 1, 1, 1, 1, 1, 1, 1, 1, 1, 1, 1, 1, 1, 1, 1, 1, 1, 1, 1, 1, 1, 1, 1, 1, 1, 1, 1, 1, 1, 1, 1, 1, 1, 1, 1, 1, 1, 1, 1, 1, 1, 1, 1, 1, 1, 1, 1, 1, 1, 1, 1, 1, 1, 1, 1, 1, 1, 1, 1, 1, 1, 1, 1, 1, 1, 1, 1, 1, 1, 1, 1, 1, 1, 1, 1, 1, 1, 1, 1, 1, 1, 1, 1, 1, 1, 1, 1, 1, 1, 1, 1, 1, 1, 1, 1, 1, 1, 1, 1, 1, 1, 1, 1, 1, 1, 1, 1, 1, 1, 1, 1, 1, 1, 1, 1, 1, 1, 1, 1, 1, 1, 1, 1, 1, 1, 1, 1, 1, 1, 1, 1, 1, 1, 1, 1, 1, 1, 1, 1, 1, 1, 1, 1, 1, 1, 1, 1, 1, 1, 1, 1, 1, 1, 1, 1, 1, 1, 1, 1, 1, 1, 1, 1, 1, 1, 1, 1, 1, 1, 1, 1, 1, 1, 1, 1, 1, 1, 1, 1, 1, 1, 1, 1, 1, 1, 1, 1, 1, 1, 1, 1, 1, 1, 1, 1, 1, 1, 1, 1, 1, 1, 1, 1, 1, 1, 1, 1, 1, 1, 1, 1, 1, 1, 1, 1, 1, 1, 1, 1, 1, 1, 1, 1, 1, 1, 1, 1, 1, 1, 1, 1, 1, 1, 1, 1, 1, 1, 1, 1, 1, 1, 1, 1, 1, 1, 1, 1, 1, 1, 1, 1, 1, 1, 1, 1, 1, 1, 1, 1, 1, 1, 1], \"xaxis\": \"x\", \"yaxis\": \"y\"}],\n",
              "                        {\"barmode\": \"relative\", \"legend\": {\"tracegroupgap\": 0}, \"margin\": {\"t\": 60}, \"template\": {\"data\": {\"bar\": [{\"error_x\": {\"color\": \"#2a3f5f\"}, \"error_y\": {\"color\": \"#2a3f5f\"}, \"marker\": {\"line\": {\"color\": \"#E5ECF6\", \"width\": 0.5}}, \"type\": \"bar\"}], \"barpolar\": [{\"marker\": {\"line\": {\"color\": \"#E5ECF6\", \"width\": 0.5}}, \"type\": \"barpolar\"}], \"carpet\": [{\"aaxis\": {\"endlinecolor\": \"#2a3f5f\", \"gridcolor\": \"white\", \"linecolor\": \"white\", \"minorgridcolor\": \"white\", \"startlinecolor\": \"#2a3f5f\"}, \"baxis\": {\"endlinecolor\": \"#2a3f5f\", \"gridcolor\": \"white\", \"linecolor\": \"white\", \"minorgridcolor\": \"white\", \"startlinecolor\": \"#2a3f5f\"}, \"type\": \"carpet\"}], \"choropleth\": [{\"colorbar\": {\"outlinewidth\": 0, \"ticks\": \"\"}, \"type\": \"choropleth\"}], \"contour\": [{\"colorbar\": {\"outlinewidth\": 0, \"ticks\": \"\"}, \"colorscale\": [[0.0, \"#0d0887\"], [0.1111111111111111, \"#46039f\"], [0.2222222222222222, \"#7201a8\"], [0.3333333333333333, \"#9c179e\"], [0.4444444444444444, \"#bd3786\"], [0.5555555555555556, \"#d8576b\"], [0.6666666666666666, \"#ed7953\"], [0.7777777777777778, \"#fb9f3a\"], [0.8888888888888888, \"#fdca26\"], [1.0, \"#f0f921\"]], \"type\": \"contour\"}], \"contourcarpet\": [{\"colorbar\": {\"outlinewidth\": 0, \"ticks\": \"\"}, \"type\": \"contourcarpet\"}], \"heatmap\": [{\"colorbar\": {\"outlinewidth\": 0, \"ticks\": \"\"}, \"colorscale\": [[0.0, \"#0d0887\"], [0.1111111111111111, \"#46039f\"], [0.2222222222222222, \"#7201a8\"], [0.3333333333333333, \"#9c179e\"], [0.4444444444444444, \"#bd3786\"], [0.5555555555555556, \"#d8576b\"], [0.6666666666666666, \"#ed7953\"], [0.7777777777777778, \"#fb9f3a\"], [0.8888888888888888, \"#fdca26\"], [1.0, \"#f0f921\"]], \"type\": \"heatmap\"}], \"heatmapgl\": [{\"colorbar\": {\"outlinewidth\": 0, \"ticks\": \"\"}, \"colorscale\": [[0.0, \"#0d0887\"], [0.1111111111111111, \"#46039f\"], [0.2222222222222222, \"#7201a8\"], [0.3333333333333333, \"#9c179e\"], [0.4444444444444444, \"#bd3786\"], [0.5555555555555556, \"#d8576b\"], [0.6666666666666666, \"#ed7953\"], [0.7777777777777778, \"#fb9f3a\"], [0.8888888888888888, \"#fdca26\"], [1.0, \"#f0f921\"]], \"type\": \"heatmapgl\"}], \"histogram\": [{\"marker\": {\"colorbar\": {\"outlinewidth\": 0, \"ticks\": \"\"}}, \"type\": \"histogram\"}], \"histogram2d\": [{\"colorbar\": {\"outlinewidth\": 0, \"ticks\": \"\"}, \"colorscale\": [[0.0, \"#0d0887\"], [0.1111111111111111, \"#46039f\"], [0.2222222222222222, \"#7201a8\"], [0.3333333333333333, \"#9c179e\"], [0.4444444444444444, \"#bd3786\"], [0.5555555555555556, \"#d8576b\"], [0.6666666666666666, \"#ed7953\"], [0.7777777777777778, \"#fb9f3a\"], [0.8888888888888888, \"#fdca26\"], [1.0, \"#f0f921\"]], \"type\": \"histogram2d\"}], \"histogram2dcontour\": [{\"colorbar\": {\"outlinewidth\": 0, \"ticks\": \"\"}, \"colorscale\": [[0.0, \"#0d0887\"], [0.1111111111111111, \"#46039f\"], [0.2222222222222222, \"#7201a8\"], [0.3333333333333333, \"#9c179e\"], [0.4444444444444444, \"#bd3786\"], [0.5555555555555556, \"#d8576b\"], [0.6666666666666666, \"#ed7953\"], [0.7777777777777778, \"#fb9f3a\"], [0.8888888888888888, \"#fdca26\"], [1.0, \"#f0f921\"]], \"type\": \"histogram2dcontour\"}], \"mesh3d\": [{\"colorbar\": {\"outlinewidth\": 0, \"ticks\": \"\"}, \"type\": \"mesh3d\"}], \"parcoords\": [{\"line\": {\"colorbar\": {\"outlinewidth\": 0, \"ticks\": \"\"}}, \"type\": \"parcoords\"}], \"pie\": [{\"automargin\": true, \"type\": \"pie\"}], \"scatter\": [{\"marker\": {\"colorbar\": {\"outlinewidth\": 0, \"ticks\": \"\"}}, \"type\": \"scatter\"}], \"scatter3d\": [{\"line\": {\"colorbar\": {\"outlinewidth\": 0, \"ticks\": \"\"}}, \"marker\": {\"colorbar\": {\"outlinewidth\": 0, \"ticks\": \"\"}}, \"type\": \"scatter3d\"}], \"scattercarpet\": [{\"marker\": {\"colorbar\": {\"outlinewidth\": 0, \"ticks\": \"\"}}, \"type\": \"scattercarpet\"}], \"scattergeo\": [{\"marker\": {\"colorbar\": {\"outlinewidth\": 0, \"ticks\": \"\"}}, \"type\": \"scattergeo\"}], \"scattergl\": [{\"marker\": {\"colorbar\": {\"outlinewidth\": 0, \"ticks\": \"\"}}, \"type\": \"scattergl\"}], \"scattermapbox\": [{\"marker\": {\"colorbar\": {\"outlinewidth\": 0, \"ticks\": \"\"}}, \"type\": \"scattermapbox\"}], \"scatterpolar\": [{\"marker\": {\"colorbar\": {\"outlinewidth\": 0, \"ticks\": \"\"}}, \"type\": \"scatterpolar\"}], \"scatterpolargl\": [{\"marker\": {\"colorbar\": {\"outlinewidth\": 0, \"ticks\": \"\"}}, \"type\": \"scatterpolargl\"}], \"scatterternary\": [{\"marker\": {\"colorbar\": {\"outlinewidth\": 0, \"ticks\": \"\"}}, \"type\": \"scatterternary\"}], \"surface\": [{\"colorbar\": {\"outlinewidth\": 0, \"ticks\": \"\"}, \"colorscale\": [[0.0, \"#0d0887\"], [0.1111111111111111, \"#46039f\"], [0.2222222222222222, \"#7201a8\"], [0.3333333333333333, \"#9c179e\"], [0.4444444444444444, \"#bd3786\"], [0.5555555555555556, \"#d8576b\"], [0.6666666666666666, \"#ed7953\"], [0.7777777777777778, \"#fb9f3a\"], [0.8888888888888888, \"#fdca26\"], [1.0, \"#f0f921\"]], \"type\": \"surface\"}], \"table\": [{\"cells\": {\"fill\": {\"color\": \"#EBF0F8\"}, \"line\": {\"color\": \"white\"}}, \"header\": {\"fill\": {\"color\": \"#C8D4E3\"}, \"line\": {\"color\": \"white\"}}, \"type\": \"table\"}]}, \"layout\": {\"annotationdefaults\": {\"arrowcolor\": \"#2a3f5f\", \"arrowhead\": 0, \"arrowwidth\": 1}, \"coloraxis\": {\"colorbar\": {\"outlinewidth\": 0, \"ticks\": \"\"}}, \"colorscale\": {\"diverging\": [[0, \"#8e0152\"], [0.1, \"#c51b7d\"], [0.2, \"#de77ae\"], [0.3, \"#f1b6da\"], [0.4, \"#fde0ef\"], [0.5, \"#f7f7f7\"], [0.6, \"#e6f5d0\"], [0.7, \"#b8e186\"], [0.8, \"#7fbc41\"], [0.9, \"#4d9221\"], [1, \"#276419\"]], \"sequential\": [[0.0, \"#0d0887\"], [0.1111111111111111, \"#46039f\"], [0.2222222222222222, \"#7201a8\"], [0.3333333333333333, \"#9c179e\"], [0.4444444444444444, \"#bd3786\"], [0.5555555555555556, \"#d8576b\"], [0.6666666666666666, \"#ed7953\"], [0.7777777777777778, \"#fb9f3a\"], [0.8888888888888888, \"#fdca26\"], [1.0, \"#f0f921\"]], \"sequentialminus\": [[0.0, \"#0d0887\"], [0.1111111111111111, \"#46039f\"], [0.2222222222222222, \"#7201a8\"], [0.3333333333333333, \"#9c179e\"], [0.4444444444444444, \"#bd3786\"], [0.5555555555555556, \"#d8576b\"], [0.6666666666666666, \"#ed7953\"], [0.7777777777777778, \"#fb9f3a\"], [0.8888888888888888, \"#fdca26\"], [1.0, \"#f0f921\"]]}, \"colorway\": [\"#636efa\", \"#EF553B\", \"#00cc96\", \"#ab63fa\", \"#FFA15A\", \"#19d3f3\", \"#FF6692\", \"#B6E880\", \"#FF97FF\", \"#FECB52\"], \"font\": {\"color\": \"#2a3f5f\"}, \"geo\": {\"bgcolor\": \"white\", \"lakecolor\": \"white\", \"landcolor\": \"#E5ECF6\", \"showlakes\": true, \"showland\": true, \"subunitcolor\": \"white\"}, \"hoverlabel\": {\"align\": \"left\"}, \"hovermode\": \"closest\", \"mapbox\": {\"style\": \"light\"}, \"paper_bgcolor\": \"white\", \"plot_bgcolor\": \"#E5ECF6\", \"polar\": {\"angularaxis\": {\"gridcolor\": \"white\", \"linecolor\": \"white\", \"ticks\": \"\"}, \"bgcolor\": \"#E5ECF6\", \"radialaxis\": {\"gridcolor\": \"white\", \"linecolor\": \"white\", \"ticks\": \"\"}}, \"scene\": {\"xaxis\": {\"backgroundcolor\": \"#E5ECF6\", \"gridcolor\": \"white\", \"gridwidth\": 2, \"linecolor\": \"white\", \"showbackground\": true, \"ticks\": \"\", \"zerolinecolor\": \"white\"}, \"yaxis\": {\"backgroundcolor\": \"#E5ECF6\", \"gridcolor\": \"white\", \"gridwidth\": 2, \"linecolor\": \"white\", \"showbackground\": true, \"ticks\": \"\", \"zerolinecolor\": \"white\"}, \"zaxis\": {\"backgroundcolor\": \"#E5ECF6\", \"gridcolor\": \"white\", \"gridwidth\": 2, \"linecolor\": \"white\", \"showbackground\": true, \"ticks\": \"\", \"zerolinecolor\": \"white\"}}, \"shapedefaults\": {\"line\": {\"color\": \"#2a3f5f\"}}, \"ternary\": {\"aaxis\": {\"gridcolor\": \"white\", \"linecolor\": \"white\", \"ticks\": \"\"}, \"baxis\": {\"gridcolor\": \"white\", \"linecolor\": \"white\", \"ticks\": \"\"}, \"bgcolor\": \"#E5ECF6\", \"caxis\": {\"gridcolor\": \"white\", \"linecolor\": \"white\", \"ticks\": \"\"}}, \"title\": {\"x\": 0.05}, \"xaxis\": {\"automargin\": true, \"gridcolor\": \"white\", \"linecolor\": \"white\", \"ticks\": \"\", \"title\": {\"standoff\": 15}, \"zerolinecolor\": \"white\", \"zerolinewidth\": 2}, \"yaxis\": {\"automargin\": true, \"gridcolor\": \"white\", \"linecolor\": \"white\", \"ticks\": \"\", \"title\": {\"standoff\": 15}, \"zerolinecolor\": \"white\", \"zerolinewidth\": 2}}}, \"xaxis\": {\"anchor\": \"y\", \"categoryarray\": [0, 1], \"categoryorder\": \"array\", \"domain\": [0.0, 1.0], \"title\": {\"text\": \"Survived\"}}, \"yaxis\": {\"anchor\": \"x\", \"domain\": [0.0, 1.0], \"title\": {\"text\": \"count\"}}},\n",
              "                        {\"responsive\": true}\n",
              "                    ).then(function(){\n",
              "                            \n",
              "var gd = document.getElementById('9753fa0e-fa45-42ec-a505-faa6eca9ce03');\n",
              "var x = new MutationObserver(function (mutations, observer) {{\n",
              "        var display = window.getComputedStyle(gd).display;\n",
              "        if (!display || display === 'none') {{\n",
              "            console.log([gd, 'removed!']);\n",
              "            Plotly.purge(gd);\n",
              "            observer.disconnect();\n",
              "        }}\n",
              "}});\n",
              "\n",
              "// Listen for the removal of the full notebook cells\n",
              "var notebookContainer = gd.closest('#notebook-container');\n",
              "if (notebookContainer) {{\n",
              "    x.observe(notebookContainer, {childList: true});\n",
              "}}\n",
              "\n",
              "// Listen for the clearing of the current output cell\n",
              "var outputEl = gd.closest('.output');\n",
              "if (outputEl) {{\n",
              "    x.observe(outputEl, {childList: true});\n",
              "}}\n",
              "\n",
              "                        })\n",
              "                };\n",
              "                \n",
              "            </script>\n",
              "        </div>\n",
              "</body>\n",
              "</html>"
            ]
          },
          "metadata": {
            "tags": []
          }
        },
        {
          "output_type": "display_data",
          "data": {
            "text/html": [
              "<html>\n",
              "<head><meta charset=\"utf-8\" /></head>\n",
              "<body>\n",
              "    <div>\n",
              "            <script src=\"https://cdnjs.cloudflare.com/ajax/libs/mathjax/2.7.5/MathJax.js?config=TeX-AMS-MML_SVG\"></script><script type=\"text/javascript\">if (window.MathJax) {MathJax.Hub.Config({SVG: {font: \"STIX-Web\"}});}</script>\n",
              "                <script type=\"text/javascript\">window.PlotlyConfig = {MathJaxConfig: 'local'};</script>\n",
              "        <script src=\"https://cdn.plot.ly/plotly-latest.min.js\"></script>    \n",
              "            <div id=\"80834399-2af4-46ae-8ac6-f6d2bf7d9117\" class=\"plotly-graph-div\" style=\"height:525px; width:100%;\"></div>\n",
              "            <script type=\"text/javascript\">\n",
              "                \n",
              "                    window.PLOTLYENV=window.PLOTLYENV || {};\n",
              "                    \n",
              "                if (document.getElementById(\"80834399-2af4-46ae-8ac6-f6d2bf7d9117\")) {\n",
              "                    Plotly.newPlot(\n",
              "                        '80834399-2af4-46ae-8ac6-f6d2bf7d9117',\n",
              "                        [{\"alignmentgroup\": \"True\", \"bingroup\": \"x\", \"hoverlabel\": {\"namelength\": 0}, \"hovertemplate\": \"Survived=0<br>Pclass=%{x}<br>count=%{y}\", \"legendgroup\": \"Survived=0\", \"marker\": {\"color\": \"#636efa\"}, \"name\": \"Survived=0\", \"offsetgroup\": \"Survived=0\", \"orientation\": \"v\", \"showlegend\": true, \"type\": \"histogram\", \"x\": [3, 3, 3, 1, 3, 3, 3, 3, 3, 3, 2, 3, 3, 1, 3, 1, 2, 1, 1, 3, 3, 3, 2, 3, 3, 3, 3, 3, 3, 3, 1, 3, 3, 3, 1, 3, 1, 3, 3, 2, 3, 2, 3, 3, 3, 3, 3, 1, 3, 3, 3, 3, 3, 1, 3, 3, 3, 1, 2, 3, 3, 1, 3, 3, 3, 3, 1, 3, 3, 3, 3, 3, 3, 2, 1, 3, 2, 3, 2, 1, 3, 3, 3, 3, 3, 2, 2, 1, 3, 1, 3, 3, 2, 2, 3, 2, 2, 2, 3, 3, 3, 1, 3, 3, 3, 3, 3, 3, 3, 3, 1, 3, 1, 3, 3, 1, 3, 3, 1, 2, 3, 3, 2, 3, 1, 3, 3, 2, 3, 3, 2, 3, 3, 3, 3, 3, 3, 3, 3, 2, 3, 2, 2, 2, 3, 3, 3, 3, 2, 3, 3, 2, 2, 3, 2, 2, 2, 3, 2, 3, 3, 1, 3, 2, 3, 3, 1, 3, 3, 3, 1, 1, 3, 2, 3, 1, 1, 3, 2, 3, 3, 3, 3, 1, 3, 3, 2, 3, 3, 1, 3, 1, 3, 3, 2, 2, 3, 2, 2, 3, 3, 3, 3, 1, 1, 3, 3, 1, 1, 2, 2, 2, 3, 3, 1, 3, 3, 3, 3, 2, 3, 2, 3, 3, 3, 3, 3, 3, 1, 3, 1, 3, 3, 3, 3, 2, 3, 3, 3, 3, 3, 2, 2, 3, 3, 3, 3, 2, 3, 3, 3, 3, 3, 2, 3, 2, 3, 3, 3, 3, 3, 3, 3, 3, 3, 1, 3, 1, 2, 3, 3, 2, 3, 1, 3, 1, 3, 3, 1, 2, 3, 3, 2, 1, 3, 3, 3, 3, 1, 2, 3, 3, 3, 2, 3, 3, 1, 3, 3, 3, 1, 1, 3, 3, 3, 1, 3, 3, 3, 3, 3, 1, 3, 3, 3, 1, 3, 3, 3, 3, 3, 3, 1, 3, 2, 3, 3, 3, 1, 3, 3, 3, 1, 1, 3, 2, 3, 1, 1, 3, 3, 2, 3, 3, 3, 3, 3, 3, 3, 3, 3, 2, 1, 3, 2, 3, 3, 3, 3, 3, 2, 3, 3, 3, 3, 1, 3, 3, 3, 3, 3, 3, 3, 3, 3, 2, 3, 3, 3, 1, 2, 3, 3, 3, 1, 3, 3, 2, 3, 3, 3, 3, 3, 3, 3, 3, 3, 2, 3, 3, 2, 1, 3, 1, 3, 2, 2, 3, 3, 1, 2, 2, 3, 3, 3, 3, 3, 3, 2, 2, 3, 3, 3, 3, 1, 2, 3, 1, 3, 3, 3, 3, 2, 1, 3, 2, 3, 3, 3, 3, 2, 2, 3, 2, 3, 3, 2, 2, 2, 3, 3, 3, 3, 1, 3, 1, 3, 1, 3, 3, 3, 3, 2, 3, 3, 3, 3, 1, 3, 3, 3, 3, 3, 2, 3, 3, 3, 3, 1, 3, 3, 3, 3, 1, 3, 2, 3, 1, 3, 2, 3, 3, 2, 3, 1, 3, 2, 3, 3, 2, 3, 3, 1, 3, 2, 3, 3, 1, 3, 3, 3, 3, 3, 3, 3, 3, 3, 2, 3, 3, 3, 3, 3, 2, 3, 3, 3, 2, 3, 3, 2, 3, 2, 1, 3, 3, 1, 3, 3, 3, 3, 3, 3, 2, 3, 3, 2, 3, 3], \"xaxis\": \"x\", \"yaxis\": \"y\"}, {\"alignmentgroup\": \"True\", \"bingroup\": \"x\", \"hoverlabel\": {\"namelength\": 0}, \"hovertemplate\": \"Survived=1<br>Pclass=%{x}<br>count=%{y}\", \"legendgroup\": \"Survived=1\", \"marker\": {\"color\": \"#EF553B\"}, \"name\": \"Survived=1\", \"offsetgroup\": \"Survived=1\", \"orientation\": \"v\", \"showlegend\": true, \"type\": \"histogram\", \"x\": [1, 3, 1, 3, 2, 3, 1, 2, 2, 3, 2, 3, 1, 3, 3, 1, 3, 3, 3, 2, 3, 3, 1, 2, 1, 2, 2, 1, 3, 2, 3, 3, 2, 3, 3, 3, 2, 3, 1, 1, 2, 3, 3, 3, 2, 3, 3, 3, 2, 1, 3, 3, 3, 1, 3, 2, 3, 1, 3, 2, 3, 3, 1, 2, 3, 2, 1, 1, 3, 3, 3, 3, 1, 2, 1, 3, 1, 3, 1, 2, 1, 3, 2, 3, 2, 1, 3, 1, 1, 1, 2, 3, 3, 1, 1, 3, 2, 3, 1, 3, 3, 3, 2, 3, 1, 1, 1, 1, 3, 3, 2, 1, 1, 1, 1, 1, 1, 3, 2, 1, 1, 2, 2, 1, 2, 3, 1, 3, 1, 1, 3, 2, 1, 2, 2, 3, 3, 1, 3, 3, 1, 3, 3, 1, 1, 1, 3, 1, 3, 1, 2, 2, 1, 3, 1, 3, 2, 3, 2, 1, 3, 2, 2, 2, 2, 3, 1, 3, 2, 1, 2, 2, 2, 3, 1, 2, 1, 3, 1, 1, 3, 1, 2, 1, 3, 2, 2, 3, 3, 1, 1, 3, 1, 1, 2, 1, 3, 3, 1, 1, 2, 2, 1, 1, 2, 2, 3, 2, 1, 1, 1, 2, 2, 2, 2, 1, 3, 3, 1, 1, 3, 3, 2, 1, 1, 3, 2, 1, 3, 2, 1, 1, 1, 1, 2, 1, 2, 1, 1, 2, 1, 3, 2, 2, 1, 3, 1, 1, 1, 2, 1, 3, 3, 1, 1, 3, 2, 3, 1, 3, 1, 2, 2, 3, 1, 1, 1, 1, 3, 3, 3, 1, 1, 2, 1, 1, 3, 1, 1, 1, 2, 2, 1, 2, 3, 1, 1, 1, 1, 3, 2, 2, 3, 2, 2, 1, 3, 1, 1, 2, 3, 1, 3, 1, 3, 3, 1, 3, 2, 1, 3, 3, 1, 1, 3, 3, 2, 3, 1, 3, 2, 1, 3, 1, 1, 1, 1, 3, 1, 1, 3, 1, 2, 2, 3, 1, 2, 3, 1, 2, 1, 1], \"xaxis\": \"x\", \"yaxis\": \"y\"}],\n",
              "                        {\"barmode\": \"relative\", \"legend\": {\"tracegroupgap\": 0}, \"margin\": {\"t\": 60}, \"template\": {\"data\": {\"bar\": [{\"error_x\": {\"color\": \"#2a3f5f\"}, \"error_y\": {\"color\": \"#2a3f5f\"}, \"marker\": {\"line\": {\"color\": \"#E5ECF6\", \"width\": 0.5}}, \"type\": \"bar\"}], \"barpolar\": [{\"marker\": {\"line\": {\"color\": \"#E5ECF6\", \"width\": 0.5}}, \"type\": \"barpolar\"}], \"carpet\": [{\"aaxis\": {\"endlinecolor\": \"#2a3f5f\", \"gridcolor\": \"white\", \"linecolor\": \"white\", \"minorgridcolor\": \"white\", \"startlinecolor\": \"#2a3f5f\"}, \"baxis\": {\"endlinecolor\": \"#2a3f5f\", \"gridcolor\": \"white\", \"linecolor\": \"white\", \"minorgridcolor\": \"white\", \"startlinecolor\": \"#2a3f5f\"}, \"type\": \"carpet\"}], \"choropleth\": [{\"colorbar\": {\"outlinewidth\": 0, \"ticks\": \"\"}, \"type\": \"choropleth\"}], \"contour\": [{\"colorbar\": {\"outlinewidth\": 0, \"ticks\": \"\"}, \"colorscale\": [[0.0, \"#0d0887\"], [0.1111111111111111, \"#46039f\"], [0.2222222222222222, \"#7201a8\"], [0.3333333333333333, \"#9c179e\"], [0.4444444444444444, \"#bd3786\"], [0.5555555555555556, \"#d8576b\"], [0.6666666666666666, \"#ed7953\"], [0.7777777777777778, \"#fb9f3a\"], [0.8888888888888888, \"#fdca26\"], [1.0, \"#f0f921\"]], \"type\": \"contour\"}], \"contourcarpet\": [{\"colorbar\": {\"outlinewidth\": 0, \"ticks\": \"\"}, \"type\": \"contourcarpet\"}], \"heatmap\": [{\"colorbar\": {\"outlinewidth\": 0, \"ticks\": \"\"}, \"colorscale\": [[0.0, \"#0d0887\"], [0.1111111111111111, \"#46039f\"], [0.2222222222222222, \"#7201a8\"], [0.3333333333333333, \"#9c179e\"], [0.4444444444444444, \"#bd3786\"], [0.5555555555555556, \"#d8576b\"], [0.6666666666666666, \"#ed7953\"], [0.7777777777777778, \"#fb9f3a\"], [0.8888888888888888, \"#fdca26\"], [1.0, \"#f0f921\"]], \"type\": \"heatmap\"}], \"heatmapgl\": [{\"colorbar\": {\"outlinewidth\": 0, \"ticks\": \"\"}, \"colorscale\": [[0.0, \"#0d0887\"], [0.1111111111111111, \"#46039f\"], [0.2222222222222222, \"#7201a8\"], [0.3333333333333333, \"#9c179e\"], [0.4444444444444444, \"#bd3786\"], [0.5555555555555556, \"#d8576b\"], [0.6666666666666666, \"#ed7953\"], [0.7777777777777778, \"#fb9f3a\"], [0.8888888888888888, \"#fdca26\"], [1.0, \"#f0f921\"]], \"type\": \"heatmapgl\"}], \"histogram\": [{\"marker\": {\"colorbar\": {\"outlinewidth\": 0, \"ticks\": \"\"}}, \"type\": \"histogram\"}], \"histogram2d\": [{\"colorbar\": {\"outlinewidth\": 0, \"ticks\": \"\"}, \"colorscale\": [[0.0, \"#0d0887\"], [0.1111111111111111, \"#46039f\"], [0.2222222222222222, \"#7201a8\"], [0.3333333333333333, \"#9c179e\"], [0.4444444444444444, \"#bd3786\"], [0.5555555555555556, \"#d8576b\"], [0.6666666666666666, \"#ed7953\"], [0.7777777777777778, \"#fb9f3a\"], [0.8888888888888888, \"#fdca26\"], [1.0, \"#f0f921\"]], \"type\": \"histogram2d\"}], \"histogram2dcontour\": [{\"colorbar\": {\"outlinewidth\": 0, \"ticks\": \"\"}, \"colorscale\": [[0.0, \"#0d0887\"], [0.1111111111111111, \"#46039f\"], [0.2222222222222222, \"#7201a8\"], [0.3333333333333333, \"#9c179e\"], [0.4444444444444444, \"#bd3786\"], [0.5555555555555556, \"#d8576b\"], [0.6666666666666666, \"#ed7953\"], [0.7777777777777778, \"#fb9f3a\"], [0.8888888888888888, \"#fdca26\"], [1.0, \"#f0f921\"]], \"type\": \"histogram2dcontour\"}], \"mesh3d\": [{\"colorbar\": {\"outlinewidth\": 0, \"ticks\": \"\"}, \"type\": \"mesh3d\"}], \"parcoords\": [{\"line\": {\"colorbar\": {\"outlinewidth\": 0, \"ticks\": \"\"}}, \"type\": \"parcoords\"}], \"pie\": [{\"automargin\": true, \"type\": \"pie\"}], \"scatter\": [{\"marker\": {\"colorbar\": {\"outlinewidth\": 0, \"ticks\": \"\"}}, \"type\": \"scatter\"}], \"scatter3d\": [{\"line\": {\"colorbar\": {\"outlinewidth\": 0, \"ticks\": \"\"}}, \"marker\": {\"colorbar\": {\"outlinewidth\": 0, \"ticks\": \"\"}}, \"type\": \"scatter3d\"}], \"scattercarpet\": [{\"marker\": {\"colorbar\": {\"outlinewidth\": 0, \"ticks\": \"\"}}, \"type\": \"scattercarpet\"}], \"scattergeo\": [{\"marker\": {\"colorbar\": {\"outlinewidth\": 0, \"ticks\": \"\"}}, \"type\": \"scattergeo\"}], \"scattergl\": [{\"marker\": {\"colorbar\": {\"outlinewidth\": 0, \"ticks\": \"\"}}, \"type\": \"scattergl\"}], \"scattermapbox\": [{\"marker\": {\"colorbar\": {\"outlinewidth\": 0, \"ticks\": \"\"}}, \"type\": \"scattermapbox\"}], \"scatterpolar\": [{\"marker\": {\"colorbar\": {\"outlinewidth\": 0, \"ticks\": \"\"}}, \"type\": \"scatterpolar\"}], \"scatterpolargl\": [{\"marker\": {\"colorbar\": {\"outlinewidth\": 0, \"ticks\": \"\"}}, \"type\": \"scatterpolargl\"}], \"scatterternary\": [{\"marker\": {\"colorbar\": {\"outlinewidth\": 0, \"ticks\": \"\"}}, \"type\": \"scatterternary\"}], \"surface\": [{\"colorbar\": {\"outlinewidth\": 0, \"ticks\": \"\"}, \"colorscale\": [[0.0, \"#0d0887\"], [0.1111111111111111, \"#46039f\"], [0.2222222222222222, \"#7201a8\"], [0.3333333333333333, \"#9c179e\"], [0.4444444444444444, \"#bd3786\"], [0.5555555555555556, \"#d8576b\"], [0.6666666666666666, \"#ed7953\"], [0.7777777777777778, \"#fb9f3a\"], [0.8888888888888888, \"#fdca26\"], [1.0, \"#f0f921\"]], \"type\": \"surface\"}], \"table\": [{\"cells\": {\"fill\": {\"color\": \"#EBF0F8\"}, \"line\": {\"color\": \"white\"}}, \"header\": {\"fill\": {\"color\": \"#C8D4E3\"}, \"line\": {\"color\": \"white\"}}, \"type\": \"table\"}]}, \"layout\": {\"annotationdefaults\": {\"arrowcolor\": \"#2a3f5f\", \"arrowhead\": 0, \"arrowwidth\": 1}, \"coloraxis\": {\"colorbar\": {\"outlinewidth\": 0, \"ticks\": \"\"}}, \"colorscale\": {\"diverging\": [[0, \"#8e0152\"], [0.1, \"#c51b7d\"], [0.2, \"#de77ae\"], [0.3, \"#f1b6da\"], [0.4, \"#fde0ef\"], [0.5, \"#f7f7f7\"], [0.6, \"#e6f5d0\"], [0.7, \"#b8e186\"], [0.8, \"#7fbc41\"], [0.9, \"#4d9221\"], [1, \"#276419\"]], \"sequential\": [[0.0, \"#0d0887\"], [0.1111111111111111, \"#46039f\"], [0.2222222222222222, \"#7201a8\"], [0.3333333333333333, \"#9c179e\"], [0.4444444444444444, \"#bd3786\"], [0.5555555555555556, \"#d8576b\"], [0.6666666666666666, \"#ed7953\"], [0.7777777777777778, \"#fb9f3a\"], [0.8888888888888888, \"#fdca26\"], [1.0, \"#f0f921\"]], \"sequentialminus\": [[0.0, \"#0d0887\"], [0.1111111111111111, \"#46039f\"], [0.2222222222222222, \"#7201a8\"], [0.3333333333333333, \"#9c179e\"], [0.4444444444444444, \"#bd3786\"], [0.5555555555555556, \"#d8576b\"], [0.6666666666666666, \"#ed7953\"], [0.7777777777777778, \"#fb9f3a\"], [0.8888888888888888, \"#fdca26\"], [1.0, \"#f0f921\"]]}, \"colorway\": [\"#636efa\", \"#EF553B\", \"#00cc96\", \"#ab63fa\", \"#FFA15A\", \"#19d3f3\", \"#FF6692\", \"#B6E880\", \"#FF97FF\", \"#FECB52\"], \"font\": {\"color\": \"#2a3f5f\"}, \"geo\": {\"bgcolor\": \"white\", \"lakecolor\": \"white\", \"landcolor\": \"#E5ECF6\", \"showlakes\": true, \"showland\": true, \"subunitcolor\": \"white\"}, \"hoverlabel\": {\"align\": \"left\"}, \"hovermode\": \"closest\", \"mapbox\": {\"style\": \"light\"}, \"paper_bgcolor\": \"white\", \"plot_bgcolor\": \"#E5ECF6\", \"polar\": {\"angularaxis\": {\"gridcolor\": \"white\", \"linecolor\": \"white\", \"ticks\": \"\"}, \"bgcolor\": \"#E5ECF6\", \"radialaxis\": {\"gridcolor\": \"white\", \"linecolor\": \"white\", \"ticks\": \"\"}}, \"scene\": {\"xaxis\": {\"backgroundcolor\": \"#E5ECF6\", \"gridcolor\": \"white\", \"gridwidth\": 2, \"linecolor\": \"white\", \"showbackground\": true, \"ticks\": \"\", \"zerolinecolor\": \"white\"}, \"yaxis\": {\"backgroundcolor\": \"#E5ECF6\", \"gridcolor\": \"white\", \"gridwidth\": 2, \"linecolor\": \"white\", \"showbackground\": true, \"ticks\": \"\", \"zerolinecolor\": \"white\"}, \"zaxis\": {\"backgroundcolor\": \"#E5ECF6\", \"gridcolor\": \"white\", \"gridwidth\": 2, \"linecolor\": \"white\", \"showbackground\": true, \"ticks\": \"\", \"zerolinecolor\": \"white\"}}, \"shapedefaults\": {\"line\": {\"color\": \"#2a3f5f\"}}, \"ternary\": {\"aaxis\": {\"gridcolor\": \"white\", \"linecolor\": \"white\", \"ticks\": \"\"}, \"baxis\": {\"gridcolor\": \"white\", \"linecolor\": \"white\", \"ticks\": \"\"}, \"bgcolor\": \"#E5ECF6\", \"caxis\": {\"gridcolor\": \"white\", \"linecolor\": \"white\", \"ticks\": \"\"}}, \"title\": {\"x\": 0.05}, \"xaxis\": {\"automargin\": true, \"gridcolor\": \"white\", \"linecolor\": \"white\", \"ticks\": \"\", \"title\": {\"standoff\": 15}, \"zerolinecolor\": \"white\", \"zerolinewidth\": 2}, \"yaxis\": {\"automargin\": true, \"gridcolor\": \"white\", \"linecolor\": \"white\", \"ticks\": \"\", \"title\": {\"standoff\": 15}, \"zerolinecolor\": \"white\", \"zerolinewidth\": 2}}}, \"xaxis\": {\"anchor\": \"y\", \"domain\": [0.0, 1.0], \"title\": {\"text\": \"Pclass\"}}, \"yaxis\": {\"anchor\": \"x\", \"domain\": [0.0, 1.0], \"title\": {\"text\": \"count\"}}},\n",
              "                        {\"responsive\": true}\n",
              "                    ).then(function(){\n",
              "                            \n",
              "var gd = document.getElementById('80834399-2af4-46ae-8ac6-f6d2bf7d9117');\n",
              "var x = new MutationObserver(function (mutations, observer) {{\n",
              "        var display = window.getComputedStyle(gd).display;\n",
              "        if (!display || display === 'none') {{\n",
              "            console.log([gd, 'removed!']);\n",
              "            Plotly.purge(gd);\n",
              "            observer.disconnect();\n",
              "        }}\n",
              "}});\n",
              "\n",
              "// Listen for the removal of the full notebook cells\n",
              "var notebookContainer = gd.closest('#notebook-container');\n",
              "if (notebookContainer) {{\n",
              "    x.observe(notebookContainer, {childList: true});\n",
              "}}\n",
              "\n",
              "// Listen for the clearing of the current output cell\n",
              "var outputEl = gd.closest('.output');\n",
              "if (outputEl) {{\n",
              "    x.observe(outputEl, {childList: true});\n",
              "}}\n",
              "\n",
              "                        })\n",
              "                };\n",
              "                \n",
              "            </script>\n",
              "        </div>\n",
              "</body>\n",
              "</html>"
            ]
          },
          "metadata": {
            "tags": []
          }
        },
        {
          "output_type": "display_data",
          "data": {
            "text/html": [
              "<html>\n",
              "<head><meta charset=\"utf-8\" /></head>\n",
              "<body>\n",
              "    <div>\n",
              "            <script src=\"https://cdnjs.cloudflare.com/ajax/libs/mathjax/2.7.5/MathJax.js?config=TeX-AMS-MML_SVG\"></script><script type=\"text/javascript\">if (window.MathJax) {MathJax.Hub.Config({SVG: {font: \"STIX-Web\"}});}</script>\n",
              "                <script type=\"text/javascript\">window.PlotlyConfig = {MathJaxConfig: 'local'};</script>\n",
              "        <script src=\"https://cdn.plot.ly/plotly-latest.min.js\"></script>    \n",
              "            <div id=\"a8e28c83-f611-4a83-8e7b-2fd5f5d44343\" class=\"plotly-graph-div\" style=\"height:525px; width:100%;\"></div>\n",
              "            <script type=\"text/javascript\">\n",
              "                \n",
              "                    window.PLOTLYENV=window.PLOTLYENV || {};\n",
              "                    \n",
              "                if (document.getElementById(\"a8e28c83-f611-4a83-8e7b-2fd5f5d44343\")) {\n",
              "                    Plotly.newPlot(\n",
              "                        'a8e28c83-f611-4a83-8e7b-2fd5f5d44343',\n",
              "                        [{\"alignmentgroup\": \"True\", \"bingroup\": \"x\", \"hoverlabel\": {\"namelength\": 0}, \"hovertemplate\": \"Survived=0<br>Name=%{x}<br>count=%{y}\", \"legendgroup\": \"Survived=0\", \"marker\": {\"color\": \"#636efa\"}, \"name\": \"Survived=0\", \"offsetgroup\": \"Survived=0\", \"orientation\": \"v\", \"showlegend\": true, \"type\": \"histogram\", \"x\": [\"Braund, Mr. Owen Harris\", \"Allen, Mr. William Henry\", \"Moran, Mr. James\", \"McCarthy, Mr. Timothy J\", \"Palsson, Master. Gosta Leonard\", \"Saundercock, Mr. William Henry\", \"Andersson, Mr. Anders Johan\", \"Vestrom, Miss. Hulda Amanda Adolfina\", \"Rice, Master. Eugene\", \"Vander Planke, Mrs. Julius (Emelia Maria Vandemoortele)\", \"Fynney, Mr. Joseph J\", \"Palsson, Miss. Torborg Danira\", \"Emir, Mr. Farred Chehab\", \"Fortune, Mr. Charles Alexander\", \"Todoroff, Mr. Lalio\", \"Uruchurtu, Don. Manuel E\", \"Wheadon, Mr. Edward H\", \"Meyer, Mr. Edgar Joseph\", \"Holverson, Mr. Alexander Oskar\", \"Cann, Mr. Ernest Charles\", \"Vander Planke, Miss. Augusta Maria\", \"Ahlin, Mrs. Johan (Johanna Persdotter Larsson)\", \"Turpin, Mrs. William John Robert (Dorothy Ann Wonnacott)\", \"Kraeff, Mr. Theodor\", \"Rogers, Mr. William John\", \"Lennon, Mr. Denis\", \"Samaan, Mr. Youssef\", \"Arnold-Franchi, Mrs. Josef (Josefine Franchi)\", \"Panula, Master. Juha Niilo\", \"Nosworthy, Mr. Richard Cater\", \"Ostby, Mr. Engelhart Cornelius\", \"Novel, Mr. Mansouer\", \"Goodwin, Master. William Frederick\", \"Sirayanian, Mr. Orsen\", \"Harris, Mr. Henry Birkhardt\", \"Skoog, Master. Harald\", \"Stewart, Mr. Albert A\", \"Crease, Mr. Ernest James\", \"Kink, Mr. Vincenz\", \"Jenkin, Mr. Stephen Curnow\", \"Goodwin, Miss. Lillian Amy\", \"Hood, Mr. Ambrose Jr\", \"Chronopoulos, Mr. Apostolos\", \"Moen, Mr. Sigurd Hansen\", \"Staneff, Mr. Ivan\", \"Moutal, Mr. Rahamin Haim\", \"Waelens, Mr. Achille\", \"Carrau, Mr. Francisco M\", \"Ford, Mr. William Neal\", \"Slocovski, Mr. Selman Francis\", \"Celotti, Mr. Francesco\", \"Christmann, Mr. Emil\", \"Andreasson, Mr. Paul Edvin\", \"Chaffee, Mr. Herbert Fuller\", \"Dean, Mr. Bertram Frank\", \"Coxon, Mr. Daniel\", \"Shorney, Mr. Charles Joseph\", \"Goldschmidt, Mr. George B\", \"Kantor, Mr. Sinai\", \"Petranec, Miss. Matilda\", \"Petroff, Mr. Pastcho (\\\"Pentcho\\\")\", \"White, Mr. Richard Frasar\", \"Johansson, Mr. Gustaf Joel\", \"Gustafsson, Mr. Anders Vilhelm\", \"Mionoff, Mr. Stoytcho\", \"Rekic, Mr. Tido\", \"Porter, Mr. Walter Chamberlain\", \"Zabour, Miss. Hileni\", \"Barton, Mr. David John\", \"Jussila, Miss. Katriina\", \"Attalah, Miss. Malake\", \"Pekoniemi, Mr. Edvard\", \"Connors, Mr. Patrick\", \"Turpin, Mr. William John Robert\", \"Baxter, Mr. Quigg Edmond\", \"Andersson, Miss. Ellis Anna Maria\", \"Hickman, Mr. Stanley George\", \"Moore, Mr. Leonard Charles\", \"Nasser, Mr. Nicholas\", \"White, Mr. Percival Wayland\", \"McMahon, Mr. Martin\", \"Ekstrom, Mr. Johan\", \"Drazenoic, Mr. Jozef\", \"Coelho, Mr. Domingos Fernandeo\", \"Robins, Mrs. Alexander A (Grace Charity Laury)\", \"Sobey, Mr. Samuel James Hayden\", \"Richard, Mr. Emile\", \"Futrelle, Mr. Jacques Heath\", \"Osen, Mr. Olaf Elon\", \"Giglio, Mr. Victor\", \"Boulos, Mrs. Joseph (Sultana)\", \"Burke, Mr. Jeremiah\", \"Andrew, Mr. Edgardo Samuel\", \"Nicholls, Mr. Joseph Charles\", \"Ford, Miss. Robina Maggie \\\"Ruby\\\"\", \"Navratil, Mr. Michel (\\\"Louis M Hoffman\\\")\", \"Byles, Rev. Thomas Roussel Davids\", \"Bateman, Rev. Robert James\", \"Meo, Mr. Alfonzo\", \"van Billiard, Mr. Austin Blyler\", \"Olsen, Mr. Ole Martin\", \"Williams, Mr. Charles Duane\", \"Corn, Mr. Harry\", \"Smiljanic, Mr. Mile\", \"Sage, Master. Thomas Henry\", \"Cribb, Mr. John Hatfield\", \"Bengtsson, Mr. John Viktor\", \"Calic, Mr. Jovo\", \"Panula, Master. Eino Viljami\", \"Skoog, Mrs. William (Anna Bernhardina Karlsson)\", \"Baumann, Mr. John D\", \"Ling, Mr. Lee\", \"Van der hoef, Mr. Wyckoff\", \"Rice, Master. Arthur\", \"Sivola, Mr. Antti Wilhelm\", \"Smith, Mr. James Clinch\", \"Klasen, Mr. Klas Albin\", \"Lefebre, Master. Henry Forbes\", \"Isham, Miss. Ann Elizabeth\", \"Hale, Mr. Reginald\", \"Leonard, Mr. Lionel\", \"Sage, Miss. Constance Gladys\", \"Pernot, Mr. Rene\", \"Asplund, Master. Clarence Gustaf Hugo\", \"Rood, Mr. Hugh Roscoe\", \"Bourke, Mr. John\", \"Turcin, Mr. Stjepan\", \"Carbines, Mr. William\", \"Mernagh, Mr. Robert\", \"Olsen, Mr. Karl Siegwart Andreas\", \"Yrois, Miss. Henriette (\\\"Mrs Harbeck\\\")\", \"Vande Walle, Mr. Nestor Cyriel\", \"Sage, Mr. Frederick\", \"Johanson, Mr. Jakob Alfred\", \"Youseff, Mr. Gerious\", \"Strom, Miss. Telma Matilda\", \"Backstrom, Mr. Karl Alfred\", \"Ali, Mr. Ahmed\", \"Perkin, Mr. John Henry\", \"Givard, Mr. Hans Kristensen\", \"Kiernan, Mr. Philip\", \"Jacobsohn, Mr. Sidney Samuel\", \"Harris, Mr. Walter\", \"Bracken, Mr. James H\", \"Green, Mr. George Henry\", \"Nenkoff, Mr. Christo\", \"Berglund, Mr. Karl Ivar Sven\", \"Lovell, Mr. John Hall (\\\"Henry\\\")\", \"Fahlstrom, Mr. Arne Jonas\", \"Lefebre, Miss. Mathilde\", \"Larsson, Mr. Bengt Edvin\", \"Sjostedt, Mr. Ernst Adolf\", \"Leyson, Mr. Robert William Norman\", \"Harknett, Miss. Alice Phoebe\", \"Hold, Mr. Stephen\", \"Pengelly, Mr. Frederick William\", \"Hunt, Mr. George Henry\", \"Zabour, Miss. Thamine\", \"Coleridge, Mr. Reginald Charles\", \"Maenpaa, Mr. Matti Alexanteri\", \"Attalah, Mr. Sleiman\", \"Minahan, Dr. William Edward\", \"Lindahl, Miss. Agda Thorilda Viktoria\", \"Carter, Rev. Ernest Courtenay\", \"Reed, Mr. James George\", \"Strom, Mrs. Wilhelm (Elna Matilda Persson)\", \"Stead, Mr. William Thomas\", \"Lobb, Mr. William Arthur\", \"Rosblom, Mrs. Viktor (Helena Wilhelmina)\", \"Smith, Mr. Thomas\", \"Taussig, Mr. Emil\", \"Harrison, Mr. William\", \"Henry, Miss. Delia\", \"Reeves, Mr. David\", \"Panula, Mr. Ernesti Arvid\", \"Cairns, Mr. Alexander\", \"Natsch, Mr. Charles H\", \"Lindblom, Miss. Augusta Charlotta\", \"Parkes, Mr. Francis \\\"Frank\\\"\", \"Rice, Master. Eric\", \"Duane, Mr. Frank\", \"Olsson, Mr. Nils Johan Goransson\", \"de Pelsmaeker, Mr. Alfons\", \"Smith, Mr. Richard William\", \"Stankovic, Mr. Ivan\", \"Naidenoff, Mr. Penko\", \"Levy, Mr. Rene Jacques\", \"Haas, Miss. Aloisia\", \"Mineff, Mr. Ivan\", \"Lewy, Mr. Ervin G\", \"Hanna, Mr. Mansour\", \"Allison, Miss. Helen Loraine\", \"Johnson, Mr. William Cahoone Jr\", \"Williams, Mr. Howard Hugh \\\"Harry\\\"\", \"Abelson, Mr. Samuel\", \"Lahtinen, Mrs. William (Anna Sylfven)\", \"Hendekovic, Mr. Ignjac\", \"Hart, Mr. Benjamin\", \"Moraweck, Dr. Ernest\", \"Dennis, Mr. Samuel\", \"Danoff, Mr. Yoto\", \"Sage, Mr. George John Jr\", \"Nysveen, Mr. Johan Hansen\", \"Partner, Mr. Austen\", \"Graham, Mr. George Edward\", \"Vander Planke, Mr. Leo Edmondus\", \"Denkoff, Mr. Mitto\", \"Pears, Mr. Thomas Clinton\", \"Blackwell, Mr. Stephen Weart\", \"Collander, Mr. Erik Gustaf\", \"Sedgwick, Mr. Charles Frederick Waddington\", \"Fox, Mr. Stanley Hubert\", \"Dimic, Mr. Jovan\", \"Odahl, Mr. Nils Martin\", \"Williams-Lambert, Mr. Fletcher Fellows\", \"Elias, Mr. Tannous\", \"Arnold-Franchi, Mr. Josef\", \"Yousif, Mr. Wazli\", \"Vanden Steen, Mr. Leo Peter\", \"Funk, Miss. Annie Clemmer\", \"Skoog, Mr. Wilhelm\", \"del Carlo, Mr. Sebastiano\", \"Barbara, Mrs. (Catherine David)\", \"Asim, Mr. Adola\", \"O'Brien, Mr. Thomas\", \"Adahl, Mr. Mauritz Nils Martin\", \"Wiklund, Mr. Jakob Alfred\", \"Beavan, Mr. William Thomas\", \"Ringhini, Mr. Sante\", \"Palsson, Miss. Stina Viola\", \"Widener, Mr. Harry Elkins\", \"Betros, Mr. Tannous\", \"Gustafsson, Mr. Karl Gideon\", \"Tikkanen, Mr. Juho\", \"Plotcharsky, Mr. Vasil\", \"Davies, Mr. Charles Henry\", \"Goodwin, Master. Sidney Leonard\", \"Sadlier, Mr. Matthew\", \"Gustafsson, Mr. Johan Birger\", \"Johansson, Mr. Erik\", \"Olsson, Miss. Elina\", \"McKane, Mr. Peter David\", \"Pain, Dr. Alfred\", \"Adams, Mr. John\", \"Jussila, Miss. Mari Aina\", \"Hakkarainen, Mr. Pekka Pietari\", \"Oreskovic, Miss. Marija\", \"Gale, Mr. Shadrach\", \"Widegren, Mr. Carl/Charles Peter\", \"Birkeland, Mr. Hans Martin Monsen\", \"Lefebre, Miss. Ida\", \"Sdycoff, Mr. Todor\", \"Hart, Mr. Henry\", \"Cunningham, Mr. Alfred Fleming\", \"Meek, Mrs. Thomas (Annie Louise Rowley)\", \"Matthews, Mr. William John\", \"Van Impe, Miss. Catharina\", \"Gheorgheff, Mr. Stanio\", \"Charters, Mr. David\", \"Zimmerman, Mr. Leo\", \"Danbom, Mrs. Ernst Gilbert (Anna Sigrid Maria Brogren)\", \"Rosblom, Mr. Viktor Richard\", \"Wiseman, Mr. Phillippe\", \"Flynn, Mr. James\", \"Kallio, Mr. Nikolai Erland\", \"Silvey, Mr. William Baird\", \"Ford, Miss. Doolina Margaret \\\"Daisy\\\"\", \"Fortune, Mr. Mark\", \"Kvillner, Mr. Johan Henrik Johannesson\", \"Hampe, Mr. Leon\", \"Petterson, Mr. Johan Emil\", \"West, Mr. Edwy Arthur\", \"Hagland, Mr. Ingvald Olai Olsen\", \"Foreman, Mr. Benjamin Laventall\", \"Peduzzi, Mr. Joseph\", \"Millet, Mr. Francis Davis\", \"O'Connor, Mr. Maurice\", \"Morley, Mr. William\", \"Gee, Mr. Arthur H\", \"Milling, Mr. Jacob Christian\", \"Maisner, Mr. Simon\", \"Goncalves, Mr. Manuel Estanslas\", \"Campbell, Mr. William\", \"Smart, Mr. John Montgomery\", \"Scanlan, Mr. James\", \"Keefe, Mr. Arthur\", \"Cacic, Mr. Luka\", \"Strandberg, Miss. Ida Sofia\", \"Clifford, Mr. George Quincy\", \"Renouf, Mr. Peter Henry\", \"Braund, Mr. Lewis Richard\", \"Karlsson, Mr. Nils August\", \"Goodwin, Master. Harold Victor\", \"Frost, Mr. Anthony Wood \\\"Archie\\\"\", \"Rouse, Mr. Richard Henry\", \"Lefebre, Miss. Jeannie\", \"Kent, Mr. Edward Austin\", \"Somerton, Mr. Francis William\", \"Hagland, Mr. Konrad Mathias Reiersen\", \"Windelov, Mr. Einar\", \"Molson, Mr. Harry Markland\", \"Artagaveytia, Mr. Ramon\", \"Stanley, Mr. Edward Roland\", \"Yousseff, Mr. Gerious\", \"Shellard, Mr. Frederick William\", \"Allison, Mrs. Hudson J C (Bessie Waldo Daniels)\", \"Svensson, Mr. Olof\", \"Calic, Mr. Petar\", \"Canavan, Miss. Mary\", \"O'Sullivan, Miss. Bridget Mary\", \"Laitinen, Miss. Kristina Sofia\", \"Penasco y Castellana, Mr. Victor de Satode\", \"Olsen, Mr. Henry Margido\", \"Webber, Mr. James\", \"Coleff, Mr. Satio\", \"Walker, Mr. William Anderson\", \"Ryan, Mr. Patrick\", \"Pavlovic, Mr. Stefo\", \"Vovk, Mr. Janko\", \"Lahoud, Mr. Sarkis\", \"Kassem, Mr. Fared\", \"Farrell, Mr. James\", \"Farthing, Mr. John\", \"Salonen, Mr. Johan Werner\", \"Hocking, Mr. Richard George\", \"Toufik, Mr. Nakli\", \"Elias, Mr. Joseph Jr\", \"Cacic, Miss. Marija\", \"Butt, Major. Archibald Willingham\", \"Risien, Mr. Samuel Beard\", \"Andersson, Miss. Ingeborg Constanzia\", \"Andersson, Miss. Sigrid Elisabeth\", \"Douglas, Mr. Walter Donald\", \"Nicholson, Mr. Arthur Ernest\", \"Goldsmith, Mr. Frank John\", \"Sharp, Mr. Percival James R\", \"O'Brien, Mr. Timothy\", \"Wright, Mr. George\", \"Robbins, Mr. Victor\", \"Morrow, Mr. Thomas Rowan\", \"Sivic, Mr. Husein\", \"Norman, Mr. Robert Douglas\", \"Simmons, Mr. John\", \"Meanwell, Miss. (Marion Ogden)\", \"Davies, Mr. Alfred J\", \"Stoytcheff, Mr. Ilia\", \"Palsson, Mrs. Nils (Alma Cornelia Berglund)\", \"Doharr, Mr. Tannous\", \"Rush, Mr. Alfred George John\", \"Patchett, Mr. George\", \"Caram, Mrs. Joseph (Maria Elias)\", \"Downton, Mr. William James\", \"Ross, Mr. John Hugo\", \"Paulner, Mr. Uscher\", \"Jarvis, Mr. John Denzil\", \"Gilinski, Mr. Eliezer\", \"Murdlin, Mr. Joseph\", \"Rintamaki, Mr. Matti\", \"Elsbury, Mr. William James\", \"Bourke, Miss. Mary\", \"Chapman, Mr. John Henry\", \"Van Impe, Mr. Jean Baptiste\", \"Johnson, Mr. Alfred\", \"Boulos, Mr. Hanna\", \"Slabenoff, Mr. Petco\", \"Harrington, Mr. Charles H\", \"Torber, Mr. Ernst William\", \"Lindell, Mr. Edvard Bengtsson\", \"Karaic, Mr. Milan\", \"Andersson, Mrs. Anders Johan (Alfrida Konstantia Brogren)\", \"Jardin, Mr. Jose Neto\", \"Horgan, Mr. John\", \"Brocklebank, Mr. William Alfred\", \"Danbom, Mr. Ernst Gilbert\", \"Lobb, Mrs. William Arthur (Cordelia K Stanlick)\", \"Gavey, Mr. Lawrence\", \"Yasbeck, Mr. Antoni\", \"Hansen, Mr. Henry Damsgaard\", \"Bowen, Mr. David John \\\"Dai\\\"\", \"Sutton, Mr. Frederick\", \"Kirkland, Rev. Charles Leonard\", \"Bostandyeff, Mr. Guentcho\", \"O'Connell, Mr. Patrick D\", \"Lundahl, Mr. Johan Svensson\", \"Parr, Mr. William Henry Marsh\", \"Skoog, Miss. Mabel\", \"Leinonen, Mr. Antti Gustaf\", \"Collyer, Mr. Harvey\", \"Panula, Mrs. Juha (Maria Emilia Ojala)\", \"Thorneycroft, Mr. Percival\", \"Jensen, Mr. Hans Peder\", \"Skoog, Miss. Margit Elizabeth\", \"Cor, Mr. Liudevit\", \"Willey, Mr. Edward\", \"Mitkoff, Mr. Mito\", \"Kalvik, Mr. Johannes Halvorsen\", \"Hegarty, Miss. Hanora \\\"Nora\\\"\", \"Hickman, Mr. Leonard Mark\", \"Radeff, Mr. Alexander\", \"Bourke, Mrs. John (Catherine)\", \"Eitemiller, Mr. George Floyd\", \"Newell, Mr. Arthur Webster\", \"Badt, Mr. Mohamed\", \"Colley, Mr. Edward Pomeroy\", \"Coleff, Mr. Peju\", \"Hickman, Mr. Lewis\", \"Butler, Mr. Reginald Fenton\", \"Rommetvedt, Mr. Knud Paust\", \"Cook, Mr. Jacob\", \"Davidson, Mr. Thornton\", \"Mitchell, Mr. Henry Michael\", \"Watson, Mr. Ennis Hastings\", \"Edvardsson, Mr. Gustaf Hjalmar\", \"Sawyer, Mr. Frederick Charles\", \"Goodwin, Mrs. Frederick (Augusta Tyler)\", \"Peters, Miss. Katie\", \"Olsvigen, Mr. Thor Anderson\", \"Goodwin, Mr. Charles Edward\", \"Brown, Mr. Thomas William Solomon\", \"Laroche, Mr. Joseph Philippe Lemercier\", \"Panula, Mr. Jaako Arnold\", \"Dakic, Mr. Branko\", \"Fischer, Mr. Eberhard Thelander\", \"Saad, Mr. Khalil\", \"Weir, Col. John\", \"Chapman, Mr. Charles Henry\", \"Kelly, Mr. James\", \"Thayer, Mr. John Borland\", \"Humblen, Mr. Adolf Mathias Nicolai Olsen\", \"Barbara, Miss. Saiide\", \"Gallagher, Mr. Martin\", \"Hansen, Mr. Henrik Juul\", \"Morley, Mr. Henry Samuel (\\\"Mr Henry Marshall\\\")\", \"Klaber, Mr. Herman\", \"Larsson, Mr. August Viktor\", \"Greenberg, Mr. Samuel\", \"Soholt, Mr. Peter Andreas Lauritz Andersen\", \"McEvoy, Mr. Michael\", \"Johnson, Mr. Malkolm Joackim\", \"Jensen, Mr. Svend Lauritz\", \"Gillespie, Mr. William Henry\", \"Hodges, Mr. Henry Price\", \"Oreskovic, Mr. Luka\", \"Bryhl, Mr. Kurt Arnold Gottfrid\", \"Ilmakangas, Miss. Pieta Sofia\", \"Hassan, Mr. Houssein G N\", \"Knight, Mr. Robert J\", \"Berriman, Mr. William John\", \"Troupiansky, Mr. Moses Aaron\", \"Williams, Mr. Leslie\", \"Ford, Mrs. Edward (Margaret Ann Watson)\", \"Ivanoff, Mr. Kanio\", \"Nankoff, Mr. Minko\", \"Cavendish, Mr. Tyrell William\", \"McNamee, Mr. Neal\", \"Crosby, Capt. Edward Gifford\", \"Abbott, Mr. Rossmore Edward\", \"Marvin, Mr. Daniel Warner\", \"Connaghton, Mr. Michael\", \"Vande Velde, Mr. Johannes Joseph\", \"Jonkoff, Mr. Lalio\", \"Carlsson, Mr. August Sigfrid\", \"Bailey, Mr. Percy Andrew\", \"Theobald, Mr. Thomas Leonard\", \"Garfirth, Mr. John\", \"Nirva, Mr. Iisakki Antino Aijo\", \"Eklund, Mr. Hans Linus\", \"Brewe, Dr. Arthur Jackson\", \"Mangan, Miss. Mary\", \"Moran, Mr. Daniel J\", \"Gronnestad, Mr. Daniel Danielsen\", \"Lievens, Mr. Rene Aime\", \"Jensen, Mr. Niels Peder\", \"Mack, Mrs. (Mary)\", \"Elias, Mr. Dibo\", \"Myhrman, Mr. Pehr Fabian Oliver Malkolm\", \"Tobin, Mr. Roger\", \"Kilgannon, Mr. Thomas J\", \"Long, Mr. Milton Clyde\", \"Johnston, Mr. Andrew G\", \"Ali, Mr. William\", \"Harmer, Mr. Abraham (David Lishin)\", \"Rice, Master. George Hugh\", \"Guggenheim, Mr. Benjamin\", \"Keane, Mr. Andrew \\\"Andy\\\"\", \"Gaskell, Mr. Alfred\", \"Sage, Miss. Stella Anna\", \"Hoyt, Mr. William Fisher\", \"Dantcheff, Mr. Ristiu\", \"Otter, Mr. Richard\", \"Ibrahim Shawah, Mr. Yousseff\", \"Van Impe, Mrs. Jean Baptiste (Rosalie Paula Govaert)\", \"Ponesell, Mr. Martin\", \"Johansson, Mr. Karl Johan\", \"Andrews, Mr. Thomas Jr\", \"Pettersson, Miss. Ellen Natalia\", \"Meyer, Mr. August\", \"Alexander, Mr. William\", \"Lester, Mr. James\", \"Slemen, Mr. Richard James\", \"Andersson, Miss. Ebba Iris Alfrida\", \"Tomlin, Mr. Ernest Portage\", \"Fry, Mr. Richard\", \"Heininen, Miss. Wendla Maria\", \"Mallet, Mr. Albert\", \"Holm, Mr. John Fredrik Alexander\", \"Skoog, Master. Karl Thorsten\", \"Reuchlin, Jonkheer. John George\", \"Panula, Master. Urho Abraham\", \"Flynn, Mr. John\", \"Lam, Mr. Len\", \"Saad, Mr. Amin\", \"Augustsson, Mr. Albert\", \"Allum, Mr. Owen George\", \"Pasic, Mr. Jakob\", \"Sirota, Mr. Maurice\", \"Alhomaki, Mr. Ilmari Rudolf\", \"Mudd, Mr. Thomas Charles\", \"Lemberopolous, Mr. Peter L\", \"Culumovic, Mr. Jeso\", \"Abbing, Mr. Anthony\", \"Sage, Mr. Douglas Bullen\", \"Markoff, Mr. Marin\", \"Harper, Rev. John\", \"Andersson, Master. Sigvard Harald Elias\", \"Svensson, Mr. Johan\", \"Boulos, Miss. Nourelain\", \"Carter, Mrs. Ernest Courtenay (Lilian Hughes)\", \"Razi, Mr. Raihed\", \"Hansen, Mr. Claus Peter\", \"Giles, Mr. Frederick Edward\", \"Sage, Miss. Dorothy Edith \\\"Dolly\\\"\", \"Gill, Mr. John William\", \"Roebling, Mr. Washington Augustus II\", \"van Melkebeke, Mr. Philemon\", \"Balkic, Mr. Cerin\", \"Carlsson, Mr. Frans Olof\", \"Vander Cruyssen, Mr. Victor\", \"Gustafsson, Mr. Alfred Ossian\", \"Petroff, Mr. Nedelio\", \"Laleff, Mr. Kristo\", \"Markun, Mr. Johann\", \"Dahlberg, Miss. Gerda Ulrika\", \"Banfield, Mr. Frederick James\", \"Sutehall, Mr. Henry Jr\", \"Rice, Mrs. William (Margaret Norton)\", \"Montvila, Rev. Juozas\", \"Johnston, Miss. Catherine Helen \\\"Carrie\\\"\", \"Dooley, Mr. Patrick\"], \"xaxis\": \"x\", \"yaxis\": \"y\"}, {\"alignmentgroup\": \"True\", \"bingroup\": \"x\", \"hoverlabel\": {\"namelength\": 0}, \"hovertemplate\": \"Survived=1<br>Name=%{x}<br>count=%{y}\", \"legendgroup\": \"Survived=1\", \"marker\": {\"color\": \"#EF553B\"}, \"name\": \"Survived=1\", \"offsetgroup\": \"Survived=1\", \"orientation\": \"v\", \"showlegend\": true, \"type\": \"histogram\", \"x\": [\"Cumings, Mrs. John Bradley (Florence Briggs Thayer)\", \"Heikkinen, Miss. Laina\", \"Futrelle, Mrs. Jacques Heath (Lily May Peel)\", \"Johnson, Mrs. Oscar W (Elisabeth Vilhelmina Berg)\", \"Nasser, Mrs. Nicholas (Adele Achem)\", \"Sandstrom, Miss. Marguerite Rut\", \"Bonnell, Miss. Elizabeth\", \"Hewlett, Mrs. (Mary D Kingcome) \", \"Williams, Mr. Charles Eugene\", \"Masselmani, Mrs. Fatima\", \"Beesley, Mr. Lawrence\", \"McGowan, Miss. Anna \\\"Annie\\\"\", \"Sloper, Mr. William Thompson\", \"Asplund, Mrs. Carl Oscar (Selma Augusta Emilia Johansson)\", \"O'Dwyer, Miss. Ellen \\\"Nellie\\\"\", \"Spencer, Mrs. William Augustus (Marie Eugenie)\", \"Glynn, Miss. Mary Agatha\", \"Mamee, Mr. Hanna\", \"Nicola-Yarred, Miss. Jamila\", \"Laroche, Miss. Simonne Marie Anne Andree\", \"Devaney, Miss. Margaret Delia\", \"O'Driscoll, Miss. Bridget\", \"Harper, Mrs. Henry Sleeper (Myna Haxtun)\", \"Faunthorpe, Mrs. Lizzie (Elizabeth Anne Wilkinson)\", \"Woolner, Mr. Hugh\", \"Rugg, Miss. Emily\", \"West, Miss. Constance Mirium\", \"Icard, Miss. Amelie\", \"Moubarek, Master. Gerios\", \"Nye, Mrs. (Elizabeth Ramell)\", \"Andersson, Miss. Erna Alexandra\", \"Bing, Mr. Lee\", \"Caldwell, Master. Alden Gates\", \"Dowdell, Miss. Elizabeth\", \"Sheerlinck, Mr. Jan Baptist\", \"McDermott, Miss. Brigdet Delia\", \"Ilett, Miss. Bertha\", \"Backstrom, Mrs. Karl Alfred (Maria Mathilda Gustafsson)\", \"Fortune, Miss. Mabel Helen\", \"Greenfield, Mr. William Bertram\", \"Doling, Mrs. John T (Ada Julia Bone)\", \"Salkjelsvik, Miss. Anna Kristine\", \"Moss, Mr. Albert Johan\", \"Moran, Miss. Bertha\", \"Webber, Miss. Susan\", \"Nicola-Yarred, Master. Elias\", \"Madsen, Mr. Fridtjof Arne\", \"Peter, Miss. Anna\", \"Weisz, Mrs. Leopold (Mathilde Francoise Pede)\", \"Newsom, Miss. Helen Monypeny\", \"Nysten, Miss. Anna Sofia\", \"Hakkarainen, Mrs. Pekka Pietari (Elin Matilda Dolck)\", \"Andersson, Mr. August Edvard (\\\"Wennerstrom\\\")\", \"Pears, Mrs. Thomas (Edith Wearne)\", \"Gilnagh, Miss. Katherine \\\"Katie\\\"\", \"Watt, Mrs. James (Elizabeth \\\"Bessie\\\" Inglis Milne)\", \"Goldsmith, Master. Frank John William \\\"Frankie\\\"\", \"Chibnall, Mrs. (Edith Martha Bowerman)\", \"Johnson, Miss. Eleanor Ileen\", \"Becker, Master. Richard F\", \"Kink-Heilmann, Miss. Luise Gretchen\", \"O'Brien, Mrs. Thomas (Johanna \\\"Hannah\\\" Godfrey)\", \"Romaine, Mr. Charles Hallace (\\\"Mr C Rolmane\\\")\", \"Pinsky, Mrs. (Rosa)\", \"Andersen-Jensen, Miss. Carla Christine Nielsine\", \"Navratil, Master. Michel M\", \"Brown, Mrs. James Joseph (Margaret Tobin)\", \"Lurette, Miss. Elise\", \"Madigan, Miss. Margaret \\\"Maggie\\\"\", \"Cohen, Mr. Gurshon \\\"Gus\\\"\", \"Albimona, Mr. Nassef Cassem\", \"Carr, Miss. Helen \\\"Ellen\\\"\", \"Blank, Mr. Henry\", \"Cameron, Miss. Clear Annie\", \"Newell, Miss. Madeleine\", \"Honkanen, Miss. Eliina\", \"Bazzani, Miss. Albina\", \"Sunderland, Mr. Victor Francis\", \"Hoyt, Mr. Frederick Maxfield\", \"Mellors, Mr. William John\", \"Harris, Mrs. Henry Birkhardt (Irene Wallach)\", \"Asplund, Miss. Lillian Gertrud\", \"Collyer, Miss. Marjorie \\\"Lottie\\\"\", \"Murphy, Miss. Katherine \\\"Kate\\\"\", \"Hamalainen, Mrs. William (Anna)\", \"Beckwith, Mr. Richard Leonard\", \"Touma, Mrs. Darwis (Hanne Youssef Razi)\", \"Thorne, Mrs. Gertrude Maybelle\", \"Cherry, Miss. Gladys\", \"Ward, Miss. Anna\", \"Parrish, Mrs. (Lutie Davis)\", \"Asplund, Master. Edvin Rojj Felix\", \"Persson, Mr. Ernst Ulrik\", \"Graham, Mrs. William Thompson (Edith Junkins)\", \"Bissette, Miss. Amelia\", \"Tornquist, Mr. William Henry\", \"Mellinger, Mrs. (Elizabeth Anne Maidment)\", \"Healy, Miss. Hanora \\\"Nora\\\"\", \"Andrews, Miss. Kornelia Theodosia\", \"Abbott, Mrs. Stanton (Rosa Hunt)\", \"Dorking, Mr. Edward Arthur\", \"de Mulder, Mr. Theodore\", \"Hosono, Mr. Masabumi\", \"Connolly, Miss. Kate\", \"Barber, Miss. Ellen \\\"Nellie\\\"\", \"Bishop, Mrs. Dickinson H (Helen Walton)\", \"Saalfeld, Mr. Adolphe\", \"Baxter, Mrs. James (Helene DeLaudeniere Chaput)\", \"Kelly, Miss. Anna Katherine \\\"Annie Kate\\\"\", \"McCoy, Mr. Bernard\", \"Keane, Miss. Nora A\", \"Allison, Master. Hudson Trevor\", \"Fleming, Miss. Margaret\", \"Penasco y Castellana, Mrs. Victor de Satode (Maria Josefa Perez de Soto y Vallejo)\", \"Francatelli, Miss. Laura Mabel\", \"Hays, Miss. Margaret Bechstein\", \"Ryerson, Miss. Emily Borie\", \"Nilsson, Miss. Helmina Josefina\", \"Kantor, Mrs. Sinai (Miriam Sternin)\", \"Wick, Miss. Mary Natalie\", \"Spedden, Mrs. Frederic Oakley (Margaretta Corning Stone)\", \"Slayter, Miss. Hilda Mary\", \"Caldwell, Mrs. Albert Francis (Sylvia Mae Harbaugh)\", \"Young, Miss. Marie Grice\", \"Ball, Mrs. (Ada E Hall)\", \"Goldsmith, Mrs. Frank John (Emily Alice Brown)\", \"Hippach, Miss. Jean Gertrude\", \"McCoy, Miss. Agnes\", \"Frauenthal, Mrs. Henry William (Clara Heinsheimer)\", \"Burns, Miss. Elizabeth Margaret\", \"Dahl, Mr. Karl Edwart\", \"Navratil, Master. Edmond Roger\", \"Fortune, Miss. Alice Elizabeth\", \"Brown, Miss. Amelia \\\"Mildred\\\"\", \"Smith, Miss. Marion Elsie\", \"Davison, Mrs. Thomas Henry (Mary E Finck)\", \"Coutts, Master. William Loch \\\"William\\\"\", \"Bowerman, Miss. Elsie Edith\", \"McGovern, Miss. Mary\", \"Mockler, Miss. Helen Mary \\\"Ellie\\\"\", \"Warren, Mrs. Frank Manley (Anna Sophia Atkinson)\", \"Moussa, Mrs. (Mantoura Boulos)\", \"Jermyn, Miss. Annie\", \"Aubart, Mme. Leontine Pauline\", \"Harder, Mr. George Achilles\", \"Meyer, Mrs. Edgar Joseph (Leila Saks)\", \"Landergren, Miss. Aurora Adelia\", \"Bidois, Miss. Rosalie\", \"Nakid, Miss. Maria (\\\"Mary\\\")\", \"Holverson, Mrs. Alexander Oskar (Mary Aline Towner)\", \"Buss, Miss. Kate\", \"Lehmann, Miss. Bertha\", \"Carter, Mr. William Ernest\", \"Jansson, Mr. Carl Olof\", \"Newell, Miss. Marjorie\", \"Sandstrom, Mrs. Hjalmar (Agnes Charlotta Bengtsson)\", \"Trout, Mrs. William H (Jessie L)\", \"Niskanen, Mr. Juha\", \"Richards, Master. William Rowe\", \"Minahan, Miss. Daisy E\", \"Sundman, Mr. Johan Julian\", \"Drew, Mrs. James Vivian (Lulu Thorne Christian)\", \"Silven, Miss. Lyyli Karoliina\", \"Clarke, Mrs. Charles V (Ada Maria Winfield)\", \"Phillips, Miss. Kate Florence (\\\"Mrs Kate Louise Phillips Marshall\\\")\", \"Pickard, Mr. Berk (Berk Trembisky)\", \"Bjornstrom-Steffansson, Mr. Mauritz Hakan\", \"Thorneycroft, Mrs. Percival (Florence Kate White)\", \"Louch, Mrs. Charles Alexander (Alice Adelaide Slow)\", \"Carter, Miss. Lucile Polk\", \"Richards, Mrs. Sidney (Emily Hocking)\", \"Hart, Mrs. Benjamin (Esther Ada Bloomfield)\", \"Reynaldo, Ms. Encarnacion\", \"Johannesen-Bratthammer, Mr. Bernt\", \"Dodge, Master. Washington\", \"Mellinger, Miss. Madeleine Violet\", \"Seward, Mr. Frederic Kimber\", \"Baclini, Miss. Marie Catherine\", \"Peuchen, Major. Arthur Godfrey\", \"Goldenberg, Mr. Samuel L\", \"Jalsevac, Mr. Ivan\", \"Kenyon, Mrs. Frederick R (Marion)\", \"Toomey, Miss. Ellen\", \"Anderson, Mr. Harry\", \"Baclini, Miss. Helene Barbara\", \"West, Mrs. Edwy Arthur (Ada Mary Worth)\", \"Jerwan, Mrs. Amin S (Marie Marthe Thuillard)\", \"Hirvonen, Miss. Hildur E\", \"Turkula, Mrs. (Hedwig)\", \"Bishop, Mr. Dickinson H\", \"Hoyt, Mrs. Frederick Maxfield (Jane Anne Forby)\", \"Coutts, Master. Eden Leslie \\\"Neville\\\"\", \"Eustis, Miss. Elizabeth Mussey\", \"Maioni, Miss. Roberta\", \"Quick, Mrs. Frederick Charles (Jane Richards)\", \"Bradley, Mr. George (\\\"George Arthur Brayton\\\")\", \"Lang, Mr. Fang\", \"Daly, Mr. Eugene Patrick\", \"McGough, Mr. James Robert\", \"Rothschild, Mrs. Martin (Elizabeth L. Barrett)\", \"Lemore, Mrs. (Amelia Milley)\", \"Angle, Mrs. William A (Florence \\\"Mary\\\" Agnes Hughes)\", \"Perreault, Miss. Anne\", \"Hippach, Mrs. Louis Albert (Ida Sophia Fischer)\", \"Ridsdale, Miss. Lucy\", \"Quick, Miss. Phyllis May\", \"Peter, Mrs. Catherine (Catherine Rizk)\", \"Hart, Miss. Eva Miriam\", \"LeRoy, Miss. Bertha\", \"Frolicher, Miss. Hedwig Margaritha\", \"Crosby, Miss. Harriet R\", \"Beane, Mr. Edward\", \"Beane, Mrs. Edward (Ethel Clarke)\", \"Padro y Manent, Mr. Julian\", \"Davies, Master. John Morgan Jr\", \"Thayer, Mr. John Borland Jr\", \"Leeni, Mr. Fahim (\\\"Philip Zenni\\\")\", \"Ohman, Miss. Velin\", \"Duff Gordon, Lady. (Lucille Christiana Sutherland) (\\\"Mrs Morgan\\\")\", \"Taussig, Mrs. Emil (Tillie Mandelbaum)\", \"de Messemaeker, Mrs. Guillaume Joseph (Emma)\", \"Jonsson, Mr. Carl\", \"Harris, Mr. George\", \"Appleton, Mrs. Edward Dale (Charlotte Lamson)\", \"Flynn, Mr. John Irwin (\\\"Irving\\\")\", \"Kelly, Miss. Mary\", \"Garside, Miss. Ethel\", \"Silvey, Mrs. William Baird (Alice Munger)\", \"Jussila, Mr. Eiriik\", \"Christy, Miss. Julie Rachel\", \"Thayer, Mrs. John Borland (Marian Longstreth Morris)\", \"Taussig, Miss. Ruth\", \"Frolicher-Stehli, Mr. Maxmillian\", \"Stephenson, Mrs. Walter Bertram (Martha Eustis)\", \"Leitch, Miss. Jessie Wills\", \"Duff Gordon, Sir. Cosmo Edmund (\\\"Mr Morgan\\\")\", \"Jacobsohn, Mrs. Sidney Samuel (Amy Frances Christy)\", \"Homer, Mr. Harry (\\\"Mr E Haven\\\")\", \"Daniel, Mr. Robert Williams\", \"Laroche, Mrs. Joseph (Juliette Marie Louise Lafargue)\", \"Shutes, Miss. Elizabeth W\", \"Murphy, Miss. Margaret Jane\", \"Herman, Miss. Alice\", \"Becker, Miss. Marion Louise\", \"Kimball, Mr. Edwin Nelson Jr\", \"Nakid, Mr. Sahid\", \"Longley, Miss. Gretchen Fiske\", \"Barkworth, Mr. Algernon Henry Wilson\", \"Stahelin-Maeglin, Dr. Max\", \"Davis, Miss. Mary\", \"Sagesser, Mlle. Emma\", \"Foo, Mr. Choong\", \"Baclini, Miss. Eugenie\", \"Harper, Mr. Henry Sleeper\", \"Simonius-Blumer, Col. Oberst Alfons\", \"Stanley, Miss. Amy Zillah Elsie\", \"Doling, Miss. Elsie\", \"O'Leary, Miss. Hanora \\\"Norah\\\"\", \"Frauenthal, Dr. Henry William\", \"Lindqvist, Mr. Eino William\", \"Taylor, Mrs. Elmer Zebley (Juliet Cummins Wright)\", \"Brown, Mrs. Thomas William Solomon (Elizabeth Catherine Ford)\", \"Wilhelms, Mr. Charles\", \"Turja, Miss. Anna Sofia\", \"Cardeza, Mr. Thomas Drake Martinez\", \"Hassab, Mr. Hammad\", \"Madill, Miss. Georgette Alexandra\", \"Dick, Mr. Albert Adrian\", \"Karun, Miss. Manca\", \"Lam, Mr. Ali\", \"Mullens, Miss. Katherine \\\"Katie\\\"\", \"Astor, Mrs. John Jacob (Madeleine Talmadge Force)\", \"Silverthorne, Mr. Spencer Victor\", \"Kelly, Mrs. Florence \\\"Fannie\\\"\", \"Calderhead, Mr. Edward Pennington\", \"Cleaver, Miss. Alice\", \"Moubarek, Master. Halim Gonios (\\\"William George\\\")\", \"Mayne, Mlle. Berthe Antonine (\\\"Mrs de Villiers\\\")\", \"Taylor, Mr. Elmer Zebley\", \"Endres, Miss. Caroline Louise\", \"Troutt, Miss. Edwina Celia \\\"Winnie\\\"\", \"Harper, Miss. Annie Jessie \\\"Nina\\\"\", \"Chambers, Mr. Norman Campbell\", \"Renouf, Mrs. Peter Henry (Lillian Jefferys)\", \"Mannion, Miss. Margareth\", \"Allen, Miss. Elisabeth Walton\", \"Lesurer, Mr. Gustave J\", \"Hawksford, Mr. Walter James\", \"Ryerson, Miss. Susan Parker \\\"Suzette\\\"\", \"Stranden, Mr. Juho\", \"Sinkkonen, Miss. Anna\", \"Wells, Miss. Joan\", \"Moor, Master. Meier\", \"Herman, Mrs. Samuel (Jane Laver)\", \"Hamalainen, Master. Viljo\", \"Rothes, the Countess. of (Lucy Noel Martha Dyer-Edwards)\", \"Barah, Mr. Hanna Assi\", \"Carter, Mrs. William Ernest (Lucile Polk)\", \"Hogeboom, Mrs. John C (Anna Andrews)\", \"Hocking, Mrs. Elizabeth (Eliza Needs)\", \"Emanuel, Miss. Virginia Ethel\", \"Robert, Mrs. Edward Scott (Elisabeth Walton McMillan)\", \"Ayoub, Miss. Banoura\", \"Dick, Mrs. Albert Adrian (Vera Gillespie)\", \"Sjoblom, Miss. Anna Sofia\", \"Dean, Master. Bertram Vere\", \"Leader, Dr. Alice (Farnham)\", \"Osman, Mrs. Mara\", \"Collyer, Mrs. Harvey (Charlotte Annie Tate)\", \"Carter, Master. William Thornton II\", \"Thomas, Master. Assad Alexander\", \"Hedman, Mr. Oskar Arvid\", \"Chambers, Mrs. Norman Campbell (Bertha Griggs)\", \"Hays, Mrs. Charles Melville (Clara Jennings Gregg)\", \"Lulic, Mr. Nikola\", \"Moor, Mrs. (Beila)\", \"Mallet, Master. Andre\", \"McCormack, Mr. Thomas Joseph\", \"Stone, Mrs. George Nelson (Martha Evelyn)\", \"Yasbeck, Mrs. Antoni (Selini Alexander)\", \"Richards, Master. George Sibley\", \"Compton, Miss. Sara Rebecca\", \"Chip, Mr. Chang\", \"Marechal, Mr. Pierre\", \"Serepeca, Miss. Augusta\", \"Goldenberg, Mrs. Samuel L (Edwiga Grabowska)\", \"Lines, Miss. Mary Conover\", \"Aks, Mrs. Sam (Leah Rosen)\", \"Wick, Mrs. George Dennick (Mary Hitchcock)\", \"Daly, Mr. Peter Denis \", \"Baclini, Mrs. Solomon (Latifa Qurban)\", \"Swift, Mrs. Frederick Joel (Margaret Welles Barron)\", \"Bystrom, Mrs. (Karolina)\", \"Duran y More, Miss. Asuncion\", \"Johnson, Master. Harold Theodor\", \"Beckwith, Mrs. Richard Leonard (Sallie Monypeny)\", \"Abelson, Mrs. Samuel (Hannah Wizosky)\", \"Najib, Miss. Adele Kiamie \\\"Jane\\\"\", \"Potter, Mrs. Thomas Jr (Lily Alexenia Wilson)\", \"Shelley, Mrs. William (Imanita Parrish Hall)\", \"Graham, Miss. Margaret Edith\", \"Behr, Mr. Karl Howell\"], \"xaxis\": \"x\", \"yaxis\": \"y\"}],\n",
              "                        {\"barmode\": \"relative\", \"legend\": {\"tracegroupgap\": 0}, \"margin\": {\"t\": 60}, \"template\": {\"data\": {\"bar\": [{\"error_x\": {\"color\": \"#2a3f5f\"}, \"error_y\": {\"color\": \"#2a3f5f\"}, \"marker\": {\"line\": {\"color\": \"#E5ECF6\", \"width\": 0.5}}, \"type\": \"bar\"}], \"barpolar\": [{\"marker\": {\"line\": {\"color\": \"#E5ECF6\", \"width\": 0.5}}, \"type\": \"barpolar\"}], \"carpet\": [{\"aaxis\": {\"endlinecolor\": \"#2a3f5f\", \"gridcolor\": \"white\", \"linecolor\": \"white\", \"minorgridcolor\": \"white\", \"startlinecolor\": \"#2a3f5f\"}, \"baxis\": {\"endlinecolor\": \"#2a3f5f\", \"gridcolor\": \"white\", \"linecolor\": \"white\", \"minorgridcolor\": \"white\", \"startlinecolor\": \"#2a3f5f\"}, \"type\": \"carpet\"}], \"choropleth\": [{\"colorbar\": {\"outlinewidth\": 0, \"ticks\": \"\"}, \"type\": \"choropleth\"}], \"contour\": [{\"colorbar\": {\"outlinewidth\": 0, \"ticks\": \"\"}, \"colorscale\": [[0.0, \"#0d0887\"], [0.1111111111111111, \"#46039f\"], [0.2222222222222222, \"#7201a8\"], [0.3333333333333333, \"#9c179e\"], [0.4444444444444444, \"#bd3786\"], [0.5555555555555556, \"#d8576b\"], [0.6666666666666666, \"#ed7953\"], [0.7777777777777778, \"#fb9f3a\"], [0.8888888888888888, \"#fdca26\"], [1.0, \"#f0f921\"]], \"type\": \"contour\"}], \"contourcarpet\": [{\"colorbar\": {\"outlinewidth\": 0, \"ticks\": \"\"}, \"type\": \"contourcarpet\"}], \"heatmap\": [{\"colorbar\": {\"outlinewidth\": 0, \"ticks\": \"\"}, \"colorscale\": [[0.0, \"#0d0887\"], [0.1111111111111111, \"#46039f\"], [0.2222222222222222, \"#7201a8\"], [0.3333333333333333, \"#9c179e\"], [0.4444444444444444, \"#bd3786\"], [0.5555555555555556, \"#d8576b\"], [0.6666666666666666, \"#ed7953\"], [0.7777777777777778, \"#fb9f3a\"], [0.8888888888888888, \"#fdca26\"], [1.0, \"#f0f921\"]], \"type\": \"heatmap\"}], \"heatmapgl\": [{\"colorbar\": {\"outlinewidth\": 0, \"ticks\": \"\"}, \"colorscale\": [[0.0, \"#0d0887\"], [0.1111111111111111, \"#46039f\"], [0.2222222222222222, \"#7201a8\"], [0.3333333333333333, \"#9c179e\"], [0.4444444444444444, \"#bd3786\"], [0.5555555555555556, \"#d8576b\"], [0.6666666666666666, \"#ed7953\"], [0.7777777777777778, \"#fb9f3a\"], [0.8888888888888888, \"#fdca26\"], [1.0, \"#f0f921\"]], \"type\": \"heatmapgl\"}], \"histogram\": [{\"marker\": {\"colorbar\": {\"outlinewidth\": 0, \"ticks\": \"\"}}, \"type\": \"histogram\"}], \"histogram2d\": [{\"colorbar\": {\"outlinewidth\": 0, \"ticks\": \"\"}, \"colorscale\": [[0.0, \"#0d0887\"], [0.1111111111111111, \"#46039f\"], [0.2222222222222222, \"#7201a8\"], [0.3333333333333333, \"#9c179e\"], [0.4444444444444444, \"#bd3786\"], [0.5555555555555556, \"#d8576b\"], [0.6666666666666666, \"#ed7953\"], [0.7777777777777778, \"#fb9f3a\"], [0.8888888888888888, \"#fdca26\"], [1.0, \"#f0f921\"]], \"type\": \"histogram2d\"}], \"histogram2dcontour\": [{\"colorbar\": {\"outlinewidth\": 0, \"ticks\": \"\"}, \"colorscale\": [[0.0, \"#0d0887\"], [0.1111111111111111, \"#46039f\"], [0.2222222222222222, \"#7201a8\"], [0.3333333333333333, \"#9c179e\"], [0.4444444444444444, \"#bd3786\"], [0.5555555555555556, \"#d8576b\"], [0.6666666666666666, \"#ed7953\"], [0.7777777777777778, \"#fb9f3a\"], [0.8888888888888888, \"#fdca26\"], [1.0, \"#f0f921\"]], \"type\": \"histogram2dcontour\"}], \"mesh3d\": [{\"colorbar\": {\"outlinewidth\": 0, \"ticks\": \"\"}, \"type\": \"mesh3d\"}], \"parcoords\": [{\"line\": {\"colorbar\": {\"outlinewidth\": 0, \"ticks\": \"\"}}, \"type\": \"parcoords\"}], \"pie\": [{\"automargin\": true, \"type\": \"pie\"}], \"scatter\": [{\"marker\": {\"colorbar\": {\"outlinewidth\": 0, \"ticks\": \"\"}}, \"type\": \"scatter\"}], \"scatter3d\": [{\"line\": {\"colorbar\": {\"outlinewidth\": 0, \"ticks\": \"\"}}, \"marker\": {\"colorbar\": {\"outlinewidth\": 0, \"ticks\": \"\"}}, \"type\": \"scatter3d\"}], \"scattercarpet\": [{\"marker\": {\"colorbar\": {\"outlinewidth\": 0, \"ticks\": \"\"}}, \"type\": \"scattercarpet\"}], \"scattergeo\": [{\"marker\": {\"colorbar\": {\"outlinewidth\": 0, \"ticks\": \"\"}}, \"type\": \"scattergeo\"}], \"scattergl\": [{\"marker\": {\"colorbar\": {\"outlinewidth\": 0, \"ticks\": \"\"}}, \"type\": \"scattergl\"}], \"scattermapbox\": [{\"marker\": {\"colorbar\": {\"outlinewidth\": 0, \"ticks\": \"\"}}, \"type\": \"scattermapbox\"}], \"scatterpolar\": [{\"marker\": {\"colorbar\": {\"outlinewidth\": 0, \"ticks\": \"\"}}, \"type\": \"scatterpolar\"}], \"scatterpolargl\": [{\"marker\": {\"colorbar\": {\"outlinewidth\": 0, \"ticks\": \"\"}}, \"type\": \"scatterpolargl\"}], \"scatterternary\": [{\"marker\": {\"colorbar\": {\"outlinewidth\": 0, \"ticks\": \"\"}}, \"type\": \"scatterternary\"}], \"surface\": [{\"colorbar\": {\"outlinewidth\": 0, \"ticks\": \"\"}, \"colorscale\": [[0.0, \"#0d0887\"], [0.1111111111111111, \"#46039f\"], [0.2222222222222222, \"#7201a8\"], [0.3333333333333333, \"#9c179e\"], [0.4444444444444444, \"#bd3786\"], [0.5555555555555556, \"#d8576b\"], [0.6666666666666666, \"#ed7953\"], [0.7777777777777778, \"#fb9f3a\"], [0.8888888888888888, \"#fdca26\"], [1.0, \"#f0f921\"]], \"type\": \"surface\"}], \"table\": [{\"cells\": {\"fill\": {\"color\": \"#EBF0F8\"}, \"line\": {\"color\": \"white\"}}, \"header\": {\"fill\": {\"color\": \"#C8D4E3\"}, \"line\": {\"color\": \"white\"}}, \"type\": \"table\"}]}, \"layout\": {\"annotationdefaults\": {\"arrowcolor\": \"#2a3f5f\", \"arrowhead\": 0, \"arrowwidth\": 1}, \"coloraxis\": {\"colorbar\": {\"outlinewidth\": 0, \"ticks\": \"\"}}, \"colorscale\": {\"diverging\": [[0, \"#8e0152\"], [0.1, \"#c51b7d\"], [0.2, \"#de77ae\"], [0.3, \"#f1b6da\"], [0.4, \"#fde0ef\"], [0.5, \"#f7f7f7\"], [0.6, \"#e6f5d0\"], [0.7, \"#b8e186\"], [0.8, \"#7fbc41\"], [0.9, \"#4d9221\"], [1, \"#276419\"]], \"sequential\": [[0.0, \"#0d0887\"], [0.1111111111111111, \"#46039f\"], [0.2222222222222222, \"#7201a8\"], [0.3333333333333333, \"#9c179e\"], [0.4444444444444444, \"#bd3786\"], [0.5555555555555556, \"#d8576b\"], [0.6666666666666666, \"#ed7953\"], [0.7777777777777778, \"#fb9f3a\"], [0.8888888888888888, \"#fdca26\"], [1.0, \"#f0f921\"]], \"sequentialminus\": [[0.0, \"#0d0887\"], [0.1111111111111111, \"#46039f\"], [0.2222222222222222, \"#7201a8\"], [0.3333333333333333, \"#9c179e\"], [0.4444444444444444, \"#bd3786\"], [0.5555555555555556, \"#d8576b\"], [0.6666666666666666, \"#ed7953\"], [0.7777777777777778, \"#fb9f3a\"], [0.8888888888888888, \"#fdca26\"], [1.0, \"#f0f921\"]]}, \"colorway\": [\"#636efa\", \"#EF553B\", \"#00cc96\", \"#ab63fa\", \"#FFA15A\", \"#19d3f3\", \"#FF6692\", \"#B6E880\", \"#FF97FF\", \"#FECB52\"], \"font\": {\"color\": \"#2a3f5f\"}, \"geo\": {\"bgcolor\": \"white\", \"lakecolor\": \"white\", \"landcolor\": \"#E5ECF6\", \"showlakes\": true, \"showland\": true, \"subunitcolor\": \"white\"}, \"hoverlabel\": {\"align\": \"left\"}, \"hovermode\": \"closest\", \"mapbox\": {\"style\": \"light\"}, \"paper_bgcolor\": \"white\", \"plot_bgcolor\": \"#E5ECF6\", \"polar\": {\"angularaxis\": {\"gridcolor\": \"white\", \"linecolor\": \"white\", \"ticks\": \"\"}, \"bgcolor\": \"#E5ECF6\", \"radialaxis\": {\"gridcolor\": \"white\", \"linecolor\": \"white\", \"ticks\": \"\"}}, \"scene\": {\"xaxis\": {\"backgroundcolor\": \"#E5ECF6\", \"gridcolor\": \"white\", \"gridwidth\": 2, \"linecolor\": \"white\", \"showbackground\": true, \"ticks\": \"\", \"zerolinecolor\": \"white\"}, \"yaxis\": {\"backgroundcolor\": \"#E5ECF6\", \"gridcolor\": \"white\", \"gridwidth\": 2, \"linecolor\": \"white\", \"showbackground\": true, \"ticks\": \"\", \"zerolinecolor\": \"white\"}, \"zaxis\": {\"backgroundcolor\": \"#E5ECF6\", \"gridcolor\": \"white\", \"gridwidth\": 2, \"linecolor\": \"white\", \"showbackground\": true, \"ticks\": \"\", \"zerolinecolor\": \"white\"}}, \"shapedefaults\": {\"line\": {\"color\": \"#2a3f5f\"}}, \"ternary\": {\"aaxis\": {\"gridcolor\": \"white\", \"linecolor\": \"white\", \"ticks\": \"\"}, \"baxis\": {\"gridcolor\": \"white\", \"linecolor\": \"white\", \"ticks\": \"\"}, \"bgcolor\": \"#E5ECF6\", \"caxis\": {\"gridcolor\": \"white\", \"linecolor\": \"white\", \"ticks\": \"\"}}, \"title\": {\"x\": 0.05}, \"xaxis\": {\"automargin\": true, \"gridcolor\": \"white\", \"linecolor\": \"white\", \"ticks\": \"\", \"title\": {\"standoff\": 15}, \"zerolinecolor\": \"white\", \"zerolinewidth\": 2}, \"yaxis\": {\"automargin\": true, \"gridcolor\": \"white\", \"linecolor\": \"white\", \"ticks\": \"\", \"title\": {\"standoff\": 15}, \"zerolinecolor\": \"white\", \"zerolinewidth\": 2}}}, \"xaxis\": {\"anchor\": \"y\", \"domain\": [0.0, 1.0], \"title\": {\"text\": \"Name\"}}, \"yaxis\": {\"anchor\": \"x\", \"domain\": [0.0, 1.0], \"title\": {\"text\": \"count\"}}},\n",
              "                        {\"responsive\": true}\n",
              "                    ).then(function(){\n",
              "                            \n",
              "var gd = document.getElementById('a8e28c83-f611-4a83-8e7b-2fd5f5d44343');\n",
              "var x = new MutationObserver(function (mutations, observer) {{\n",
              "        var display = window.getComputedStyle(gd).display;\n",
              "        if (!display || display === 'none') {{\n",
              "            console.log([gd, 'removed!']);\n",
              "            Plotly.purge(gd);\n",
              "            observer.disconnect();\n",
              "        }}\n",
              "}});\n",
              "\n",
              "// Listen for the removal of the full notebook cells\n",
              "var notebookContainer = gd.closest('#notebook-container');\n",
              "if (notebookContainer) {{\n",
              "    x.observe(notebookContainer, {childList: true});\n",
              "}}\n",
              "\n",
              "// Listen for the clearing of the current output cell\n",
              "var outputEl = gd.closest('.output');\n",
              "if (outputEl) {{\n",
              "    x.observe(outputEl, {childList: true});\n",
              "}}\n",
              "\n",
              "                        })\n",
              "                };\n",
              "                \n",
              "            </script>\n",
              "        </div>\n",
              "</body>\n",
              "</html>"
            ]
          },
          "metadata": {
            "tags": []
          }
        },
        {
          "output_type": "display_data",
          "data": {
            "text/html": [
              "<html>\n",
              "<head><meta charset=\"utf-8\" /></head>\n",
              "<body>\n",
              "    <div>\n",
              "            <script src=\"https://cdnjs.cloudflare.com/ajax/libs/mathjax/2.7.5/MathJax.js?config=TeX-AMS-MML_SVG\"></script><script type=\"text/javascript\">if (window.MathJax) {MathJax.Hub.Config({SVG: {font: \"STIX-Web\"}});}</script>\n",
              "                <script type=\"text/javascript\">window.PlotlyConfig = {MathJaxConfig: 'local'};</script>\n",
              "        <script src=\"https://cdn.plot.ly/plotly-latest.min.js\"></script>    \n",
              "            <div id=\"127f2652-6b3e-4261-98a6-784d0fae97ab\" class=\"plotly-graph-div\" style=\"height:525px; width:100%;\"></div>\n",
              "            <script type=\"text/javascript\">\n",
              "                \n",
              "                    window.PLOTLYENV=window.PLOTLYENV || {};\n",
              "                    \n",
              "                if (document.getElementById(\"127f2652-6b3e-4261-98a6-784d0fae97ab\")) {\n",
              "                    Plotly.newPlot(\n",
              "                        '127f2652-6b3e-4261-98a6-784d0fae97ab',\n",
              "                        [{\"alignmentgroup\": \"True\", \"bingroup\": \"x\", \"hoverlabel\": {\"namelength\": 0}, \"hovertemplate\": \"Survived=0<br>Sex=%{x}<br>count=%{y}\", \"legendgroup\": \"Survived=0\", \"marker\": {\"color\": \"#636efa\"}, \"name\": \"Survived=0\", \"offsetgroup\": \"Survived=0\", \"orientation\": \"v\", \"showlegend\": true, \"type\": \"histogram\", \"x\": [\"male\", \"male\", \"male\", \"male\", \"male\", \"male\", \"male\", \"female\", \"male\", \"female\", \"male\", \"female\", \"male\", \"male\", \"male\", \"male\", \"male\", \"male\", \"male\", \"male\", \"female\", \"female\", \"female\", \"male\", \"male\", \"male\", \"male\", \"female\", \"male\", \"male\", \"male\", \"male\", \"male\", \"male\", \"male\", \"male\", \"male\", \"male\", \"male\", \"male\", \"female\", \"male\", \"male\", \"male\", \"male\", \"male\", \"male\", \"male\", \"male\", \"male\", \"male\", \"male\", \"male\", \"male\", \"male\", \"male\", \"male\", \"male\", \"male\", \"female\", \"male\", \"male\", \"male\", \"male\", \"male\", \"male\", \"male\", \"female\", \"male\", \"female\", \"female\", \"male\", \"male\", \"male\", \"male\", \"female\", \"male\", \"male\", \"male\", \"male\", \"male\", \"male\", \"male\", \"male\", \"female\", \"male\", \"male\", \"male\", \"male\", \"male\", \"female\", \"male\", \"male\", \"male\", \"female\", \"male\", \"male\", \"male\", \"male\", \"male\", \"male\", \"male\", \"male\", \"male\", \"male\", \"male\", \"male\", \"male\", \"male\", \"female\", \"male\", \"male\", \"male\", \"male\", \"male\", \"male\", \"male\", \"male\", \"female\", \"male\", \"male\", \"female\", \"male\", \"male\", \"male\", \"male\", \"male\", \"male\", \"male\", \"male\", \"female\", \"male\", \"male\", \"male\", \"male\", \"female\", \"male\", \"male\", \"male\", \"male\", \"male\", \"male\", \"male\", \"male\", \"male\", \"male\", \"male\", \"male\", \"male\", \"female\", \"male\", \"male\", \"male\", \"female\", \"male\", \"male\", \"male\", \"female\", \"male\", \"male\", \"male\", \"male\", \"female\", \"male\", \"male\", \"female\", \"male\", \"male\", \"female\", \"male\", \"male\", \"male\", \"female\", \"male\", \"male\", \"male\", \"male\", \"female\", \"male\", \"male\", \"male\", \"male\", \"male\", \"male\", \"male\", \"male\", \"male\", \"female\", \"male\", \"male\", \"male\", \"female\", \"male\", \"male\", \"male\", \"female\", \"male\", \"male\", \"male\", \"male\", \"male\", \"male\", \"male\", \"male\", \"male\", \"male\", \"male\", \"male\", \"male\", \"male\", \"male\", \"male\", \"male\", \"male\", \"male\", \"male\", \"male\", \"male\", \"male\", \"female\", \"male\", \"male\", \"female\", \"male\", \"male\", \"male\", \"male\", \"male\", \"male\", \"female\", \"male\", \"male\", \"male\", \"male\", \"male\", \"male\", \"male\", \"male\", \"male\", \"male\", \"female\", \"male\", \"male\", \"male\", \"female\", \"male\", \"female\", \"male\", \"male\", \"male\", \"female\", \"male\", \"male\", \"male\", \"female\", \"male\", \"female\", \"male\", \"male\", \"male\", \"female\", \"male\", \"male\", \"male\", \"male\", \"male\", \"female\", \"male\", \"male\", \"male\", \"male\", \"male\", \"male\", \"male\", \"male\", \"male\", \"male\", \"male\", \"male\", \"male\", \"male\", \"male\", \"male\", \"male\", \"male\", \"male\", \"male\", \"female\", \"male\", \"male\", \"male\", \"male\", \"male\", \"male\", \"male\", \"female\", \"male\", \"male\", \"male\", \"male\", \"male\", \"male\", \"male\", \"male\", \"male\", \"female\", \"male\", \"male\", \"female\", \"female\", \"female\", \"male\", \"male\", \"male\", \"male\", \"male\", \"male\", \"male\", \"male\", \"male\", \"male\", \"male\", \"male\", \"male\", \"male\", \"male\", \"male\", \"female\", \"male\", \"male\", \"female\", \"female\", \"male\", \"male\", \"male\", \"male\", \"male\", \"male\", \"male\", \"male\", \"male\", \"male\", \"male\", \"female\", \"male\", \"male\", \"female\", \"male\", \"male\", \"male\", \"female\", \"male\", \"male\", \"male\", \"male\", \"male\", \"male\", \"male\", \"male\", \"female\", \"male\", \"male\", \"male\", \"male\", \"male\", \"male\", \"male\", \"male\", \"male\", \"female\", \"male\", \"male\", \"male\", \"male\", \"female\", \"male\", \"male\", \"male\", \"male\", \"male\", \"male\", \"male\", \"male\", \"male\", \"male\", \"female\", \"male\", \"male\", \"female\", \"male\", \"male\", \"female\", \"male\", \"male\", \"male\", \"male\", \"female\", \"male\", \"male\", \"female\", \"male\", \"male\", \"male\", \"male\", \"male\", \"male\", \"male\", \"male\", \"male\", \"male\", \"male\", \"male\", \"male\", \"male\", \"female\", \"female\", \"male\", \"male\", \"male\", \"male\", \"male\", \"male\", \"male\", \"male\", \"male\", \"male\", \"male\", \"male\", \"male\", \"female\", \"male\", \"male\", \"male\", \"male\", \"male\", \"male\", \"male\", \"male\", \"male\", \"male\", \"male\", \"male\", \"male\", \"male\", \"female\", \"male\", \"male\", \"male\", \"male\", \"male\", \"female\", \"male\", \"male\", \"male\", \"male\", \"male\", \"male\", \"male\", \"male\", \"male\", \"male\", \"male\", \"male\", \"male\", \"male\", \"male\", \"male\", \"male\", \"female\", \"male\", \"male\", \"male\", \"male\", \"female\", \"male\", \"male\", \"male\", \"male\", \"male\", \"male\", \"male\", \"male\", \"male\", \"male\", \"male\", \"male\", \"female\", \"male\", \"male\", \"male\", \"male\", \"female\", \"male\", \"male\", \"male\", \"female\", \"male\", \"male\", \"male\", \"male\", \"female\", \"male\", \"male\", \"female\", \"male\", \"male\", \"male\", \"male\", \"male\", \"male\", \"male\", \"male\", \"male\", \"male\", \"male\", \"male\", \"male\", \"male\", \"male\", \"male\", \"male\", \"male\", \"male\", \"male\", \"male\", \"male\", \"female\", \"female\", \"male\", \"male\", \"male\", \"female\", \"male\", \"male\", \"male\", \"male\", \"male\", \"male\", \"male\", \"male\", \"male\", \"male\", \"female\", \"male\", \"male\", \"female\", \"male\", \"female\", \"male\"], \"xaxis\": \"x\", \"yaxis\": \"y\"}, {\"alignmentgroup\": \"True\", \"bingroup\": \"x\", \"hoverlabel\": {\"namelength\": 0}, \"hovertemplate\": \"Survived=1<br>Sex=%{x}<br>count=%{y}\", \"legendgroup\": \"Survived=1\", \"marker\": {\"color\": \"#EF553B\"}, \"name\": \"Survived=1\", \"offsetgroup\": \"Survived=1\", \"orientation\": \"v\", \"showlegend\": true, \"type\": \"histogram\", \"x\": [\"female\", \"female\", \"female\", \"female\", \"female\", \"female\", \"female\", \"female\", \"male\", \"female\", \"male\", \"female\", \"male\", \"female\", \"female\", \"female\", \"female\", \"male\", \"female\", \"female\", \"female\", \"female\", \"female\", \"female\", \"male\", \"female\", \"female\", \"female\", \"male\", \"female\", \"female\", \"male\", \"male\", \"female\", \"male\", \"female\", \"female\", \"female\", \"female\", \"male\", \"female\", \"female\", \"male\", \"female\", \"female\", \"male\", \"male\", \"female\", \"female\", \"female\", \"female\", \"female\", \"male\", \"female\", \"female\", \"female\", \"male\", \"female\", \"female\", \"male\", \"female\", \"female\", \"male\", \"female\", \"female\", \"male\", \"female\", \"female\", \"female\", \"male\", \"male\", \"female\", \"male\", \"female\", \"female\", \"female\", \"female\", \"male\", \"male\", \"male\", \"female\", \"female\", \"female\", \"female\", \"female\", \"male\", \"female\", \"female\", \"female\", \"female\", \"female\", \"male\", \"male\", \"female\", \"female\", \"male\", \"female\", \"female\", \"female\", \"female\", \"male\", \"male\", \"male\", \"female\", \"female\", \"female\", \"male\", \"female\", \"female\", \"male\", \"female\", \"male\", \"female\", \"female\", \"female\", \"female\", \"female\", \"female\", \"female\", \"female\", \"female\", \"female\", \"female\", \"female\", \"female\", \"female\", \"female\", \"female\", \"female\", \"female\", \"male\", \"male\", \"female\", \"female\", \"female\", \"female\", \"male\", \"female\", \"female\", \"female\", \"female\", \"female\", \"female\", \"female\", \"male\", \"female\", \"female\", \"female\", \"female\", \"female\", \"female\", \"female\", \"male\", \"male\", \"female\", \"female\", \"female\", \"male\", \"male\", \"female\", \"male\", \"female\", \"female\", \"female\", \"female\", \"male\", \"male\", \"female\", \"female\", \"female\", \"female\", \"female\", \"female\", \"male\", \"male\", \"female\", \"male\", \"female\", \"male\", \"male\", \"male\", \"female\", \"female\", \"male\", \"female\", \"female\", \"female\", \"female\", \"female\", \"male\", \"female\", \"male\", \"female\", \"female\", \"female\", \"male\", \"male\", \"male\", \"male\", \"female\", \"female\", \"female\", \"female\", \"female\", \"female\", \"female\", \"female\", \"female\", \"female\", \"female\", \"female\", \"male\", \"female\", \"male\", \"male\", \"male\", \"male\", \"female\", \"female\", \"female\", \"female\", \"male\", \"male\", \"female\", \"male\", \"female\", \"female\", \"female\", \"male\", \"female\", \"female\", \"female\", \"male\", \"female\", \"female\", \"male\", \"female\", \"male\", \"male\", \"female\", \"female\", \"female\", \"female\", \"female\", \"male\", \"male\", \"female\", \"male\", \"male\", \"female\", \"female\", \"male\", \"female\", \"male\", \"male\", \"female\", \"female\", \"female\", \"male\", \"male\", \"female\", \"female\", \"male\", \"female\", \"male\", \"male\", \"female\", \"male\", \"female\", \"male\", \"female\", \"female\", \"male\", \"female\", \"male\", \"female\", \"male\", \"female\", \"male\", \"female\", \"female\", \"female\", \"male\", \"female\", \"female\", \"female\", \"male\", \"male\", \"female\", \"male\", \"female\", \"female\", \"male\", \"female\", \"male\", \"female\", \"male\", \"female\", \"female\", \"female\", \"female\", \"female\", \"female\", \"female\", \"female\", \"male\", \"female\", \"female\", \"female\", \"male\", \"male\", \"male\", \"female\", \"female\", \"male\", \"female\", \"male\", \"male\", \"female\", \"female\", \"male\", \"female\", \"male\", \"male\", \"female\", \"female\", \"female\", \"female\", \"female\", \"male\", \"female\", \"female\", \"female\", \"female\", \"male\", \"female\", \"female\", \"female\", \"female\", \"female\", \"female\", \"male\"], \"xaxis\": \"x\", \"yaxis\": \"y\"}],\n",
              "                        {\"barmode\": \"relative\", \"legend\": {\"tracegroupgap\": 0}, \"margin\": {\"t\": 60}, \"template\": {\"data\": {\"bar\": [{\"error_x\": {\"color\": \"#2a3f5f\"}, \"error_y\": {\"color\": \"#2a3f5f\"}, \"marker\": {\"line\": {\"color\": \"#E5ECF6\", \"width\": 0.5}}, \"type\": \"bar\"}], \"barpolar\": [{\"marker\": {\"line\": {\"color\": \"#E5ECF6\", \"width\": 0.5}}, \"type\": \"barpolar\"}], \"carpet\": [{\"aaxis\": {\"endlinecolor\": \"#2a3f5f\", \"gridcolor\": \"white\", \"linecolor\": \"white\", \"minorgridcolor\": \"white\", \"startlinecolor\": \"#2a3f5f\"}, \"baxis\": {\"endlinecolor\": \"#2a3f5f\", \"gridcolor\": \"white\", \"linecolor\": \"white\", \"minorgridcolor\": \"white\", \"startlinecolor\": \"#2a3f5f\"}, \"type\": \"carpet\"}], \"choropleth\": [{\"colorbar\": {\"outlinewidth\": 0, \"ticks\": \"\"}, \"type\": \"choropleth\"}], \"contour\": [{\"colorbar\": {\"outlinewidth\": 0, \"ticks\": \"\"}, \"colorscale\": [[0.0, \"#0d0887\"], [0.1111111111111111, \"#46039f\"], [0.2222222222222222, \"#7201a8\"], [0.3333333333333333, \"#9c179e\"], [0.4444444444444444, \"#bd3786\"], [0.5555555555555556, \"#d8576b\"], [0.6666666666666666, \"#ed7953\"], [0.7777777777777778, \"#fb9f3a\"], [0.8888888888888888, \"#fdca26\"], [1.0, \"#f0f921\"]], \"type\": \"contour\"}], \"contourcarpet\": [{\"colorbar\": {\"outlinewidth\": 0, \"ticks\": \"\"}, \"type\": \"contourcarpet\"}], \"heatmap\": [{\"colorbar\": {\"outlinewidth\": 0, \"ticks\": \"\"}, \"colorscale\": [[0.0, \"#0d0887\"], [0.1111111111111111, \"#46039f\"], [0.2222222222222222, \"#7201a8\"], [0.3333333333333333, \"#9c179e\"], [0.4444444444444444, \"#bd3786\"], [0.5555555555555556, \"#d8576b\"], [0.6666666666666666, \"#ed7953\"], [0.7777777777777778, \"#fb9f3a\"], [0.8888888888888888, \"#fdca26\"], [1.0, \"#f0f921\"]], \"type\": \"heatmap\"}], \"heatmapgl\": [{\"colorbar\": {\"outlinewidth\": 0, \"ticks\": \"\"}, \"colorscale\": [[0.0, \"#0d0887\"], [0.1111111111111111, \"#46039f\"], [0.2222222222222222, \"#7201a8\"], [0.3333333333333333, \"#9c179e\"], [0.4444444444444444, \"#bd3786\"], [0.5555555555555556, \"#d8576b\"], [0.6666666666666666, \"#ed7953\"], [0.7777777777777778, \"#fb9f3a\"], [0.8888888888888888, \"#fdca26\"], [1.0, \"#f0f921\"]], \"type\": \"heatmapgl\"}], \"histogram\": [{\"marker\": {\"colorbar\": {\"outlinewidth\": 0, \"ticks\": \"\"}}, \"type\": \"histogram\"}], \"histogram2d\": [{\"colorbar\": {\"outlinewidth\": 0, \"ticks\": \"\"}, \"colorscale\": [[0.0, \"#0d0887\"], [0.1111111111111111, \"#46039f\"], [0.2222222222222222, \"#7201a8\"], [0.3333333333333333, \"#9c179e\"], [0.4444444444444444, \"#bd3786\"], [0.5555555555555556, \"#d8576b\"], [0.6666666666666666, \"#ed7953\"], [0.7777777777777778, \"#fb9f3a\"], [0.8888888888888888, \"#fdca26\"], [1.0, \"#f0f921\"]], \"type\": \"histogram2d\"}], \"histogram2dcontour\": [{\"colorbar\": {\"outlinewidth\": 0, \"ticks\": \"\"}, \"colorscale\": [[0.0, \"#0d0887\"], [0.1111111111111111, \"#46039f\"], [0.2222222222222222, \"#7201a8\"], [0.3333333333333333, \"#9c179e\"], [0.4444444444444444, \"#bd3786\"], [0.5555555555555556, \"#d8576b\"], [0.6666666666666666, \"#ed7953\"], [0.7777777777777778, \"#fb9f3a\"], [0.8888888888888888, \"#fdca26\"], [1.0, \"#f0f921\"]], \"type\": \"histogram2dcontour\"}], \"mesh3d\": [{\"colorbar\": {\"outlinewidth\": 0, \"ticks\": \"\"}, \"type\": \"mesh3d\"}], \"parcoords\": [{\"line\": {\"colorbar\": {\"outlinewidth\": 0, \"ticks\": \"\"}}, \"type\": \"parcoords\"}], \"pie\": [{\"automargin\": true, \"type\": \"pie\"}], \"scatter\": [{\"marker\": {\"colorbar\": {\"outlinewidth\": 0, \"ticks\": \"\"}}, \"type\": \"scatter\"}], \"scatter3d\": [{\"line\": {\"colorbar\": {\"outlinewidth\": 0, \"ticks\": \"\"}}, \"marker\": {\"colorbar\": {\"outlinewidth\": 0, \"ticks\": \"\"}}, \"type\": \"scatter3d\"}], \"scattercarpet\": [{\"marker\": {\"colorbar\": {\"outlinewidth\": 0, \"ticks\": \"\"}}, \"type\": \"scattercarpet\"}], \"scattergeo\": [{\"marker\": {\"colorbar\": {\"outlinewidth\": 0, \"ticks\": \"\"}}, \"type\": \"scattergeo\"}], \"scattergl\": [{\"marker\": {\"colorbar\": {\"outlinewidth\": 0, \"ticks\": \"\"}}, \"type\": \"scattergl\"}], \"scattermapbox\": [{\"marker\": {\"colorbar\": {\"outlinewidth\": 0, \"ticks\": \"\"}}, \"type\": \"scattermapbox\"}], \"scatterpolar\": [{\"marker\": {\"colorbar\": {\"outlinewidth\": 0, \"ticks\": \"\"}}, \"type\": \"scatterpolar\"}], \"scatterpolargl\": [{\"marker\": {\"colorbar\": {\"outlinewidth\": 0, \"ticks\": \"\"}}, \"type\": \"scatterpolargl\"}], \"scatterternary\": [{\"marker\": {\"colorbar\": {\"outlinewidth\": 0, \"ticks\": \"\"}}, \"type\": \"scatterternary\"}], \"surface\": [{\"colorbar\": {\"outlinewidth\": 0, \"ticks\": \"\"}, \"colorscale\": [[0.0, \"#0d0887\"], [0.1111111111111111, \"#46039f\"], [0.2222222222222222, \"#7201a8\"], [0.3333333333333333, \"#9c179e\"], [0.4444444444444444, \"#bd3786\"], [0.5555555555555556, \"#d8576b\"], [0.6666666666666666, \"#ed7953\"], [0.7777777777777778, \"#fb9f3a\"], [0.8888888888888888, \"#fdca26\"], [1.0, \"#f0f921\"]], \"type\": \"surface\"}], \"table\": [{\"cells\": {\"fill\": {\"color\": \"#EBF0F8\"}, \"line\": {\"color\": \"white\"}}, \"header\": {\"fill\": {\"color\": \"#C8D4E3\"}, \"line\": {\"color\": \"white\"}}, \"type\": \"table\"}]}, \"layout\": {\"annotationdefaults\": {\"arrowcolor\": \"#2a3f5f\", \"arrowhead\": 0, \"arrowwidth\": 1}, \"coloraxis\": {\"colorbar\": {\"outlinewidth\": 0, \"ticks\": \"\"}}, \"colorscale\": {\"diverging\": [[0, \"#8e0152\"], [0.1, \"#c51b7d\"], [0.2, \"#de77ae\"], [0.3, \"#f1b6da\"], [0.4, \"#fde0ef\"], [0.5, \"#f7f7f7\"], [0.6, \"#e6f5d0\"], [0.7, \"#b8e186\"], [0.8, \"#7fbc41\"], [0.9, \"#4d9221\"], [1, \"#276419\"]], \"sequential\": [[0.0, \"#0d0887\"], [0.1111111111111111, \"#46039f\"], [0.2222222222222222, \"#7201a8\"], [0.3333333333333333, \"#9c179e\"], [0.4444444444444444, \"#bd3786\"], [0.5555555555555556, \"#d8576b\"], [0.6666666666666666, \"#ed7953\"], [0.7777777777777778, \"#fb9f3a\"], [0.8888888888888888, \"#fdca26\"], [1.0, \"#f0f921\"]], \"sequentialminus\": [[0.0, \"#0d0887\"], [0.1111111111111111, \"#46039f\"], [0.2222222222222222, \"#7201a8\"], [0.3333333333333333, \"#9c179e\"], [0.4444444444444444, \"#bd3786\"], [0.5555555555555556, \"#d8576b\"], [0.6666666666666666, \"#ed7953\"], [0.7777777777777778, \"#fb9f3a\"], [0.8888888888888888, \"#fdca26\"], [1.0, \"#f0f921\"]]}, \"colorway\": [\"#636efa\", \"#EF553B\", \"#00cc96\", \"#ab63fa\", \"#FFA15A\", \"#19d3f3\", \"#FF6692\", \"#B6E880\", \"#FF97FF\", \"#FECB52\"], \"font\": {\"color\": \"#2a3f5f\"}, \"geo\": {\"bgcolor\": \"white\", \"lakecolor\": \"white\", \"landcolor\": \"#E5ECF6\", \"showlakes\": true, \"showland\": true, \"subunitcolor\": \"white\"}, \"hoverlabel\": {\"align\": \"left\"}, \"hovermode\": \"closest\", \"mapbox\": {\"style\": \"light\"}, \"paper_bgcolor\": \"white\", \"plot_bgcolor\": \"#E5ECF6\", \"polar\": {\"angularaxis\": {\"gridcolor\": \"white\", \"linecolor\": \"white\", \"ticks\": \"\"}, \"bgcolor\": \"#E5ECF6\", \"radialaxis\": {\"gridcolor\": \"white\", \"linecolor\": \"white\", \"ticks\": \"\"}}, \"scene\": {\"xaxis\": {\"backgroundcolor\": \"#E5ECF6\", \"gridcolor\": \"white\", \"gridwidth\": 2, \"linecolor\": \"white\", \"showbackground\": true, \"ticks\": \"\", \"zerolinecolor\": \"white\"}, \"yaxis\": {\"backgroundcolor\": \"#E5ECF6\", \"gridcolor\": \"white\", \"gridwidth\": 2, \"linecolor\": \"white\", \"showbackground\": true, \"ticks\": \"\", \"zerolinecolor\": \"white\"}, \"zaxis\": {\"backgroundcolor\": \"#E5ECF6\", \"gridcolor\": \"white\", \"gridwidth\": 2, \"linecolor\": \"white\", \"showbackground\": true, \"ticks\": \"\", \"zerolinecolor\": \"white\"}}, \"shapedefaults\": {\"line\": {\"color\": \"#2a3f5f\"}}, \"ternary\": {\"aaxis\": {\"gridcolor\": \"white\", \"linecolor\": \"white\", \"ticks\": \"\"}, \"baxis\": {\"gridcolor\": \"white\", \"linecolor\": \"white\", \"ticks\": \"\"}, \"bgcolor\": \"#E5ECF6\", \"caxis\": {\"gridcolor\": \"white\", \"linecolor\": \"white\", \"ticks\": \"\"}}, \"title\": {\"x\": 0.05}, \"xaxis\": {\"automargin\": true, \"gridcolor\": \"white\", \"linecolor\": \"white\", \"ticks\": \"\", \"title\": {\"standoff\": 15}, \"zerolinecolor\": \"white\", \"zerolinewidth\": 2}, \"yaxis\": {\"automargin\": true, \"gridcolor\": \"white\", \"linecolor\": \"white\", \"ticks\": \"\", \"title\": {\"standoff\": 15}, \"zerolinecolor\": \"white\", \"zerolinewidth\": 2}}}, \"xaxis\": {\"anchor\": \"y\", \"domain\": [0.0, 1.0], \"title\": {\"text\": \"Sex\"}}, \"yaxis\": {\"anchor\": \"x\", \"domain\": [0.0, 1.0], \"title\": {\"text\": \"count\"}}},\n",
              "                        {\"responsive\": true}\n",
              "                    ).then(function(){\n",
              "                            \n",
              "var gd = document.getElementById('127f2652-6b3e-4261-98a6-784d0fae97ab');\n",
              "var x = new MutationObserver(function (mutations, observer) {{\n",
              "        var display = window.getComputedStyle(gd).display;\n",
              "        if (!display || display === 'none') {{\n",
              "            console.log([gd, 'removed!']);\n",
              "            Plotly.purge(gd);\n",
              "            observer.disconnect();\n",
              "        }}\n",
              "}});\n",
              "\n",
              "// Listen for the removal of the full notebook cells\n",
              "var notebookContainer = gd.closest('#notebook-container');\n",
              "if (notebookContainer) {{\n",
              "    x.observe(notebookContainer, {childList: true});\n",
              "}}\n",
              "\n",
              "// Listen for the clearing of the current output cell\n",
              "var outputEl = gd.closest('.output');\n",
              "if (outputEl) {{\n",
              "    x.observe(outputEl, {childList: true});\n",
              "}}\n",
              "\n",
              "                        })\n",
              "                };\n",
              "                \n",
              "            </script>\n",
              "        </div>\n",
              "</body>\n",
              "</html>"
            ]
          },
          "metadata": {
            "tags": []
          }
        },
        {
          "output_type": "display_data",
          "data": {
            "text/html": [
              "<html>\n",
              "<head><meta charset=\"utf-8\" /></head>\n",
              "<body>\n",
              "    <div>\n",
              "            <script src=\"https://cdnjs.cloudflare.com/ajax/libs/mathjax/2.7.5/MathJax.js?config=TeX-AMS-MML_SVG\"></script><script type=\"text/javascript\">if (window.MathJax) {MathJax.Hub.Config({SVG: {font: \"STIX-Web\"}});}</script>\n",
              "                <script type=\"text/javascript\">window.PlotlyConfig = {MathJaxConfig: 'local'};</script>\n",
              "        <script src=\"https://cdn.plot.ly/plotly-latest.min.js\"></script>    \n",
              "            <div id=\"8b8a3c72-57be-4196-9780-a49015bf8fc6\" class=\"plotly-graph-div\" style=\"height:525px; width:100%;\"></div>\n",
              "            <script type=\"text/javascript\">\n",
              "                \n",
              "                    window.PLOTLYENV=window.PLOTLYENV || {};\n",
              "                    \n",
              "                if (document.getElementById(\"8b8a3c72-57be-4196-9780-a49015bf8fc6\")) {\n",
              "                    Plotly.newPlot(\n",
              "                        '8b8a3c72-57be-4196-9780-a49015bf8fc6',\n",
              "                        [{\"alignmentgroup\": \"True\", \"bingroup\": \"x\", \"hoverlabel\": {\"namelength\": 0}, \"hovertemplate\": \"Survived=0<br>Age=%{x}<br>count=%{y}\", \"legendgroup\": \"Survived=0\", \"marker\": {\"color\": \"#636efa\"}, \"name\": \"Survived=0\", \"offsetgroup\": \"Survived=0\", \"orientation\": \"v\", \"showlegend\": true, \"type\": \"histogram\", \"x\": [22.0, 35.0, null, 54.0, 2.0, 20.0, 39.0, 14.0, 2.0, 31.0, 35.0, 8.0, null, 19.0, null, 40.0, 66.0, 28.0, 42.0, 21.0, 18.0, 40.0, 27.0, null, null, null, null, 18.0, 7.0, 21.0, 65.0, 28.5, 11.0, 22.0, 45.0, 4.0, null, 19.0, 26.0, 32.0, 16.0, 21.0, 26.0, 25.0, null, null, 22.0, 28.0, 16.0, null, 24.0, 29.0, 20.0, 46.0, 26.0, 59.0, null, 71.0, 34.0, 28.0, null, 21.0, 33.0, 37.0, 28.0, 38.0, 47.0, 14.5, 22.0, 20.0, 17.0, 21.0, 70.5, 29.0, 24.0, 2.0, 21.0, null, 32.5, 54.0, null, 45.0, 33.0, 20.0, 47.0, 25.0, 23.0, 37.0, 16.0, 24.0, null, 19.0, 18.0, 19.0, 9.0, 36.5, 42.0, 51.0, 55.5, 40.5, null, 51.0, 30.0, null, null, 44.0, 26.0, 17.0, 1.0, 45.0, null, 28.0, 61.0, 4.0, 21.0, 56.0, 18.0, null, 50.0, 30.0, 36.0, null, null, 9.0, null, 40.0, 36.0, 19.0, null, 42.0, 24.0, 28.0, null, 34.0, 45.5, 2.0, 32.0, 24.0, 22.0, 30.0, null, 42.0, 30.0, 27.0, 51.0, null, 22.0, 20.5, 18.0, null, 29.0, 59.0, 24.0, null, 44.0, 19.0, 33.0, null, 29.0, 22.0, 30.0, 44.0, 25.0, 54.0, null, 29.0, 62.0, 30.0, 41.0, null, 52.0, 40.0, null, 36.0, 16.0, null, 37.0, 45.0, null, 7.0, 65.0, 28.0, 16.0, null, 33.0, 22.0, 36.0, 24.0, 24.0, null, 23.5, 2.0, 19.0, null, 30.0, 26.0, 28.0, 43.0, 54.0, 22.0, 27.0, null, 61.0, 45.5, 38.0, 16.0, null, 29.0, 45.0, 28.0, 25.0, 36.0, 42.0, 23.0, null, 15.0, 25.0, null, 28.0, 38.0, 40.0, 29.0, 45.0, 35.0, null, 30.0, 18.0, 19.0, 22.0, 3.0, 27.0, 20.0, 19.0, 32.0, null, 18.0, 1.0, null, 28.0, 22.0, 31.0, 46.0, 23.0, 26.0, 21.0, 28.0, 20.0, 34.0, 51.0, 21.0, null, null, null, null, null, 30.0, 10.0, null, 21.0, 29.0, 28.0, 18.0, null, null, 17.0, 50.0, 21.0, 64.0, 31.0, 20.0, 25.0, 36.0, null, 30.0, null, 65.0, null, 34.0, 47.0, 48.0, null, 38.0, null, 56.0, null, null, 38.0, 22.0, null, 34.0, 29.0, 22.0, 9.0, null, 50.0, null, 58.0, 30.0, null, 21.0, 55.0, 71.0, 21.0, null, null, 25.0, 24.0, 17.0, 21.0, null, 37.0, 18.0, 28.0, null, 24.0, 47.0, null, 32.0, 22.0, null, null, 40.5, null, 39.0, 23.0, null, 17.0, 30.0, 45.0, null, 9.0, 11.0, 50.0, 64.0, 33.0, 27.0, null, 62.0, null, null, 40.0, 28.0, null, null, 24.0, 19.0, 29.0, null, 16.0, 19.0, null, 54.0, 36.0, null, 47.0, 22.0, null, 35.0, 47.0, null, 37.0, 36.0, 49.0, null, null, null, 44.0, 36.0, 30.0, 39.0, null, null, 35.0, 34.0, 26.0, 26.0, 27.0, 21.0, 21.0, 61.0, 57.0, 26.0, null, 51.0, null, 9.0, 32.0, 31.0, 41.0, null, 20.0, 2.0, 19.0, null, null, 21.0, 18.0, 24.0, null, 32.0, 23.0, 58.0, 40.0, 47.0, 36.0, 32.0, 25.0, null, 43.0, 31.0, 70.0, null, 18.0, 24.5, 43.0, null, 20.0, 14.0, 60.0, 25.0, 14.0, 19.0, 18.0, 25.0, 60.0, 52.0, 44.0, 49.0, 42.0, 18.0, 25.0, 26.0, 39.0, null, 29.0, 52.0, 19.0, null, 33.0, 17.0, 34.0, 50.0, 20.0, 25.0, 25.0, 11.0, null, 23.0, 23.0, 28.5, 48.0, null, null, 36.0, 24.0, 70.0, 16.0, 19.0, 31.0, 33.0, 23.0, 28.0, 18.0, 34.0, null, 41.0, 16.0, null, 30.5, null, 32.0, 24.0, 48.0, 57.0, null, 18.0, null, null, 29.0, null, 25.0, 25.0, 8.0, 46.0, null, 16.0, null, null, 25.0, 39.0, 30.0, 30.0, 34.0, 31.0, 39.0, 18.0, 39.0, 26.0, 39.0, 35.0, 6.0, 30.5, null, 23.0, 31.0, 43.0, 10.0, 38.0, 2.0, null, null, null, 23.0, 18.0, 21.0, null, 20.0, 16.0, 34.5, 17.0, 42.0, null, 35.0, 28.0, 4.0, 74.0, 9.0, 44.0, null, 41.0, 21.0, null, 24.0, 31.0, null, 26.0, 33.0, 47.0, 20.0, 19.0, null, 33.0, 22.0, 28.0, 25.0, 39.0, 27.0, null, 32.0], \"xaxis\": \"x\", \"yaxis\": \"y\"}, {\"alignmentgroup\": \"True\", \"bingroup\": \"x\", \"hoverlabel\": {\"namelength\": 0}, \"hovertemplate\": \"Survived=1<br>Age=%{x}<br>count=%{y}\", \"legendgroup\": \"Survived=1\", \"marker\": {\"color\": \"#EF553B\"}, \"name\": \"Survived=1\", \"offsetgroup\": \"Survived=1\", \"orientation\": \"v\", \"showlegend\": true, \"type\": \"histogram\", \"x\": [38.0, 26.0, 35.0, 27.0, 14.0, 4.0, 58.0, 55.0, null, null, 34.0, 15.0, 28.0, 38.0, null, null, null, null, 14.0, 3.0, 19.0, null, 49.0, 29.0, null, 21.0, 5.0, 38.0, null, 29.0, 17.0, 32.0, 0.83, 30.0, 29.0, null, 17.0, 33.0, 23.0, 23.0, 34.0, 21.0, null, null, 32.5, 12.0, 24.0, null, 29.0, 19.0, 22.0, 24.0, 27.0, 22.0, 16.0, 40.0, 9.0, null, 1.0, 1.0, 4.0, null, 45.0, 32.0, 19.0, 3.0, 44.0, 58.0, null, 18.0, 26.0, 16.0, 40.0, 35.0, 31.0, 27.0, 32.0, 16.0, 38.0, 19.0, 35.0, 5.0, 8.0, null, 24.0, 37.0, 29.0, null, 30.0, 35.0, 50.0, 3.0, 25.0, 58.0, 35.0, 25.0, 41.0, null, 63.0, 35.0, 19.0, 30.0, 42.0, 22.0, 26.0, 19.0, null, 50.0, null, null, null, 0.92, null, 17.0, 30.0, 24.0, 18.0, 26.0, 24.0, 31.0, 40.0, 30.0, 22.0, 36.0, 36.0, 31.0, 16.0, null, null, 41.0, 45.0, 2.0, 24.0, 24.0, 40.0, null, 3.0, 22.0, null, null, 60.0, null, null, 24.0, 25.0, null, 22.0, 42.0, 1.0, 35.0, 36.0, 17.0, 36.0, 21.0, 23.0, 24.0, 28.0, 39.0, 3.0, 33.0, 44.0, 34.0, 18.0, 28.0, 19.0, 32.0, 28.0, null, 42.0, 14.0, 24.0, 45.0, 28.0, null, 4.0, 13.0, 34.0, 5.0, 52.0, 49.0, 29.0, null, 50.0, 48.0, 0.75, 33.0, 23.0, 2.0, 63.0, 25.0, 35.0, 9.0, 54.0, 16.0, 33.0, null, 26.0, 29.0, 36.0, 54.0, 34.0, 36.0, 30.0, 44.0, 50.0, 2.0, null, 7.0, 30.0, 22.0, 36.0, 32.0, 19.0, null, 8.0, 17.0, 22.0, 22.0, 48.0, 39.0, 36.0, 32.0, 62.0, 53.0, 36.0, null, 34.0, 39.0, 32.0, 25.0, 39.0, 18.0, 60.0, 52.0, null, 49.0, 24.0, 35.0, 27.0, 22.0, 40.0, null, 24.0, 4.0, 42.0, 20.0, 21.0, 80.0, 32.0, 28.0, 24.0, null, 0.75, 48.0, 56.0, 23.0, 18.0, null, 50.0, 20.0, null, 40.0, 31.0, 18.0, 36.0, 27.0, 15.0, 31.0, 4.0, null, null, 18.0, 35.0, 45.0, 42.0, 22.0, null, 24.0, 48.0, 38.0, 27.0, 6.0, 27.0, 30.0, null, 29.0, 35.0, null, 21.0, 31.0, 30.0, 4.0, 6.0, 48.0, 0.67, 33.0, 20.0, 36.0, 51.0, 54.0, 5.0, 43.0, 13.0, 17.0, 18.0, 1.0, 49.0, 31.0, 31.0, 11.0, 0.42, 27.0, 33.0, 52.0, 27.0, 27.0, 1.0, null, 62.0, 15.0, 0.83, 39.0, 32.0, null, 30.0, null, 16.0, 18.0, 45.0, 51.0, 24.0, 48.0, 42.0, 27.0, 4.0, 47.0, 28.0, 15.0, 56.0, 25.0, 19.0, 26.0], \"xaxis\": \"x\", \"yaxis\": \"y\"}],\n",
              "                        {\"barmode\": \"relative\", \"legend\": {\"tracegroupgap\": 0}, \"margin\": {\"t\": 60}, \"template\": {\"data\": {\"bar\": [{\"error_x\": {\"color\": \"#2a3f5f\"}, \"error_y\": {\"color\": \"#2a3f5f\"}, \"marker\": {\"line\": {\"color\": \"#E5ECF6\", \"width\": 0.5}}, \"type\": \"bar\"}], \"barpolar\": [{\"marker\": {\"line\": {\"color\": \"#E5ECF6\", \"width\": 0.5}}, \"type\": \"barpolar\"}], \"carpet\": [{\"aaxis\": {\"endlinecolor\": \"#2a3f5f\", \"gridcolor\": \"white\", \"linecolor\": \"white\", \"minorgridcolor\": \"white\", \"startlinecolor\": \"#2a3f5f\"}, \"baxis\": {\"endlinecolor\": \"#2a3f5f\", \"gridcolor\": \"white\", \"linecolor\": \"white\", \"minorgridcolor\": \"white\", \"startlinecolor\": \"#2a3f5f\"}, \"type\": \"carpet\"}], \"choropleth\": [{\"colorbar\": {\"outlinewidth\": 0, \"ticks\": \"\"}, \"type\": \"choropleth\"}], \"contour\": [{\"colorbar\": {\"outlinewidth\": 0, \"ticks\": \"\"}, \"colorscale\": [[0.0, \"#0d0887\"], [0.1111111111111111, \"#46039f\"], [0.2222222222222222, \"#7201a8\"], [0.3333333333333333, \"#9c179e\"], [0.4444444444444444, \"#bd3786\"], [0.5555555555555556, \"#d8576b\"], [0.6666666666666666, \"#ed7953\"], [0.7777777777777778, \"#fb9f3a\"], [0.8888888888888888, \"#fdca26\"], [1.0, \"#f0f921\"]], \"type\": \"contour\"}], \"contourcarpet\": [{\"colorbar\": {\"outlinewidth\": 0, \"ticks\": \"\"}, \"type\": \"contourcarpet\"}], \"heatmap\": [{\"colorbar\": {\"outlinewidth\": 0, \"ticks\": \"\"}, \"colorscale\": [[0.0, \"#0d0887\"], [0.1111111111111111, \"#46039f\"], [0.2222222222222222, \"#7201a8\"], [0.3333333333333333, \"#9c179e\"], [0.4444444444444444, \"#bd3786\"], [0.5555555555555556, \"#d8576b\"], [0.6666666666666666, \"#ed7953\"], [0.7777777777777778, \"#fb9f3a\"], [0.8888888888888888, \"#fdca26\"], [1.0, \"#f0f921\"]], \"type\": \"heatmap\"}], \"heatmapgl\": [{\"colorbar\": {\"outlinewidth\": 0, \"ticks\": \"\"}, \"colorscale\": [[0.0, \"#0d0887\"], [0.1111111111111111, \"#46039f\"], [0.2222222222222222, \"#7201a8\"], [0.3333333333333333, \"#9c179e\"], [0.4444444444444444, \"#bd3786\"], [0.5555555555555556, \"#d8576b\"], [0.6666666666666666, \"#ed7953\"], [0.7777777777777778, \"#fb9f3a\"], [0.8888888888888888, \"#fdca26\"], [1.0, \"#f0f921\"]], \"type\": \"heatmapgl\"}], \"histogram\": [{\"marker\": {\"colorbar\": {\"outlinewidth\": 0, \"ticks\": \"\"}}, \"type\": \"histogram\"}], \"histogram2d\": [{\"colorbar\": {\"outlinewidth\": 0, \"ticks\": \"\"}, \"colorscale\": [[0.0, \"#0d0887\"], [0.1111111111111111, \"#46039f\"], [0.2222222222222222, \"#7201a8\"], [0.3333333333333333, \"#9c179e\"], [0.4444444444444444, \"#bd3786\"], [0.5555555555555556, \"#d8576b\"], [0.6666666666666666, \"#ed7953\"], [0.7777777777777778, \"#fb9f3a\"], [0.8888888888888888, \"#fdca26\"], [1.0, \"#f0f921\"]], \"type\": \"histogram2d\"}], \"histogram2dcontour\": [{\"colorbar\": {\"outlinewidth\": 0, \"ticks\": \"\"}, \"colorscale\": [[0.0, \"#0d0887\"], [0.1111111111111111, \"#46039f\"], [0.2222222222222222, \"#7201a8\"], [0.3333333333333333, \"#9c179e\"], [0.4444444444444444, \"#bd3786\"], [0.5555555555555556, \"#d8576b\"], [0.6666666666666666, \"#ed7953\"], [0.7777777777777778, \"#fb9f3a\"], [0.8888888888888888, \"#fdca26\"], [1.0, \"#f0f921\"]], \"type\": \"histogram2dcontour\"}], \"mesh3d\": [{\"colorbar\": {\"outlinewidth\": 0, \"ticks\": \"\"}, \"type\": \"mesh3d\"}], \"parcoords\": [{\"line\": {\"colorbar\": {\"outlinewidth\": 0, \"ticks\": \"\"}}, \"type\": \"parcoords\"}], \"pie\": [{\"automargin\": true, \"type\": \"pie\"}], \"scatter\": [{\"marker\": {\"colorbar\": {\"outlinewidth\": 0, \"ticks\": \"\"}}, \"type\": \"scatter\"}], \"scatter3d\": [{\"line\": {\"colorbar\": {\"outlinewidth\": 0, \"ticks\": \"\"}}, \"marker\": {\"colorbar\": {\"outlinewidth\": 0, \"ticks\": \"\"}}, \"type\": \"scatter3d\"}], \"scattercarpet\": [{\"marker\": {\"colorbar\": {\"outlinewidth\": 0, \"ticks\": \"\"}}, \"type\": \"scattercarpet\"}], \"scattergeo\": [{\"marker\": {\"colorbar\": {\"outlinewidth\": 0, \"ticks\": \"\"}}, \"type\": \"scattergeo\"}], \"scattergl\": [{\"marker\": {\"colorbar\": {\"outlinewidth\": 0, \"ticks\": \"\"}}, \"type\": \"scattergl\"}], \"scattermapbox\": [{\"marker\": {\"colorbar\": {\"outlinewidth\": 0, \"ticks\": \"\"}}, \"type\": \"scattermapbox\"}], \"scatterpolar\": [{\"marker\": {\"colorbar\": {\"outlinewidth\": 0, \"ticks\": \"\"}}, \"type\": \"scatterpolar\"}], \"scatterpolargl\": [{\"marker\": {\"colorbar\": {\"outlinewidth\": 0, \"ticks\": \"\"}}, \"type\": \"scatterpolargl\"}], \"scatterternary\": [{\"marker\": {\"colorbar\": {\"outlinewidth\": 0, \"ticks\": \"\"}}, \"type\": \"scatterternary\"}], \"surface\": [{\"colorbar\": {\"outlinewidth\": 0, \"ticks\": \"\"}, \"colorscale\": [[0.0, \"#0d0887\"], [0.1111111111111111, \"#46039f\"], [0.2222222222222222, \"#7201a8\"], [0.3333333333333333, \"#9c179e\"], [0.4444444444444444, \"#bd3786\"], [0.5555555555555556, \"#d8576b\"], [0.6666666666666666, \"#ed7953\"], [0.7777777777777778, \"#fb9f3a\"], [0.8888888888888888, \"#fdca26\"], [1.0, \"#f0f921\"]], \"type\": \"surface\"}], \"table\": [{\"cells\": {\"fill\": {\"color\": \"#EBF0F8\"}, \"line\": {\"color\": \"white\"}}, \"header\": {\"fill\": {\"color\": \"#C8D4E3\"}, \"line\": {\"color\": \"white\"}}, \"type\": \"table\"}]}, \"layout\": {\"annotationdefaults\": {\"arrowcolor\": \"#2a3f5f\", \"arrowhead\": 0, \"arrowwidth\": 1}, \"coloraxis\": {\"colorbar\": {\"outlinewidth\": 0, \"ticks\": \"\"}}, \"colorscale\": {\"diverging\": [[0, \"#8e0152\"], [0.1, \"#c51b7d\"], [0.2, \"#de77ae\"], [0.3, \"#f1b6da\"], [0.4, \"#fde0ef\"], [0.5, \"#f7f7f7\"], [0.6, \"#e6f5d0\"], [0.7, \"#b8e186\"], [0.8, \"#7fbc41\"], [0.9, \"#4d9221\"], [1, \"#276419\"]], \"sequential\": [[0.0, \"#0d0887\"], [0.1111111111111111, \"#46039f\"], [0.2222222222222222, \"#7201a8\"], [0.3333333333333333, \"#9c179e\"], [0.4444444444444444, \"#bd3786\"], [0.5555555555555556, \"#d8576b\"], [0.6666666666666666, \"#ed7953\"], [0.7777777777777778, \"#fb9f3a\"], [0.8888888888888888, \"#fdca26\"], [1.0, \"#f0f921\"]], \"sequentialminus\": [[0.0, \"#0d0887\"], [0.1111111111111111, \"#46039f\"], [0.2222222222222222, \"#7201a8\"], [0.3333333333333333, \"#9c179e\"], [0.4444444444444444, \"#bd3786\"], [0.5555555555555556, \"#d8576b\"], [0.6666666666666666, \"#ed7953\"], [0.7777777777777778, \"#fb9f3a\"], [0.8888888888888888, \"#fdca26\"], [1.0, \"#f0f921\"]]}, \"colorway\": [\"#636efa\", \"#EF553B\", \"#00cc96\", \"#ab63fa\", \"#FFA15A\", \"#19d3f3\", \"#FF6692\", \"#B6E880\", \"#FF97FF\", \"#FECB52\"], \"font\": {\"color\": \"#2a3f5f\"}, \"geo\": {\"bgcolor\": \"white\", \"lakecolor\": \"white\", \"landcolor\": \"#E5ECF6\", \"showlakes\": true, \"showland\": true, \"subunitcolor\": \"white\"}, \"hoverlabel\": {\"align\": \"left\"}, \"hovermode\": \"closest\", \"mapbox\": {\"style\": \"light\"}, \"paper_bgcolor\": \"white\", \"plot_bgcolor\": \"#E5ECF6\", \"polar\": {\"angularaxis\": {\"gridcolor\": \"white\", \"linecolor\": \"white\", \"ticks\": \"\"}, \"bgcolor\": \"#E5ECF6\", \"radialaxis\": {\"gridcolor\": \"white\", \"linecolor\": \"white\", \"ticks\": \"\"}}, \"scene\": {\"xaxis\": {\"backgroundcolor\": \"#E5ECF6\", \"gridcolor\": \"white\", \"gridwidth\": 2, \"linecolor\": \"white\", \"showbackground\": true, \"ticks\": \"\", \"zerolinecolor\": \"white\"}, \"yaxis\": {\"backgroundcolor\": \"#E5ECF6\", \"gridcolor\": \"white\", \"gridwidth\": 2, \"linecolor\": \"white\", \"showbackground\": true, \"ticks\": \"\", \"zerolinecolor\": \"white\"}, \"zaxis\": {\"backgroundcolor\": \"#E5ECF6\", \"gridcolor\": \"white\", \"gridwidth\": 2, \"linecolor\": \"white\", \"showbackground\": true, \"ticks\": \"\", \"zerolinecolor\": \"white\"}}, \"shapedefaults\": {\"line\": {\"color\": \"#2a3f5f\"}}, \"ternary\": {\"aaxis\": {\"gridcolor\": \"white\", \"linecolor\": \"white\", \"ticks\": \"\"}, \"baxis\": {\"gridcolor\": \"white\", \"linecolor\": \"white\", \"ticks\": \"\"}, \"bgcolor\": \"#E5ECF6\", \"caxis\": {\"gridcolor\": \"white\", \"linecolor\": \"white\", \"ticks\": \"\"}}, \"title\": {\"x\": 0.05}, \"xaxis\": {\"automargin\": true, \"gridcolor\": \"white\", \"linecolor\": \"white\", \"ticks\": \"\", \"title\": {\"standoff\": 15}, \"zerolinecolor\": \"white\", \"zerolinewidth\": 2}, \"yaxis\": {\"automargin\": true, \"gridcolor\": \"white\", \"linecolor\": \"white\", \"ticks\": \"\", \"title\": {\"standoff\": 15}, \"zerolinecolor\": \"white\", \"zerolinewidth\": 2}}}, \"xaxis\": {\"anchor\": \"y\", \"domain\": [0.0, 1.0], \"title\": {\"text\": \"Age\"}}, \"yaxis\": {\"anchor\": \"x\", \"domain\": [0.0, 1.0], \"title\": {\"text\": \"count\"}}},\n",
              "                        {\"responsive\": true}\n",
              "                    ).then(function(){\n",
              "                            \n",
              "var gd = document.getElementById('8b8a3c72-57be-4196-9780-a49015bf8fc6');\n",
              "var x = new MutationObserver(function (mutations, observer) {{\n",
              "        var display = window.getComputedStyle(gd).display;\n",
              "        if (!display || display === 'none') {{\n",
              "            console.log([gd, 'removed!']);\n",
              "            Plotly.purge(gd);\n",
              "            observer.disconnect();\n",
              "        }}\n",
              "}});\n",
              "\n",
              "// Listen for the removal of the full notebook cells\n",
              "var notebookContainer = gd.closest('#notebook-container');\n",
              "if (notebookContainer) {{\n",
              "    x.observe(notebookContainer, {childList: true});\n",
              "}}\n",
              "\n",
              "// Listen for the clearing of the current output cell\n",
              "var outputEl = gd.closest('.output');\n",
              "if (outputEl) {{\n",
              "    x.observe(outputEl, {childList: true});\n",
              "}}\n",
              "\n",
              "                        })\n",
              "                };\n",
              "                \n",
              "            </script>\n",
              "        </div>\n",
              "</body>\n",
              "</html>"
            ]
          },
          "metadata": {
            "tags": []
          }
        },
        {
          "output_type": "display_data",
          "data": {
            "text/html": [
              "<html>\n",
              "<head><meta charset=\"utf-8\" /></head>\n",
              "<body>\n",
              "    <div>\n",
              "            <script src=\"https://cdnjs.cloudflare.com/ajax/libs/mathjax/2.7.5/MathJax.js?config=TeX-AMS-MML_SVG\"></script><script type=\"text/javascript\">if (window.MathJax) {MathJax.Hub.Config({SVG: {font: \"STIX-Web\"}});}</script>\n",
              "                <script type=\"text/javascript\">window.PlotlyConfig = {MathJaxConfig: 'local'};</script>\n",
              "        <script src=\"https://cdn.plot.ly/plotly-latest.min.js\"></script>    \n",
              "            <div id=\"5b3bcd67-8815-44e1-95ab-973dea060ebb\" class=\"plotly-graph-div\" style=\"height:525px; width:100%;\"></div>\n",
              "            <script type=\"text/javascript\">\n",
              "                \n",
              "                    window.PLOTLYENV=window.PLOTLYENV || {};\n",
              "                    \n",
              "                if (document.getElementById(\"5b3bcd67-8815-44e1-95ab-973dea060ebb\")) {\n",
              "                    Plotly.newPlot(\n",
              "                        '5b3bcd67-8815-44e1-95ab-973dea060ebb',\n",
              "                        [{\"alignmentgroup\": \"True\", \"bingroup\": \"x\", \"hoverlabel\": {\"namelength\": 0}, \"hovertemplate\": \"Survived=0<br>SibSp=%{x}<br>count=%{y}\", \"legendgroup\": \"Survived=0\", \"marker\": {\"color\": \"#636efa\"}, \"name\": \"Survived=0\", \"offsetgroup\": \"Survived=0\", \"orientation\": \"v\", \"showlegend\": true, \"type\": \"histogram\", \"x\": [1, 0, 0, 0, 3, 0, 1, 0, 4, 1, 0, 3, 0, 3, 0, 0, 0, 1, 1, 0, 2, 1, 1, 0, 0, 1, 2, 1, 4, 0, 0, 0, 5, 0, 1, 3, 0, 0, 2, 0, 5, 0, 1, 0, 0, 0, 0, 0, 1, 0, 0, 0, 0, 1, 1, 0, 0, 0, 1, 0, 0, 0, 0, 2, 0, 0, 0, 1, 0, 1, 0, 0, 0, 1, 0, 4, 2, 0, 1, 0, 0, 0, 0, 0, 1, 0, 0, 1, 0, 0, 0, 0, 0, 1, 2, 0, 0, 0, 0, 0, 0, 0, 0, 0, 8, 0, 0, 0, 4, 1, 0, 0, 0, 4, 0, 0, 1, 3, 0, 0, 0, 8, 0, 4, 0, 1, 0, 0, 0, 0, 0, 0, 8, 0, 0, 0, 1, 0, 0, 0, 1, 1, 0, 0, 0, 0, 0, 0, 0, 3, 0, 0, 0, 0, 1, 0, 0, 1, 0, 0, 0, 2, 0, 1, 0, 1, 0, 1, 0, 0, 1, 0, 0, 0, 4, 0, 0, 0, 0, 4, 0, 0, 0, 0, 0, 0, 0, 0, 0, 0, 0, 1, 0, 0, 1, 1, 0, 1, 0, 0, 0, 8, 0, 0, 0, 2, 0, 1, 0, 0, 0, 0, 0, 0, 0, 1, 1, 0, 0, 0, 1, 1, 0, 0, 1, 0, 1, 0, 0, 3, 0, 0, 0, 0, 0, 0, 5, 0, 2, 0, 0, 0, 0, 0, 1, 1, 0, 1, 0, 0, 3, 0, 0, 0, 0, 0, 0, 0, 0, 0, 1, 1, 0, 0, 0, 1, 2, 1, 0, 0, 1, 1, 1, 0, 0, 0, 0, 0, 0, 0, 0, 0, 0, 0, 0, 0, 0, 0, 0, 1, 1, 0, 5, 0, 0, 3, 0, 0, 1, 0, 0, 0, 0, 0, 0, 1, 0, 0, 0, 0, 0, 1, 0, 0, 0, 0, 0, 0, 0, 0, 0, 0, 0, 0, 2, 0, 1, 0, 0, 0, 4, 4, 1, 0, 1, 0, 0, 0, 0, 0, 0, 0, 0, 0, 2, 0, 0, 0, 0, 0, 1, 0, 0, 0, 0, 0, 0, 0, 0, 0, 1, 1, 0, 0, 0, 0, 0, 1, 0, 1, 0, 0, 0, 1, 1, 0, 1, 0, 0, 0, 0, 0, 0, 0, 0, 3, 0, 1, 0, 1, 0, 3, 0, 0, 0, 0, 0, 2, 0, 1, 0, 0, 0, 0, 0, 2, 0, 0, 0, 1, 0, 0, 0, 0, 1, 0, 0, 5, 1, 1, 4, 0, 0, 0, 0, 0, 0, 1, 0, 0, 0, 1, 0, 0, 0, 0, 0, 0, 0, 1, 0, 0, 0, 1, 1, 0, 0, 0, 0, 0, 1, 0, 0, 1, 1, 1, 1, 1, 0, 0, 0, 0, 0, 0, 0, 0, 0, 0, 0, 1, 0, 0, 0, 0, 0, 0, 0, 0, 0, 1, 0, 0, 4, 0, 0, 0, 8, 0, 0, 0, 0, 1, 0, 0, 0, 0, 0, 0, 0, 0, 4, 0, 0, 0, 1, 0, 3, 0, 4, 0, 0, 0, 0, 0, 0, 0, 0, 0, 0, 0, 0, 8, 0, 0, 4, 0, 1, 1, 0, 2, 1, 8, 0, 0, 0, 0, 0, 0, 0, 0, 0, 0, 0, 0, 0, 0, 0, 1, 0], \"xaxis\": \"x\", \"yaxis\": \"y\"}, {\"alignmentgroup\": \"True\", \"bingroup\": \"x\", \"hoverlabel\": {\"namelength\": 0}, \"hovertemplate\": \"Survived=1<br>SibSp=%{x}<br>count=%{y}\", \"legendgroup\": \"Survived=1\", \"marker\": {\"color\": \"#EF553B\"}, \"name\": \"Survived=1\", \"offsetgroup\": \"Survived=1\", \"orientation\": \"v\", \"showlegend\": true, \"type\": \"histogram\", \"x\": [1, 0, 1, 0, 1, 1, 0, 0, 0, 0, 0, 0, 0, 1, 0, 1, 0, 0, 1, 1, 0, 0, 1, 1, 0, 0, 1, 0, 1, 0, 4, 0, 0, 0, 0, 0, 0, 3, 3, 0, 0, 0, 0, 1, 0, 1, 0, 1, 1, 0, 0, 1, 0, 1, 0, 0, 0, 0, 1, 2, 0, 1, 0, 0, 1, 1, 0, 0, 0, 0, 0, 0, 0, 0, 1, 0, 0, 0, 1, 0, 1, 4, 0, 1, 0, 1, 0, 0, 0, 0, 0, 4, 1, 0, 0, 0, 0, 0, 1, 1, 0, 0, 0, 0, 0, 1, 0, 0, 0, 2, 0, 1, 0, 1, 0, 0, 2, 0, 1, 0, 1, 0, 1, 0, 0, 1, 0, 2, 1, 0, 0, 1, 3, 0, 0, 1, 1, 0, 0, 0, 1, 0, 0, 0, 1, 1, 0, 0, 0, 1, 0, 0, 1, 0, 1, 0, 0, 0, 1, 1, 0, 1, 0, 1, 0, 0, 0, 1, 1, 1, 2, 1, 0, 0, 0, 0, 0, 2, 0, 1, 0, 1, 0, 0, 2, 1, 0, 0, 0, 1, 1, 1, 1, 0, 0, 0, 0, 0, 0, 1, 0, 1, 0, 0, 0, 1, 0, 0, 0, 0, 0, 1, 1, 0, 1, 0, 0, 0, 1, 1, 1, 0, 0, 2, 0, 0, 0, 1, 0, 1, 1, 0, 1, 1, 0, 1, 2, 0, 0, 1, 0, 1, 1, 2, 1, 1, 0, 0, 0, 0, 0, 0, 2, 1, 0, 0, 0, 0, 2, 1, 1, 1, 0, 0, 0, 0, 0, 1, 0, 0, 0, 1, 0, 0, 0, 0, 1, 0, 1, 0, 0, 0, 1, 3, 0, 0, 0, 0, 2, 0, 0, 1, 0, 1, 1, 0, 0, 1, 1, 1, 0, 0, 0, 1, 0, 1, 0, 0, 1, 1, 0, 0, 1, 1, 0, 0, 0, 0, 0, 1, 1, 1, 0, 0, 0, 1, 0, 0, 1, 0, 0, 0, 0, 1, 1, 1, 1, 0, 0, 0, 0, 0], \"xaxis\": \"x\", \"yaxis\": \"y\"}],\n",
              "                        {\"barmode\": \"relative\", \"legend\": {\"tracegroupgap\": 0}, \"margin\": {\"t\": 60}, \"template\": {\"data\": {\"bar\": [{\"error_x\": {\"color\": \"#2a3f5f\"}, \"error_y\": {\"color\": \"#2a3f5f\"}, \"marker\": {\"line\": {\"color\": \"#E5ECF6\", \"width\": 0.5}}, \"type\": \"bar\"}], \"barpolar\": [{\"marker\": {\"line\": {\"color\": \"#E5ECF6\", \"width\": 0.5}}, \"type\": \"barpolar\"}], \"carpet\": [{\"aaxis\": {\"endlinecolor\": \"#2a3f5f\", \"gridcolor\": \"white\", \"linecolor\": \"white\", \"minorgridcolor\": \"white\", \"startlinecolor\": \"#2a3f5f\"}, \"baxis\": {\"endlinecolor\": \"#2a3f5f\", \"gridcolor\": \"white\", \"linecolor\": \"white\", \"minorgridcolor\": \"white\", \"startlinecolor\": \"#2a3f5f\"}, \"type\": \"carpet\"}], \"choropleth\": [{\"colorbar\": {\"outlinewidth\": 0, \"ticks\": \"\"}, \"type\": \"choropleth\"}], \"contour\": [{\"colorbar\": {\"outlinewidth\": 0, \"ticks\": \"\"}, \"colorscale\": [[0.0, \"#0d0887\"], [0.1111111111111111, \"#46039f\"], [0.2222222222222222, \"#7201a8\"], [0.3333333333333333, \"#9c179e\"], [0.4444444444444444, \"#bd3786\"], [0.5555555555555556, \"#d8576b\"], [0.6666666666666666, \"#ed7953\"], [0.7777777777777778, \"#fb9f3a\"], [0.8888888888888888, \"#fdca26\"], [1.0, \"#f0f921\"]], \"type\": \"contour\"}], \"contourcarpet\": [{\"colorbar\": {\"outlinewidth\": 0, \"ticks\": \"\"}, \"type\": \"contourcarpet\"}], \"heatmap\": [{\"colorbar\": {\"outlinewidth\": 0, \"ticks\": \"\"}, \"colorscale\": [[0.0, \"#0d0887\"], [0.1111111111111111, \"#46039f\"], [0.2222222222222222, \"#7201a8\"], [0.3333333333333333, \"#9c179e\"], [0.4444444444444444, \"#bd3786\"], [0.5555555555555556, \"#d8576b\"], [0.6666666666666666, \"#ed7953\"], [0.7777777777777778, \"#fb9f3a\"], [0.8888888888888888, \"#fdca26\"], [1.0, \"#f0f921\"]], \"type\": \"heatmap\"}], \"heatmapgl\": [{\"colorbar\": {\"outlinewidth\": 0, \"ticks\": \"\"}, \"colorscale\": [[0.0, \"#0d0887\"], [0.1111111111111111, \"#46039f\"], [0.2222222222222222, \"#7201a8\"], [0.3333333333333333, \"#9c179e\"], [0.4444444444444444, \"#bd3786\"], [0.5555555555555556, \"#d8576b\"], [0.6666666666666666, \"#ed7953\"], [0.7777777777777778, \"#fb9f3a\"], [0.8888888888888888, \"#fdca26\"], [1.0, \"#f0f921\"]], \"type\": \"heatmapgl\"}], \"histogram\": [{\"marker\": {\"colorbar\": {\"outlinewidth\": 0, \"ticks\": \"\"}}, \"type\": \"histogram\"}], \"histogram2d\": [{\"colorbar\": {\"outlinewidth\": 0, \"ticks\": \"\"}, \"colorscale\": [[0.0, \"#0d0887\"], [0.1111111111111111, \"#46039f\"], [0.2222222222222222, \"#7201a8\"], [0.3333333333333333, \"#9c179e\"], [0.4444444444444444, \"#bd3786\"], [0.5555555555555556, \"#d8576b\"], [0.6666666666666666, \"#ed7953\"], [0.7777777777777778, \"#fb9f3a\"], [0.8888888888888888, \"#fdca26\"], [1.0, \"#f0f921\"]], \"type\": \"histogram2d\"}], \"histogram2dcontour\": [{\"colorbar\": {\"outlinewidth\": 0, \"ticks\": \"\"}, \"colorscale\": [[0.0, \"#0d0887\"], [0.1111111111111111, \"#46039f\"], [0.2222222222222222, \"#7201a8\"], [0.3333333333333333, \"#9c179e\"], [0.4444444444444444, \"#bd3786\"], [0.5555555555555556, \"#d8576b\"], [0.6666666666666666, \"#ed7953\"], [0.7777777777777778, \"#fb9f3a\"], [0.8888888888888888, \"#fdca26\"], [1.0, \"#f0f921\"]], \"type\": \"histogram2dcontour\"}], \"mesh3d\": [{\"colorbar\": {\"outlinewidth\": 0, \"ticks\": \"\"}, \"type\": \"mesh3d\"}], \"parcoords\": [{\"line\": {\"colorbar\": {\"outlinewidth\": 0, \"ticks\": \"\"}}, \"type\": \"parcoords\"}], \"pie\": [{\"automargin\": true, \"type\": \"pie\"}], \"scatter\": [{\"marker\": {\"colorbar\": {\"outlinewidth\": 0, \"ticks\": \"\"}}, \"type\": \"scatter\"}], \"scatter3d\": [{\"line\": {\"colorbar\": {\"outlinewidth\": 0, \"ticks\": \"\"}}, \"marker\": {\"colorbar\": {\"outlinewidth\": 0, \"ticks\": \"\"}}, \"type\": \"scatter3d\"}], \"scattercarpet\": [{\"marker\": {\"colorbar\": {\"outlinewidth\": 0, \"ticks\": \"\"}}, \"type\": \"scattercarpet\"}], \"scattergeo\": [{\"marker\": {\"colorbar\": {\"outlinewidth\": 0, \"ticks\": \"\"}}, \"type\": \"scattergeo\"}], \"scattergl\": [{\"marker\": {\"colorbar\": {\"outlinewidth\": 0, \"ticks\": \"\"}}, \"type\": \"scattergl\"}], \"scattermapbox\": [{\"marker\": {\"colorbar\": {\"outlinewidth\": 0, \"ticks\": \"\"}}, \"type\": \"scattermapbox\"}], \"scatterpolar\": [{\"marker\": {\"colorbar\": {\"outlinewidth\": 0, \"ticks\": \"\"}}, \"type\": \"scatterpolar\"}], \"scatterpolargl\": [{\"marker\": {\"colorbar\": {\"outlinewidth\": 0, \"ticks\": \"\"}}, \"type\": \"scatterpolargl\"}], \"scatterternary\": [{\"marker\": {\"colorbar\": {\"outlinewidth\": 0, \"ticks\": \"\"}}, \"type\": \"scatterternary\"}], \"surface\": [{\"colorbar\": {\"outlinewidth\": 0, \"ticks\": \"\"}, \"colorscale\": [[0.0, \"#0d0887\"], [0.1111111111111111, \"#46039f\"], [0.2222222222222222, \"#7201a8\"], [0.3333333333333333, \"#9c179e\"], [0.4444444444444444, \"#bd3786\"], [0.5555555555555556, \"#d8576b\"], [0.6666666666666666, \"#ed7953\"], [0.7777777777777778, \"#fb9f3a\"], [0.8888888888888888, \"#fdca26\"], [1.0, \"#f0f921\"]], \"type\": \"surface\"}], \"table\": [{\"cells\": {\"fill\": {\"color\": \"#EBF0F8\"}, \"line\": {\"color\": \"white\"}}, \"header\": {\"fill\": {\"color\": \"#C8D4E3\"}, \"line\": {\"color\": \"white\"}}, \"type\": \"table\"}]}, \"layout\": {\"annotationdefaults\": {\"arrowcolor\": \"#2a3f5f\", \"arrowhead\": 0, \"arrowwidth\": 1}, \"coloraxis\": {\"colorbar\": {\"outlinewidth\": 0, \"ticks\": \"\"}}, \"colorscale\": {\"diverging\": [[0, \"#8e0152\"], [0.1, \"#c51b7d\"], [0.2, \"#de77ae\"], [0.3, \"#f1b6da\"], [0.4, \"#fde0ef\"], [0.5, \"#f7f7f7\"], [0.6, \"#e6f5d0\"], [0.7, \"#b8e186\"], [0.8, \"#7fbc41\"], [0.9, \"#4d9221\"], [1, \"#276419\"]], \"sequential\": [[0.0, \"#0d0887\"], [0.1111111111111111, \"#46039f\"], [0.2222222222222222, \"#7201a8\"], [0.3333333333333333, \"#9c179e\"], [0.4444444444444444, \"#bd3786\"], [0.5555555555555556, \"#d8576b\"], [0.6666666666666666, \"#ed7953\"], [0.7777777777777778, \"#fb9f3a\"], [0.8888888888888888, \"#fdca26\"], [1.0, \"#f0f921\"]], \"sequentialminus\": [[0.0, \"#0d0887\"], [0.1111111111111111, \"#46039f\"], [0.2222222222222222, \"#7201a8\"], [0.3333333333333333, \"#9c179e\"], [0.4444444444444444, \"#bd3786\"], [0.5555555555555556, \"#d8576b\"], [0.6666666666666666, \"#ed7953\"], [0.7777777777777778, \"#fb9f3a\"], [0.8888888888888888, \"#fdca26\"], [1.0, \"#f0f921\"]]}, \"colorway\": [\"#636efa\", \"#EF553B\", \"#00cc96\", \"#ab63fa\", \"#FFA15A\", \"#19d3f3\", \"#FF6692\", \"#B6E880\", \"#FF97FF\", \"#FECB52\"], \"font\": {\"color\": \"#2a3f5f\"}, \"geo\": {\"bgcolor\": \"white\", \"lakecolor\": \"white\", \"landcolor\": \"#E5ECF6\", \"showlakes\": true, \"showland\": true, \"subunitcolor\": \"white\"}, \"hoverlabel\": {\"align\": \"left\"}, \"hovermode\": \"closest\", \"mapbox\": {\"style\": \"light\"}, \"paper_bgcolor\": \"white\", \"plot_bgcolor\": \"#E5ECF6\", \"polar\": {\"angularaxis\": {\"gridcolor\": \"white\", \"linecolor\": \"white\", \"ticks\": \"\"}, \"bgcolor\": \"#E5ECF6\", \"radialaxis\": {\"gridcolor\": \"white\", \"linecolor\": \"white\", \"ticks\": \"\"}}, \"scene\": {\"xaxis\": {\"backgroundcolor\": \"#E5ECF6\", \"gridcolor\": \"white\", \"gridwidth\": 2, \"linecolor\": \"white\", \"showbackground\": true, \"ticks\": \"\", \"zerolinecolor\": \"white\"}, \"yaxis\": {\"backgroundcolor\": \"#E5ECF6\", \"gridcolor\": \"white\", \"gridwidth\": 2, \"linecolor\": \"white\", \"showbackground\": true, \"ticks\": \"\", \"zerolinecolor\": \"white\"}, \"zaxis\": {\"backgroundcolor\": \"#E5ECF6\", \"gridcolor\": \"white\", \"gridwidth\": 2, \"linecolor\": \"white\", \"showbackground\": true, \"ticks\": \"\", \"zerolinecolor\": \"white\"}}, \"shapedefaults\": {\"line\": {\"color\": \"#2a3f5f\"}}, \"ternary\": {\"aaxis\": {\"gridcolor\": \"white\", \"linecolor\": \"white\", \"ticks\": \"\"}, \"baxis\": {\"gridcolor\": \"white\", \"linecolor\": \"white\", \"ticks\": \"\"}, \"bgcolor\": \"#E5ECF6\", \"caxis\": {\"gridcolor\": \"white\", \"linecolor\": \"white\", \"ticks\": \"\"}}, \"title\": {\"x\": 0.05}, \"xaxis\": {\"automargin\": true, \"gridcolor\": \"white\", \"linecolor\": \"white\", \"ticks\": \"\", \"title\": {\"standoff\": 15}, \"zerolinecolor\": \"white\", \"zerolinewidth\": 2}, \"yaxis\": {\"automargin\": true, \"gridcolor\": \"white\", \"linecolor\": \"white\", \"ticks\": \"\", \"title\": {\"standoff\": 15}, \"zerolinecolor\": \"white\", \"zerolinewidth\": 2}}}, \"xaxis\": {\"anchor\": \"y\", \"domain\": [0.0, 1.0], \"title\": {\"text\": \"SibSp\"}}, \"yaxis\": {\"anchor\": \"x\", \"domain\": [0.0, 1.0], \"title\": {\"text\": \"count\"}}},\n",
              "                        {\"responsive\": true}\n",
              "                    ).then(function(){\n",
              "                            \n",
              "var gd = document.getElementById('5b3bcd67-8815-44e1-95ab-973dea060ebb');\n",
              "var x = new MutationObserver(function (mutations, observer) {{\n",
              "        var display = window.getComputedStyle(gd).display;\n",
              "        if (!display || display === 'none') {{\n",
              "            console.log([gd, 'removed!']);\n",
              "            Plotly.purge(gd);\n",
              "            observer.disconnect();\n",
              "        }}\n",
              "}});\n",
              "\n",
              "// Listen for the removal of the full notebook cells\n",
              "var notebookContainer = gd.closest('#notebook-container');\n",
              "if (notebookContainer) {{\n",
              "    x.observe(notebookContainer, {childList: true});\n",
              "}}\n",
              "\n",
              "// Listen for the clearing of the current output cell\n",
              "var outputEl = gd.closest('.output');\n",
              "if (outputEl) {{\n",
              "    x.observe(outputEl, {childList: true});\n",
              "}}\n",
              "\n",
              "                        })\n",
              "                };\n",
              "                \n",
              "            </script>\n",
              "        </div>\n",
              "</body>\n",
              "</html>"
            ]
          },
          "metadata": {
            "tags": []
          }
        },
        {
          "output_type": "display_data",
          "data": {
            "text/html": [
              "<html>\n",
              "<head><meta charset=\"utf-8\" /></head>\n",
              "<body>\n",
              "    <div>\n",
              "            <script src=\"https://cdnjs.cloudflare.com/ajax/libs/mathjax/2.7.5/MathJax.js?config=TeX-AMS-MML_SVG\"></script><script type=\"text/javascript\">if (window.MathJax) {MathJax.Hub.Config({SVG: {font: \"STIX-Web\"}});}</script>\n",
              "                <script type=\"text/javascript\">window.PlotlyConfig = {MathJaxConfig: 'local'};</script>\n",
              "        <script src=\"https://cdn.plot.ly/plotly-latest.min.js\"></script>    \n",
              "            <div id=\"712a964f-2642-4ecd-9579-62c43a241dc1\" class=\"plotly-graph-div\" style=\"height:525px; width:100%;\"></div>\n",
              "            <script type=\"text/javascript\">\n",
              "                \n",
              "                    window.PLOTLYENV=window.PLOTLYENV || {};\n",
              "                    \n",
              "                if (document.getElementById(\"712a964f-2642-4ecd-9579-62c43a241dc1\")) {\n",
              "                    Plotly.newPlot(\n",
              "                        '712a964f-2642-4ecd-9579-62c43a241dc1',\n",
              "                        [{\"alignmentgroup\": \"True\", \"bingroup\": \"x\", \"hoverlabel\": {\"namelength\": 0}, \"hovertemplate\": \"Survived=0<br>Parch=%{x}<br>count=%{y}\", \"legendgroup\": \"Survived=0\", \"marker\": {\"color\": \"#636efa\"}, \"name\": \"Survived=0\", \"offsetgroup\": \"Survived=0\", \"orientation\": \"v\", \"showlegend\": true, \"type\": \"histogram\", \"x\": [0, 0, 0, 0, 1, 0, 5, 0, 1, 0, 0, 1, 0, 2, 0, 0, 0, 0, 0, 0, 0, 0, 0, 0, 0, 0, 0, 0, 1, 0, 1, 0, 2, 0, 0, 2, 0, 0, 0, 0, 2, 0, 0, 0, 0, 0, 0, 0, 3, 0, 0, 0, 0, 0, 2, 0, 0, 0, 0, 0, 0, 1, 0, 0, 0, 0, 0, 0, 0, 0, 0, 0, 0, 0, 1, 2, 0, 0, 0, 1, 0, 0, 0, 0, 0, 0, 0, 0, 0, 0, 2, 0, 0, 1, 2, 2, 0, 0, 0, 2, 0, 1, 0, 0, 2, 1, 0, 0, 1, 4, 0, 0, 0, 1, 0, 0, 1, 1, 0, 0, 0, 2, 0, 2, 0, 1, 0, 0, 0, 1, 0, 0, 2, 0, 0, 1, 0, 0, 0, 0, 0, 0, 0, 0, 0, 0, 0, 0, 0, 1, 0, 0, 0, 0, 0, 0, 0, 0, 0, 0, 0, 0, 0, 0, 0, 1, 0, 0, 2, 0, 1, 0, 0, 0, 1, 0, 1, 0, 0, 1, 0, 0, 0, 0, 0, 0, 0, 0, 0, 0, 0, 2, 0, 0, 0, 1, 0, 1, 0, 0, 0, 2, 0, 0, 1, 0, 0, 0, 0, 0, 0, 0, 0, 0, 0, 1, 0, 0, 0, 0, 4, 0, 1, 0, 0, 0, 0, 0, 0, 1, 2, 0, 0, 0, 0, 0, 2, 0, 0, 0, 0, 0, 0, 0, 0, 0, 0, 0, 0, 0, 1, 0, 0, 0, 0, 0, 2, 0, 0, 0, 1, 1, 0, 0, 0, 0, 2, 4, 0, 0, 0, 2, 0, 0, 0, 0, 0, 0, 0, 0, 0, 0, 0, 0, 0, 0, 0, 0, 0, 0, 0, 0, 2, 0, 0, 1, 0, 0, 0, 0, 0, 0, 0, 0, 0, 2, 0, 0, 0, 0, 0, 0, 0, 0, 0, 0, 0, 0, 0, 0, 0, 0, 0, 0, 1, 0, 1, 0, 0, 0, 2, 2, 0, 0, 1, 0, 0, 0, 0, 0, 0, 0, 0, 0, 0, 0, 4, 0, 0, 0, 0, 0, 0, 0, 0, 0, 0, 0, 0, 2, 0, 1, 0, 0, 0, 0, 0, 0, 0, 5, 0, 0, 0, 1, 0, 0, 0, 0, 0, 0, 0, 0, 0, 0, 0, 2, 0, 1, 5, 0, 0, 2, 0, 0, 0, 0, 0, 0, 0, 1, 0, 2, 0, 0, 0, 0, 0, 0, 0, 0, 0, 0, 0, 0, 6, 0, 0, 2, 1, 2, 1, 0, 0, 0, 0, 0, 0, 1, 0, 1, 0, 0, 0, 0, 0, 0, 0, 0, 0, 0, 0, 0, 0, 0, 0, 0, 0, 0, 0, 0, 3, 0, 0, 0, 0, 1, 1, 0, 0, 0, 0, 0, 0, 0, 0, 0, 0, 0, 0, 0, 0, 0, 0, 0, 0, 0, 0, 0, 0, 2, 0, 0, 1, 0, 0, 0, 2, 0, 0, 0, 0, 1, 0, 0, 0, 0, 0, 0, 0, 0, 2, 0, 0, 0, 1, 0, 2, 0, 1, 0, 0, 0, 0, 0, 0, 0, 0, 0, 0, 0, 0, 2, 0, 1, 2, 0, 1, 0, 0, 0, 0, 2, 0, 0, 0, 0, 0, 0, 0, 0, 0, 0, 0, 0, 0, 5, 0, 2, 0], \"xaxis\": \"x\", \"yaxis\": \"y\"}, {\"alignmentgroup\": \"True\", \"bingroup\": \"x\", \"hoverlabel\": {\"namelength\": 0}, \"hovertemplate\": \"Survived=1<br>Parch=%{x}<br>count=%{y}\", \"legendgroup\": \"Survived=1\", \"marker\": {\"color\": \"#EF553B\"}, \"name\": \"Survived=1\", \"offsetgroup\": \"Survived=1\", \"orientation\": \"v\", \"showlegend\": true, \"type\": \"histogram\", \"x\": [0, 0, 0, 2, 0, 1, 0, 0, 0, 0, 0, 0, 0, 5, 0, 0, 0, 0, 0, 2, 0, 0, 0, 0, 0, 0, 2, 0, 1, 0, 2, 0, 2, 0, 0, 0, 0, 0, 2, 1, 1, 0, 0, 0, 0, 0, 0, 1, 0, 2, 0, 0, 0, 0, 0, 0, 2, 1, 1, 1, 2, 0, 0, 0, 0, 1, 0, 0, 0, 0, 0, 0, 0, 0, 0, 0, 0, 0, 0, 0, 0, 2, 2, 0, 2, 1, 2, 0, 0, 0, 1, 2, 0, 1, 0, 0, 1, 0, 0, 1, 0, 0, 0, 0, 0, 0, 0, 1, 0, 0, 0, 2, 0, 0, 0, 0, 2, 0, 0, 2, 1, 0, 1, 0, 0, 1, 1, 0, 0, 0, 0, 1, 2, 0, 0, 0, 1, 1, 0, 0, 0, 0, 0, 0, 0, 0, 0, 0, 2, 0, 0, 0, 2, 0, 0, 2, 0, 0, 1, 0, 0, 1, 2, 0, 0, 0, 0, 0, 0, 2, 3, 1, 0, 0, 2, 1, 0, 1, 0, 0, 0, 0, 0, 0, 1, 2, 0, 1, 0, 0, 0, 1, 0, 0, 2, 0, 0, 0, 0, 0, 0, 0, 0, 1, 0, 1, 2, 2, 0, 2, 2, 0, 0, 0, 1, 2, 0, 0, 0, 1, 0, 0, 0, 0, 0, 0, 0, 0, 0, 1, 1, 2, 1, 0, 0, 0, 1, 0, 0, 2, 0, 0, 2, 1, 0, 1, 0, 0, 0, 0, 0, 0, 1, 0, 0, 0, 1, 0, 0, 0, 0, 1, 0, 0, 1, 0, 1, 0, 1, 0, 0, 0, 0, 0, 0, 0, 1, 0, 0, 0, 0, 1, 0, 0, 0, 0, 0, 0, 2, 0, 0, 1, 1, 2, 1, 0, 0, 2, 0, 3, 0, 1, 0, 0, 0, 2, 0, 0, 1, 2, 1, 0, 0, 1, 0, 1, 2, 0, 0, 0, 1, 1, 0, 0, 0, 0, 1, 1, 1, 0, 3, 0, 0, 0, 1, 1, 0, 0, 1, 1, 0, 0], \"xaxis\": \"x\", \"yaxis\": \"y\"}],\n",
              "                        {\"barmode\": \"relative\", \"legend\": {\"tracegroupgap\": 0}, \"margin\": {\"t\": 60}, \"template\": {\"data\": {\"bar\": [{\"error_x\": {\"color\": \"#2a3f5f\"}, \"error_y\": {\"color\": \"#2a3f5f\"}, \"marker\": {\"line\": {\"color\": \"#E5ECF6\", \"width\": 0.5}}, \"type\": \"bar\"}], \"barpolar\": [{\"marker\": {\"line\": {\"color\": \"#E5ECF6\", \"width\": 0.5}}, \"type\": \"barpolar\"}], \"carpet\": [{\"aaxis\": {\"endlinecolor\": \"#2a3f5f\", \"gridcolor\": \"white\", \"linecolor\": \"white\", \"minorgridcolor\": \"white\", \"startlinecolor\": \"#2a3f5f\"}, \"baxis\": {\"endlinecolor\": \"#2a3f5f\", \"gridcolor\": \"white\", \"linecolor\": \"white\", \"minorgridcolor\": \"white\", \"startlinecolor\": \"#2a3f5f\"}, \"type\": \"carpet\"}], \"choropleth\": [{\"colorbar\": {\"outlinewidth\": 0, \"ticks\": \"\"}, \"type\": \"choropleth\"}], \"contour\": [{\"colorbar\": {\"outlinewidth\": 0, \"ticks\": \"\"}, \"colorscale\": [[0.0, \"#0d0887\"], [0.1111111111111111, \"#46039f\"], [0.2222222222222222, \"#7201a8\"], [0.3333333333333333, \"#9c179e\"], [0.4444444444444444, \"#bd3786\"], [0.5555555555555556, \"#d8576b\"], [0.6666666666666666, \"#ed7953\"], [0.7777777777777778, \"#fb9f3a\"], [0.8888888888888888, \"#fdca26\"], [1.0, \"#f0f921\"]], \"type\": \"contour\"}], \"contourcarpet\": [{\"colorbar\": {\"outlinewidth\": 0, \"ticks\": \"\"}, \"type\": \"contourcarpet\"}], \"heatmap\": [{\"colorbar\": {\"outlinewidth\": 0, \"ticks\": \"\"}, \"colorscale\": [[0.0, \"#0d0887\"], [0.1111111111111111, \"#46039f\"], [0.2222222222222222, \"#7201a8\"], [0.3333333333333333, \"#9c179e\"], [0.4444444444444444, \"#bd3786\"], [0.5555555555555556, \"#d8576b\"], [0.6666666666666666, \"#ed7953\"], [0.7777777777777778, \"#fb9f3a\"], [0.8888888888888888, \"#fdca26\"], [1.0, \"#f0f921\"]], \"type\": \"heatmap\"}], \"heatmapgl\": [{\"colorbar\": {\"outlinewidth\": 0, \"ticks\": \"\"}, \"colorscale\": [[0.0, \"#0d0887\"], [0.1111111111111111, \"#46039f\"], [0.2222222222222222, \"#7201a8\"], [0.3333333333333333, \"#9c179e\"], [0.4444444444444444, \"#bd3786\"], [0.5555555555555556, \"#d8576b\"], [0.6666666666666666, \"#ed7953\"], [0.7777777777777778, \"#fb9f3a\"], [0.8888888888888888, \"#fdca26\"], [1.0, \"#f0f921\"]], \"type\": \"heatmapgl\"}], \"histogram\": [{\"marker\": {\"colorbar\": {\"outlinewidth\": 0, \"ticks\": \"\"}}, \"type\": \"histogram\"}], \"histogram2d\": [{\"colorbar\": {\"outlinewidth\": 0, \"ticks\": \"\"}, \"colorscale\": [[0.0, \"#0d0887\"], [0.1111111111111111, \"#46039f\"], [0.2222222222222222, \"#7201a8\"], [0.3333333333333333, \"#9c179e\"], [0.4444444444444444, \"#bd3786\"], [0.5555555555555556, \"#d8576b\"], [0.6666666666666666, \"#ed7953\"], [0.7777777777777778, \"#fb9f3a\"], [0.8888888888888888, \"#fdca26\"], [1.0, \"#f0f921\"]], \"type\": \"histogram2d\"}], \"histogram2dcontour\": [{\"colorbar\": {\"outlinewidth\": 0, \"ticks\": \"\"}, \"colorscale\": [[0.0, \"#0d0887\"], [0.1111111111111111, \"#46039f\"], [0.2222222222222222, \"#7201a8\"], [0.3333333333333333, \"#9c179e\"], [0.4444444444444444, \"#bd3786\"], [0.5555555555555556, \"#d8576b\"], [0.6666666666666666, \"#ed7953\"], [0.7777777777777778, \"#fb9f3a\"], [0.8888888888888888, \"#fdca26\"], [1.0, \"#f0f921\"]], \"type\": \"histogram2dcontour\"}], \"mesh3d\": [{\"colorbar\": {\"outlinewidth\": 0, \"ticks\": \"\"}, \"type\": \"mesh3d\"}], \"parcoords\": [{\"line\": {\"colorbar\": {\"outlinewidth\": 0, \"ticks\": \"\"}}, \"type\": \"parcoords\"}], \"pie\": [{\"automargin\": true, \"type\": \"pie\"}], \"scatter\": [{\"marker\": {\"colorbar\": {\"outlinewidth\": 0, \"ticks\": \"\"}}, \"type\": \"scatter\"}], \"scatter3d\": [{\"line\": {\"colorbar\": {\"outlinewidth\": 0, \"ticks\": \"\"}}, \"marker\": {\"colorbar\": {\"outlinewidth\": 0, \"ticks\": \"\"}}, \"type\": \"scatter3d\"}], \"scattercarpet\": [{\"marker\": {\"colorbar\": {\"outlinewidth\": 0, \"ticks\": \"\"}}, \"type\": \"scattercarpet\"}], \"scattergeo\": [{\"marker\": {\"colorbar\": {\"outlinewidth\": 0, \"ticks\": \"\"}}, \"type\": \"scattergeo\"}], \"scattergl\": [{\"marker\": {\"colorbar\": {\"outlinewidth\": 0, \"ticks\": \"\"}}, \"type\": \"scattergl\"}], \"scattermapbox\": [{\"marker\": {\"colorbar\": {\"outlinewidth\": 0, \"ticks\": \"\"}}, \"type\": \"scattermapbox\"}], \"scatterpolar\": [{\"marker\": {\"colorbar\": {\"outlinewidth\": 0, \"ticks\": \"\"}}, \"type\": \"scatterpolar\"}], \"scatterpolargl\": [{\"marker\": {\"colorbar\": {\"outlinewidth\": 0, \"ticks\": \"\"}}, \"type\": \"scatterpolargl\"}], \"scatterternary\": [{\"marker\": {\"colorbar\": {\"outlinewidth\": 0, \"ticks\": \"\"}}, \"type\": \"scatterternary\"}], \"surface\": [{\"colorbar\": {\"outlinewidth\": 0, \"ticks\": \"\"}, \"colorscale\": [[0.0, \"#0d0887\"], [0.1111111111111111, \"#46039f\"], [0.2222222222222222, \"#7201a8\"], [0.3333333333333333, \"#9c179e\"], [0.4444444444444444, \"#bd3786\"], [0.5555555555555556, \"#d8576b\"], [0.6666666666666666, \"#ed7953\"], [0.7777777777777778, \"#fb9f3a\"], [0.8888888888888888, \"#fdca26\"], [1.0, \"#f0f921\"]], \"type\": \"surface\"}], \"table\": [{\"cells\": {\"fill\": {\"color\": \"#EBF0F8\"}, \"line\": {\"color\": \"white\"}}, \"header\": {\"fill\": {\"color\": \"#C8D4E3\"}, \"line\": {\"color\": \"white\"}}, \"type\": \"table\"}]}, \"layout\": {\"annotationdefaults\": {\"arrowcolor\": \"#2a3f5f\", \"arrowhead\": 0, \"arrowwidth\": 1}, \"coloraxis\": {\"colorbar\": {\"outlinewidth\": 0, \"ticks\": \"\"}}, \"colorscale\": {\"diverging\": [[0, \"#8e0152\"], [0.1, \"#c51b7d\"], [0.2, \"#de77ae\"], [0.3, \"#f1b6da\"], [0.4, \"#fde0ef\"], [0.5, \"#f7f7f7\"], [0.6, \"#e6f5d0\"], [0.7, \"#b8e186\"], [0.8, \"#7fbc41\"], [0.9, \"#4d9221\"], [1, \"#276419\"]], \"sequential\": [[0.0, \"#0d0887\"], [0.1111111111111111, \"#46039f\"], [0.2222222222222222, \"#7201a8\"], [0.3333333333333333, \"#9c179e\"], [0.4444444444444444, \"#bd3786\"], [0.5555555555555556, \"#d8576b\"], [0.6666666666666666, \"#ed7953\"], [0.7777777777777778, \"#fb9f3a\"], [0.8888888888888888, \"#fdca26\"], [1.0, \"#f0f921\"]], \"sequentialminus\": [[0.0, \"#0d0887\"], [0.1111111111111111, \"#46039f\"], [0.2222222222222222, \"#7201a8\"], [0.3333333333333333, \"#9c179e\"], [0.4444444444444444, \"#bd3786\"], [0.5555555555555556, \"#d8576b\"], [0.6666666666666666, \"#ed7953\"], [0.7777777777777778, \"#fb9f3a\"], [0.8888888888888888, \"#fdca26\"], [1.0, \"#f0f921\"]]}, \"colorway\": [\"#636efa\", \"#EF553B\", \"#00cc96\", \"#ab63fa\", \"#FFA15A\", \"#19d3f3\", \"#FF6692\", \"#B6E880\", \"#FF97FF\", \"#FECB52\"], \"font\": {\"color\": \"#2a3f5f\"}, \"geo\": {\"bgcolor\": \"white\", \"lakecolor\": \"white\", \"landcolor\": \"#E5ECF6\", \"showlakes\": true, \"showland\": true, \"subunitcolor\": \"white\"}, \"hoverlabel\": {\"align\": \"left\"}, \"hovermode\": \"closest\", \"mapbox\": {\"style\": \"light\"}, \"paper_bgcolor\": \"white\", \"plot_bgcolor\": \"#E5ECF6\", \"polar\": {\"angularaxis\": {\"gridcolor\": \"white\", \"linecolor\": \"white\", \"ticks\": \"\"}, \"bgcolor\": \"#E5ECF6\", \"radialaxis\": {\"gridcolor\": \"white\", \"linecolor\": \"white\", \"ticks\": \"\"}}, \"scene\": {\"xaxis\": {\"backgroundcolor\": \"#E5ECF6\", \"gridcolor\": \"white\", \"gridwidth\": 2, \"linecolor\": \"white\", \"showbackground\": true, \"ticks\": \"\", \"zerolinecolor\": \"white\"}, \"yaxis\": {\"backgroundcolor\": \"#E5ECF6\", \"gridcolor\": \"white\", \"gridwidth\": 2, \"linecolor\": \"white\", \"showbackground\": true, \"ticks\": \"\", \"zerolinecolor\": \"white\"}, \"zaxis\": {\"backgroundcolor\": \"#E5ECF6\", \"gridcolor\": \"white\", \"gridwidth\": 2, \"linecolor\": \"white\", \"showbackground\": true, \"ticks\": \"\", \"zerolinecolor\": \"white\"}}, \"shapedefaults\": {\"line\": {\"color\": \"#2a3f5f\"}}, \"ternary\": {\"aaxis\": {\"gridcolor\": \"white\", \"linecolor\": \"white\", \"ticks\": \"\"}, \"baxis\": {\"gridcolor\": \"white\", \"linecolor\": \"white\", \"ticks\": \"\"}, \"bgcolor\": \"#E5ECF6\", \"caxis\": {\"gridcolor\": \"white\", \"linecolor\": \"white\", \"ticks\": \"\"}}, \"title\": {\"x\": 0.05}, \"xaxis\": {\"automargin\": true, \"gridcolor\": \"white\", \"linecolor\": \"white\", \"ticks\": \"\", \"title\": {\"standoff\": 15}, \"zerolinecolor\": \"white\", \"zerolinewidth\": 2}, \"yaxis\": {\"automargin\": true, \"gridcolor\": \"white\", \"linecolor\": \"white\", \"ticks\": \"\", \"title\": {\"standoff\": 15}, \"zerolinecolor\": \"white\", \"zerolinewidth\": 2}}}, \"xaxis\": {\"anchor\": \"y\", \"domain\": [0.0, 1.0], \"title\": {\"text\": \"Parch\"}}, \"yaxis\": {\"anchor\": \"x\", \"domain\": [0.0, 1.0], \"title\": {\"text\": \"count\"}}},\n",
              "                        {\"responsive\": true}\n",
              "                    ).then(function(){\n",
              "                            \n",
              "var gd = document.getElementById('712a964f-2642-4ecd-9579-62c43a241dc1');\n",
              "var x = new MutationObserver(function (mutations, observer) {{\n",
              "        var display = window.getComputedStyle(gd).display;\n",
              "        if (!display || display === 'none') {{\n",
              "            console.log([gd, 'removed!']);\n",
              "            Plotly.purge(gd);\n",
              "            observer.disconnect();\n",
              "        }}\n",
              "}});\n",
              "\n",
              "// Listen for the removal of the full notebook cells\n",
              "var notebookContainer = gd.closest('#notebook-container');\n",
              "if (notebookContainer) {{\n",
              "    x.observe(notebookContainer, {childList: true});\n",
              "}}\n",
              "\n",
              "// Listen for the clearing of the current output cell\n",
              "var outputEl = gd.closest('.output');\n",
              "if (outputEl) {{\n",
              "    x.observe(outputEl, {childList: true});\n",
              "}}\n",
              "\n",
              "                        })\n",
              "                };\n",
              "                \n",
              "            </script>\n",
              "        </div>\n",
              "</body>\n",
              "</html>"
            ]
          },
          "metadata": {
            "tags": []
          }
        },
        {
          "output_type": "display_data",
          "data": {
            "text/html": [
              "<html>\n",
              "<head><meta charset=\"utf-8\" /></head>\n",
              "<body>\n",
              "    <div>\n",
              "            <script src=\"https://cdnjs.cloudflare.com/ajax/libs/mathjax/2.7.5/MathJax.js?config=TeX-AMS-MML_SVG\"></script><script type=\"text/javascript\">if (window.MathJax) {MathJax.Hub.Config({SVG: {font: \"STIX-Web\"}});}</script>\n",
              "                <script type=\"text/javascript\">window.PlotlyConfig = {MathJaxConfig: 'local'};</script>\n",
              "        <script src=\"https://cdn.plot.ly/plotly-latest.min.js\"></script>    \n",
              "            <div id=\"cb69fd53-a649-4f77-ab31-8cff1c7549a8\" class=\"plotly-graph-div\" style=\"height:525px; width:100%;\"></div>\n",
              "            <script type=\"text/javascript\">\n",
              "                \n",
              "                    window.PLOTLYENV=window.PLOTLYENV || {};\n",
              "                    \n",
              "                if (document.getElementById(\"cb69fd53-a649-4f77-ab31-8cff1c7549a8\")) {\n",
              "                    Plotly.newPlot(\n",
              "                        'cb69fd53-a649-4f77-ab31-8cff1c7549a8',\n",
              "                        [{\"alignmentgroup\": \"True\", \"bingroup\": \"x\", \"hoverlabel\": {\"namelength\": 0}, \"hovertemplate\": \"Survived=0<br>Ticket=%{x}<br>count=%{y}\", \"legendgroup\": \"Survived=0\", \"marker\": {\"color\": \"#636efa\"}, \"name\": \"Survived=0\", \"offsetgroup\": \"Survived=0\", \"orientation\": \"v\", \"showlegend\": true, \"type\": \"histogram\", \"x\": [\"A/5 21171\", \"373450\", \"330877\", \"17463\", \"349909\", \"A/5. 2151\", \"347082\", \"350406\", \"382652\", \"345763\", \"239865\", \"349909\", \"2631\", \"19950\", \"349216\", \"PC 17601\", \"C.A. 24579\", \"PC 17604\", \"113789\", \"A./5. 2152\", \"345764\", \"7546\", \"11668\", \"349253\", \"S.C./A.4. 23567\", \"370371\", \"2662\", \"349237\", \"3101295\", \"A/4. 39886\", \"113509\", \"2697\", \"CA 2144\", \"2669\", \"36973\", \"347088\", \"PC 17605\", \"S.P. 3464\", \"315151\", \"C.A. 33111\", \"CA 2144\", \"S.O.C. 14879\", \"2680\", \"348123\", \"349208\", \"374746\", \"345767\", \"113059\", \"W./C. 6608\", \"SOTON/OQ 392086\", \"343275\", \"343276\", \"347466\", \"W.E.P. 5734\", \"C.A. 2315\", \"364500\", \"374910\", \"PC 17754\", \"244367\", \"349245\", \"349215\", \"35281\", \"7540\", \"3101276\", \"349207\", \"349249\", \"110465\", \"2665\", \"324669\", \"4136\", \"2627\", \"STON/O 2. 3101294\", \"370369\", \"11668\", \"PC 17558\", \"347082\", \"S.O.C. 14879\", \"A4. 54510\", \"237736\", \"35281\", \"370372\", \"347061\", \"349241\", \"SOTON/O.Q. 3101307\", \"A/5. 3337\", \"C.A. 29178\", \"SC/PARIS 2133\", \"113803\", \"7534\", \"PC 17593\", \"2678\", \"365222\", \"231945\", \"C.A. 33112\", \"W./C. 6608\", \"230080\", \"244310\", \"S.O.P. 1166\", \"A.5. 11206\", \"A/5. 851\", \"Fa 265302\", \"PC 17597\", \"SOTON/OQ 392090\", \"315037\", \"CA. 2343\", \"371362\", \"347068\", \"315093\", \"3101295\", \"347088\", \"PC 17318\", \"1601\", \"111240\", \"382652\", \"STON/O 2. 3101280\", \"17764\", \"350404\", \"4133\", \"PC 17595\", \"250653\", \"LINE\", \"CA. 2343\", \"SC/PARIS 2131\", \"347077\", \"113767\", \"364849\", \"349247\", \"28424\", \"368703\", \"4579\", \"248747\", \"345770\", \"CA. 2343\", \"3101264\", \"2628\", \"347054\", \"3101278\", \"SOTON/O.Q. 3101311\", \"A/5 21174\", \"250646\", \"367229\", \"243847\", \"W/C 14208\", \"220367\", \"21440\", \"349234\", \"PP 4348\", \"A/5 21173\", \"236171\", \"4133\", \"347067\", \"237442\", \"C.A. 29566\", \"W./C. 6609\", \"26707\", \"28665\", \"SCO/W 1585\", \"2665\", \"W./C. 14263\", \"STON/O 2. 3101275\", \"2694\", \"19928\", \"347071\", \"244252\", \"362316\", \"347054\", \"113514\", \"A/5. 3336\", \"370129\", \"384461\", \"110413\", \"112059\", \"382649\", \"C.A. 17248\", \"3101295\", \"113798\", \"PC 17596\", \"347073\", \"239853\", \"382652\", \"336439\", \"347464\", \"345778\", \"113056\", \"349239\", \"349206\", \"SC/Paris 2163\", \"349236\", \"349233\", \"PC 17612\", \"2693\", \"113781\", \"LINE\", \"A/5 2466\", \"P/PP 3381\", \"250651\", \"349243\", \"F.C.C. 13529\", \"29011\", \"A/5 21172\", \"349219\", \"CA. 2343\", \"345364\", \"113043\", \"PC 17582\", \"345764\", \"349225\", \"113776\", \"113784\", \"248740\", \"244361\", \"229236\", \"315088\", \"7267\", \"113510\", \"2695\", \"349237\", \"2647\", \"345783\", \"237671\", \"347088\", \"SC/PARIS 2167\", \"2691\", \"SOTON/O.Q. 3101310\", \"370365\", \"C 7076\", \"3101267\", \"323951\", \"PC 17760\", \"349909\", \"113503\", \"2648\", \"347069\", \"STON/O 2. 3101293\", \"349227\", \"S.O.C. 14879\", \"CA 2144\", \"367655\", \"3101277\", \"350052\", \"350407\", \"28403\", \"244278\", \"341826\", \"4137\", \"STON/O2. 3101279\", \"315096\", \"28664\", \"347064\", \"312992\", \"4133\", \"349222\", \"394140\", \"239853\", \"343095\", \"28228\", \"345773\", \"349254\", \"A/5. 13032\", \"315082\", \"347080\", \"370129\", \"A/4. 34244\", \"364851\", \"STON/O 2. 3101274\", \"13507\", \"W./C. 6608\", \"19950\", \"C.A. 18723\", \"345769\", \"347076\", \"C.A. 34651\", \"65303\", \"113051\", \"A/5 2817\", \"13509\", \"371060\", \"364506\", \"111320\", \"234360\", \"A/S 2816\", \"SOTON/O.Q. 3101306\", \"239853\", \"113792\", \"36209\", \"323592\", \"315089\", \"7553\", \"110465\", \"31027\", \"3460\", \"350060\", \"CA 2144\", \"239854\", \"A/5 3594\", \"4133\", \"11771\", \"A.5. 18509\", \"65304\", \"SOTON/OQ 3101317\", \"113787\", \"PC 17609\", \"A/4 45380\", \"2627\", \"C.A. 6212\", \"113781\", \"350035\", \"315086\", \"364846\", \"330909\", \"4135\", \"PC 17758\", \"C 4001\", \"SOTON/OQ 3101316\", \"349209\", \"36967\", \"371110\", \"349242\", \"349252\", \"2624\", \"2700\", \"367232\", \"PC 17483\", \"3101296\", \"29104\", \"2641\", \"2690\", \"315084\", \"113050\", \"364498\", \"347082\", \"347082\", \"PC 17761\", \"693\", \"363291\", \"244358\", \"330979\", \"113807\", \"PC 17757\", \"372622\", \"349251\", \"218629\", \"SOTON/OQ 392082\", \"SOTON/O.Q. 392087\", \"A/4 48871\", \"349205\", \"349909\", \"2686\", \"A/4. 20589\", \"358585\", \"2689\", \"28403\", \"13049\", \"3411\", \"237565\", \"14973\", \"A./5. 3235\", \"STON/O 2. 3101273\", \"A/5 3902\", \"364848\", \"SC/AH 29037\", \"345773\", \"LINE\", \"2664\", \"349214\", \"113796\", \"364511\", \"349910\", \"349246\", \"347082\", \"SOTON/O.Q. 3101305\", \"370377\", \"364512\", \"347080\", \"A/5. 3336\", \"31028\", \"2659\", \"350029\", \"54636\", \"36963\", \"219533\", \"349224\", \"334912\", \"347743\", \"112052\", \"347088\", \"STON/O 2. 3101292\", \"C.A. 31921\", \"3101295\", \"376564\", \"350050\", \"347088\", \"349231\", \"S.O./P.P. 751\", \"349221\", \"8475\", \"365226\", \"S.O.C. 14879\", \"349223\", \"364849\", \"29751\", \"35273\", \"2623\", \"5727\", \"349210\", \"S.O.C. 14879\", \"234686\", \"312993\", \"A/5 3536\", \"F.C. 12750\", \"C.A. 24580\", \"239856\", \"349912\", \"342826\", \"CA 2144\", \"330935\", \"6563\", \"CA 2144\", \"29750\", \"SC/Paris 2123\", \"3101295\", \"349228\", \"350036\", \"2672\", \"113800\", \"248731\", \"363592\", \"17421\", \"348121\", \"2691\", \"36864\", \"350025\", \"250655\", \"113028\", \"7545\", \"250647\", \"348124\", \"36568\", \"347062\", \"350048\", \"12233\", \"250643\", \"315094\", \"236853\", \"STON/O2. 3101271\", \"2699\", \"239855\", \"28425\", \"233639\", \"54636\", \"W./C. 6608\", \"349201\", \"349218\", \"19877\", \"376566\", \"WE/P 5735\", \"C.A. 2673\", \"113773\", \"335097\", \"345780\", \"349204\", \"350042\", \"29108\", \"363294\", \"358585\", \"SOTON/O2 3101272\", \"347074\", \"112379\", \"364850\", \"371110\", \"8471\", \"345781\", \"350047\", \"S.O./P.P. 3\", \"2674\", \"347078\", \"383121\", \"36865\", \"113501\", \"W./C. 6607\", \"SOTON/O.Q. 3101312\", \"374887\", \"382652\", \"PC 17593\", \"12460\", \"239865\", \"CA. 2343\", \"PC 17600\", \"349203\", \"28213\", \"2685\", \"345773\", \"250647\", \"347063\", \"112050\", \"347087\", \"248723\", \"3474\", \"A/4 48871\", \"28206\", \"347082\", \"364499\", \"112058\", \"STON/O2. 3101290\", \"S.C./PARIS 2079\", \"C 7075\", \"347088\", \"19972\", \"3101295\", \"368323\", \"1601\", \"2671\", \"347468\", \"2223\", \"315097\", \"392092\", \"SOTON/O2 3101287\", \"S.O./P.P. 3\", \"2683\", \"315090\", \"C.A. 5547\", \"CA. 2343\", \"349213\", \"248727\", \"347082\", \"347060\", \"2678\", \"244252\", \"2629\", \"350026\", \"28134\", \"CA. 2343\", \"233866\", \"PC 17590\", \"345777\", \"349248\", \"695\", \"345765\", \"7534\", \"349212\", \"349217\", \"349257\", \"7552\", \"C.A./SOTON 34068\", \"SOTON/OQ 392076\", \"382652\", \"211536\", \"W./C. 6607\", \"370376\"], \"xaxis\": \"x\", \"yaxis\": \"y\"}, {\"alignmentgroup\": \"True\", \"bingroup\": \"x\", \"hoverlabel\": {\"namelength\": 0}, \"hovertemplate\": \"Survived=1<br>Ticket=%{x}<br>count=%{y}\", \"legendgroup\": \"Survived=1\", \"marker\": {\"color\": \"#EF553B\"}, \"name\": \"Survived=1\", \"offsetgroup\": \"Survived=1\", \"orientation\": \"v\", \"showlegend\": true, \"type\": \"histogram\", \"x\": [\"PC 17599\", \"STON/O2. 3101282\", \"113803\", \"347742\", \"237736\", \"PP 9549\", \"113783\", \"248706\", \"244373\", \"2649\", \"248698\", \"330923\", \"113788\", \"347077\", \"330959\", \"PC 17569\", \"335677\", \"2677\", \"2651\", \"SC/Paris 2123\", \"330958\", \"14311\", \"PC 17572\", \"2926\", \"19947\", \"C.A. 31026\", \"C.A. 34651\", \"113572\", \"2661\", \"C.A. 29395\", \"3101281\", \"1601\", \"248738\", \"364516\", \"345779\", \"330932\", \"SO/C 14885\", \"3101278\", \"19950\", \"PC 17759\", \"231919\", \"343120\", \"312991\", \"371110\", \"27267\", \"2651\", \"C 17369\", \"2668\", \"228414\", \"11752\", \"347081\", \"STON/O2. 3101279\", \"350043\", \"113776\", \"35851\", \"C.A. 33595\", \"363291\", \"113505\", \"347742\", \"230136\", \"315153\", \"370365\", \"111428\", \"234604\", \"350046\", \"230080\", \"PC 17610\", \"PC 17569\", \"370370\", \"A/5 3540\", \"2699\", \"367231\", \"112277\", \"F.C.C. 13528\", \"35273\", \"STON/O2. 3101283\", \"11813\", \"SOTON/OQ 392089\", \"19943\", \"SW/PP 751\", \"36973\", \"347077\", \"C.A. 31921\", \"367230\", \"250649\", \"11751\", \"2650\", \"PC 17585\", \"110152\", \"PC 17755\", \"230433\", \"347077\", \"347083\", \"PC 17582\", \"PC 17760\", \"LINE\", \"250644\", \"370375\", \"13502\", \"C.A. 2673\", \"A/5. 10482\", \"345774\", \"237798\", \"370373\", \"19877\", \"11967\", \"19988\", \"PC 17558\", \"9234\", \"367226\", \"226593\", \"113781\", \"17421\", \"PC 17758\", \"PC 17485\", \"11767\", \"PC 17608\", \"347470\", \"244367\", \"36928\", \"16966\", \"234818\", \"248738\", \"PC 17760\", \"28551\", \"363291\", \"111361\", \"367226\", \"PC 17611\", \"16966\", \"7598\", \"230080\", \"19950\", \"248733\", \"31418\", \"386525\", \"C.A. 37671\", \"113505\", \"330931\", \"330980\", \"110813\", \"2626\", \"14313\", \"PC 17477\", \"11765\", \"PC 17604\", \"C 7077\", \"PC 17757\", \"2653\", \"113789\", \"27849\", \"SC 1748\", \"113760\", \"350034\", \"35273\", \"PP 9549\", \"240929\", \"STON/O 2. 3101289\", \"29106\", \"19928\", \"STON/O 2. 3101269\", \"28220\", \"250652\", \"2003\", \"250655\", \"SOTON/O.Q. 392078\", \"110564\", \"376564\", \"SC/AH 3085\", \"113760\", \"29106\", \"F.C.C. 13529\", \"230434\", \"65306\", \"33638\", \"250644\", \"113794\", \"2666\", \"113786\", \"17453\", \"349240\", \"17464\", \"F.C.C. 13531\", \"19952\", \"2666\", \"C.A. 34651\", \"SC/AH Basle 541\", \"3101298\", \"4134\", \"11967\", \"19943\", \"C.A. 37671\", \"36947\", \"110152\", \"26360\", \"111427\", \"1601\", \"382651\", \"PC 17473\", \"PC 17603\", \"C.A. 34260\", \"226875\", \"12749\", \"111361\", \"W./C. 14258\", \"26360\", \"2668\", \"F.C.C. 13529\", \"PC 17761\", \"13568\", \"WE/P 5735\", \"2908\", \"2908\", \"SC/PARIS 2146\", \"C.A. 33112\", \"17421\", \"2620\", \"347085\", \"11755\", \"110413\", \"345572\", \"350417\", \"S.W./PP 752\", \"11769\", \"PC 17474\", \"14312\", \"243880\", \"13507\", \"STON/O 2. 3101286\", \"237789\", \"17421\", \"110413\", \"13567\", \"36947\", \"248727\", \"PC 17485\", \"243847\", \"111426\", \"113804\", \"SC/Paris 2123\", \"PC 17582\", \"367230\", \"220845\", \"230136\", \"11753\", \"2653\", \"13502\", \"27042\", \"13214\", \"237668\", \"PC 17477\", \"1601\", \"2666\", \"PC 17572\", \"13213\", \"CA. 2314\", \"231919\", \"330919\", \"PC 17611\", \"STON/O 2. 3101285\", \"19996\", \"29750\", \"244270\", \"4138\", \"PC 17755\", \"PC 17572\", \"24160\", \"17474\", \"349256\", \"1601\", \"35852\", \"PC 17757\", \"PC 17475\", \"223596\", \"PC 17476\", \"113781\", \"2661\", \"PC 17482\", \"19996\", \"PC 17757\", \"34218\", \"248727\", \"113806\", \"31027\", \"36866\", \"24160\", \"PC 17755\", \"16988\", \"PC 17608\", \"STON/O 2. 3101288\", \"250648\", \"29103\", \"392096\", \"220845\", \"250649\", \"110152\", \"2663\", \"113760\", \"13502\", \"29105\", \"364516\", \"24160\", \"2687\", \"17474\", \"3101265\", \"C.A. 2315\", \"17465\", \"349244\", \"C.A. 31921\", \"113760\", \"2625\", \"347089\", \"113806\", \"12749\", \"315098\", \"392096\", \"S.C./PARIS 2079\", \"367228\", \"113572\", \"2659\", \"29106\", \"PC 17756\", \"1601\", \"11774\", \"113798\", \"17453\", \"PC 17592\", \"392091\", \"36928\", \"113055\", \"2666\", \"17466\", \"236852\", \"SC/PARIS 2149\", \"347742\", \"11751\", \"P/PP 3381\", \"2667\", \"11767\", \"230433\", \"112053\", \"111369\"], \"xaxis\": \"x\", \"yaxis\": \"y\"}],\n",
              "                        {\"barmode\": \"relative\", \"legend\": {\"tracegroupgap\": 0}, \"margin\": {\"t\": 60}, \"template\": {\"data\": {\"bar\": [{\"error_x\": {\"color\": \"#2a3f5f\"}, \"error_y\": {\"color\": \"#2a3f5f\"}, \"marker\": {\"line\": {\"color\": \"#E5ECF6\", \"width\": 0.5}}, \"type\": \"bar\"}], \"barpolar\": [{\"marker\": {\"line\": {\"color\": \"#E5ECF6\", \"width\": 0.5}}, \"type\": \"barpolar\"}], \"carpet\": [{\"aaxis\": {\"endlinecolor\": \"#2a3f5f\", \"gridcolor\": \"white\", \"linecolor\": \"white\", \"minorgridcolor\": \"white\", \"startlinecolor\": \"#2a3f5f\"}, \"baxis\": {\"endlinecolor\": \"#2a3f5f\", \"gridcolor\": \"white\", \"linecolor\": \"white\", \"minorgridcolor\": \"white\", \"startlinecolor\": \"#2a3f5f\"}, \"type\": \"carpet\"}], \"choropleth\": [{\"colorbar\": {\"outlinewidth\": 0, \"ticks\": \"\"}, \"type\": \"choropleth\"}], \"contour\": [{\"colorbar\": {\"outlinewidth\": 0, \"ticks\": \"\"}, \"colorscale\": [[0.0, \"#0d0887\"], [0.1111111111111111, \"#46039f\"], [0.2222222222222222, \"#7201a8\"], [0.3333333333333333, \"#9c179e\"], [0.4444444444444444, \"#bd3786\"], [0.5555555555555556, \"#d8576b\"], [0.6666666666666666, \"#ed7953\"], [0.7777777777777778, \"#fb9f3a\"], [0.8888888888888888, \"#fdca26\"], [1.0, \"#f0f921\"]], \"type\": \"contour\"}], \"contourcarpet\": [{\"colorbar\": {\"outlinewidth\": 0, \"ticks\": \"\"}, \"type\": \"contourcarpet\"}], \"heatmap\": [{\"colorbar\": {\"outlinewidth\": 0, \"ticks\": \"\"}, \"colorscale\": [[0.0, \"#0d0887\"], [0.1111111111111111, \"#46039f\"], [0.2222222222222222, \"#7201a8\"], [0.3333333333333333, \"#9c179e\"], [0.4444444444444444, \"#bd3786\"], [0.5555555555555556, \"#d8576b\"], [0.6666666666666666, \"#ed7953\"], [0.7777777777777778, \"#fb9f3a\"], [0.8888888888888888, \"#fdca26\"], [1.0, \"#f0f921\"]], \"type\": \"heatmap\"}], \"heatmapgl\": [{\"colorbar\": {\"outlinewidth\": 0, \"ticks\": \"\"}, \"colorscale\": [[0.0, \"#0d0887\"], [0.1111111111111111, \"#46039f\"], [0.2222222222222222, \"#7201a8\"], [0.3333333333333333, \"#9c179e\"], [0.4444444444444444, \"#bd3786\"], [0.5555555555555556, \"#d8576b\"], [0.6666666666666666, \"#ed7953\"], [0.7777777777777778, \"#fb9f3a\"], [0.8888888888888888, \"#fdca26\"], [1.0, \"#f0f921\"]], \"type\": \"heatmapgl\"}], \"histogram\": [{\"marker\": {\"colorbar\": {\"outlinewidth\": 0, \"ticks\": \"\"}}, \"type\": \"histogram\"}], \"histogram2d\": [{\"colorbar\": {\"outlinewidth\": 0, \"ticks\": \"\"}, \"colorscale\": [[0.0, \"#0d0887\"], [0.1111111111111111, \"#46039f\"], [0.2222222222222222, \"#7201a8\"], [0.3333333333333333, \"#9c179e\"], [0.4444444444444444, \"#bd3786\"], [0.5555555555555556, \"#d8576b\"], [0.6666666666666666, \"#ed7953\"], [0.7777777777777778, \"#fb9f3a\"], [0.8888888888888888, \"#fdca26\"], [1.0, \"#f0f921\"]], \"type\": \"histogram2d\"}], \"histogram2dcontour\": [{\"colorbar\": {\"outlinewidth\": 0, \"ticks\": \"\"}, \"colorscale\": [[0.0, \"#0d0887\"], [0.1111111111111111, \"#46039f\"], [0.2222222222222222, \"#7201a8\"], [0.3333333333333333, \"#9c179e\"], [0.4444444444444444, \"#bd3786\"], [0.5555555555555556, \"#d8576b\"], [0.6666666666666666, \"#ed7953\"], [0.7777777777777778, \"#fb9f3a\"], [0.8888888888888888, \"#fdca26\"], [1.0, \"#f0f921\"]], \"type\": \"histogram2dcontour\"}], \"mesh3d\": [{\"colorbar\": {\"outlinewidth\": 0, \"ticks\": \"\"}, \"type\": \"mesh3d\"}], \"parcoords\": [{\"line\": {\"colorbar\": {\"outlinewidth\": 0, \"ticks\": \"\"}}, \"type\": \"parcoords\"}], \"pie\": [{\"automargin\": true, \"type\": \"pie\"}], \"scatter\": [{\"marker\": {\"colorbar\": {\"outlinewidth\": 0, \"ticks\": \"\"}}, \"type\": \"scatter\"}], \"scatter3d\": [{\"line\": {\"colorbar\": {\"outlinewidth\": 0, \"ticks\": \"\"}}, \"marker\": {\"colorbar\": {\"outlinewidth\": 0, \"ticks\": \"\"}}, \"type\": \"scatter3d\"}], \"scattercarpet\": [{\"marker\": {\"colorbar\": {\"outlinewidth\": 0, \"ticks\": \"\"}}, \"type\": \"scattercarpet\"}], \"scattergeo\": [{\"marker\": {\"colorbar\": {\"outlinewidth\": 0, \"ticks\": \"\"}}, \"type\": \"scattergeo\"}], \"scattergl\": [{\"marker\": {\"colorbar\": {\"outlinewidth\": 0, \"ticks\": \"\"}}, \"type\": \"scattergl\"}], \"scattermapbox\": [{\"marker\": {\"colorbar\": {\"outlinewidth\": 0, \"ticks\": \"\"}}, \"type\": \"scattermapbox\"}], \"scatterpolar\": [{\"marker\": {\"colorbar\": {\"outlinewidth\": 0, \"ticks\": \"\"}}, \"type\": \"scatterpolar\"}], \"scatterpolargl\": [{\"marker\": {\"colorbar\": {\"outlinewidth\": 0, \"ticks\": \"\"}}, \"type\": \"scatterpolargl\"}], \"scatterternary\": [{\"marker\": {\"colorbar\": {\"outlinewidth\": 0, \"ticks\": \"\"}}, \"type\": \"scatterternary\"}], \"surface\": [{\"colorbar\": {\"outlinewidth\": 0, \"ticks\": \"\"}, \"colorscale\": [[0.0, \"#0d0887\"], [0.1111111111111111, \"#46039f\"], [0.2222222222222222, \"#7201a8\"], [0.3333333333333333, \"#9c179e\"], [0.4444444444444444, \"#bd3786\"], [0.5555555555555556, \"#d8576b\"], [0.6666666666666666, \"#ed7953\"], [0.7777777777777778, \"#fb9f3a\"], [0.8888888888888888, \"#fdca26\"], [1.0, \"#f0f921\"]], \"type\": \"surface\"}], \"table\": [{\"cells\": {\"fill\": {\"color\": \"#EBF0F8\"}, \"line\": {\"color\": \"white\"}}, \"header\": {\"fill\": {\"color\": \"#C8D4E3\"}, \"line\": {\"color\": \"white\"}}, \"type\": \"table\"}]}, \"layout\": {\"annotationdefaults\": {\"arrowcolor\": \"#2a3f5f\", \"arrowhead\": 0, \"arrowwidth\": 1}, \"coloraxis\": {\"colorbar\": {\"outlinewidth\": 0, \"ticks\": \"\"}}, \"colorscale\": {\"diverging\": [[0, \"#8e0152\"], [0.1, \"#c51b7d\"], [0.2, \"#de77ae\"], [0.3, \"#f1b6da\"], [0.4, \"#fde0ef\"], [0.5, \"#f7f7f7\"], [0.6, \"#e6f5d0\"], [0.7, \"#b8e186\"], [0.8, \"#7fbc41\"], [0.9, \"#4d9221\"], [1, \"#276419\"]], \"sequential\": [[0.0, \"#0d0887\"], [0.1111111111111111, \"#46039f\"], [0.2222222222222222, \"#7201a8\"], [0.3333333333333333, \"#9c179e\"], [0.4444444444444444, \"#bd3786\"], [0.5555555555555556, \"#d8576b\"], [0.6666666666666666, \"#ed7953\"], [0.7777777777777778, \"#fb9f3a\"], [0.8888888888888888, \"#fdca26\"], [1.0, \"#f0f921\"]], \"sequentialminus\": [[0.0, \"#0d0887\"], [0.1111111111111111, \"#46039f\"], [0.2222222222222222, \"#7201a8\"], [0.3333333333333333, \"#9c179e\"], [0.4444444444444444, \"#bd3786\"], [0.5555555555555556, \"#d8576b\"], [0.6666666666666666, \"#ed7953\"], [0.7777777777777778, \"#fb9f3a\"], [0.8888888888888888, \"#fdca26\"], [1.0, \"#f0f921\"]]}, \"colorway\": [\"#636efa\", \"#EF553B\", \"#00cc96\", \"#ab63fa\", \"#FFA15A\", \"#19d3f3\", \"#FF6692\", \"#B6E880\", \"#FF97FF\", \"#FECB52\"], \"font\": {\"color\": \"#2a3f5f\"}, \"geo\": {\"bgcolor\": \"white\", \"lakecolor\": \"white\", \"landcolor\": \"#E5ECF6\", \"showlakes\": true, \"showland\": true, \"subunitcolor\": \"white\"}, \"hoverlabel\": {\"align\": \"left\"}, \"hovermode\": \"closest\", \"mapbox\": {\"style\": \"light\"}, \"paper_bgcolor\": \"white\", \"plot_bgcolor\": \"#E5ECF6\", \"polar\": {\"angularaxis\": {\"gridcolor\": \"white\", \"linecolor\": \"white\", \"ticks\": \"\"}, \"bgcolor\": \"#E5ECF6\", \"radialaxis\": {\"gridcolor\": \"white\", \"linecolor\": \"white\", \"ticks\": \"\"}}, \"scene\": {\"xaxis\": {\"backgroundcolor\": \"#E5ECF6\", \"gridcolor\": \"white\", \"gridwidth\": 2, \"linecolor\": \"white\", \"showbackground\": true, \"ticks\": \"\", \"zerolinecolor\": \"white\"}, \"yaxis\": {\"backgroundcolor\": \"#E5ECF6\", \"gridcolor\": \"white\", \"gridwidth\": 2, \"linecolor\": \"white\", \"showbackground\": true, \"ticks\": \"\", \"zerolinecolor\": \"white\"}, \"zaxis\": {\"backgroundcolor\": \"#E5ECF6\", \"gridcolor\": \"white\", \"gridwidth\": 2, \"linecolor\": \"white\", \"showbackground\": true, \"ticks\": \"\", \"zerolinecolor\": \"white\"}}, \"shapedefaults\": {\"line\": {\"color\": \"#2a3f5f\"}}, \"ternary\": {\"aaxis\": {\"gridcolor\": \"white\", \"linecolor\": \"white\", \"ticks\": \"\"}, \"baxis\": {\"gridcolor\": \"white\", \"linecolor\": \"white\", \"ticks\": \"\"}, \"bgcolor\": \"#E5ECF6\", \"caxis\": {\"gridcolor\": \"white\", \"linecolor\": \"white\", \"ticks\": \"\"}}, \"title\": {\"x\": 0.05}, \"xaxis\": {\"automargin\": true, \"gridcolor\": \"white\", \"linecolor\": \"white\", \"ticks\": \"\", \"title\": {\"standoff\": 15}, \"zerolinecolor\": \"white\", \"zerolinewidth\": 2}, \"yaxis\": {\"automargin\": true, \"gridcolor\": \"white\", \"linecolor\": \"white\", \"ticks\": \"\", \"title\": {\"standoff\": 15}, \"zerolinecolor\": \"white\", \"zerolinewidth\": 2}}}, \"xaxis\": {\"anchor\": \"y\", \"domain\": [0.0, 1.0], \"title\": {\"text\": \"Ticket\"}}, \"yaxis\": {\"anchor\": \"x\", \"domain\": [0.0, 1.0], \"title\": {\"text\": \"count\"}}},\n",
              "                        {\"responsive\": true}\n",
              "                    ).then(function(){\n",
              "                            \n",
              "var gd = document.getElementById('cb69fd53-a649-4f77-ab31-8cff1c7549a8');\n",
              "var x = new MutationObserver(function (mutations, observer) {{\n",
              "        var display = window.getComputedStyle(gd).display;\n",
              "        if (!display || display === 'none') {{\n",
              "            console.log([gd, 'removed!']);\n",
              "            Plotly.purge(gd);\n",
              "            observer.disconnect();\n",
              "        }}\n",
              "}});\n",
              "\n",
              "// Listen for the removal of the full notebook cells\n",
              "var notebookContainer = gd.closest('#notebook-container');\n",
              "if (notebookContainer) {{\n",
              "    x.observe(notebookContainer, {childList: true});\n",
              "}}\n",
              "\n",
              "// Listen for the clearing of the current output cell\n",
              "var outputEl = gd.closest('.output');\n",
              "if (outputEl) {{\n",
              "    x.observe(outputEl, {childList: true});\n",
              "}}\n",
              "\n",
              "                        })\n",
              "                };\n",
              "                \n",
              "            </script>\n",
              "        </div>\n",
              "</body>\n",
              "</html>"
            ]
          },
          "metadata": {
            "tags": []
          }
        },
        {
          "output_type": "display_data",
          "data": {
            "text/html": [
              "<html>\n",
              "<head><meta charset=\"utf-8\" /></head>\n",
              "<body>\n",
              "    <div>\n",
              "            <script src=\"https://cdnjs.cloudflare.com/ajax/libs/mathjax/2.7.5/MathJax.js?config=TeX-AMS-MML_SVG\"></script><script type=\"text/javascript\">if (window.MathJax) {MathJax.Hub.Config({SVG: {font: \"STIX-Web\"}});}</script>\n",
              "                <script type=\"text/javascript\">window.PlotlyConfig = {MathJaxConfig: 'local'};</script>\n",
              "        <script src=\"https://cdn.plot.ly/plotly-latest.min.js\"></script>    \n",
              "            <div id=\"34e36177-bb48-4304-baa0-323eee8c2868\" class=\"plotly-graph-div\" style=\"height:525px; width:100%;\"></div>\n",
              "            <script type=\"text/javascript\">\n",
              "                \n",
              "                    window.PLOTLYENV=window.PLOTLYENV || {};\n",
              "                    \n",
              "                if (document.getElementById(\"34e36177-bb48-4304-baa0-323eee8c2868\")) {\n",
              "                    Plotly.newPlot(\n",
              "                        '34e36177-bb48-4304-baa0-323eee8c2868',\n",
              "                        [{\"alignmentgroup\": \"True\", \"bingroup\": \"x\", \"hoverlabel\": {\"namelength\": 0}, \"hovertemplate\": \"Survived=0<br>Fare=%{x}<br>count=%{y}\", \"legendgroup\": \"Survived=0\", \"marker\": {\"color\": \"#636efa\"}, \"name\": \"Survived=0\", \"offsetgroup\": \"Survived=0\", \"orientation\": \"v\", \"showlegend\": true, \"type\": \"histogram\", \"x\": [7.25, 8.05, 8.4583, 51.8625, 21.075, 8.05, 31.275, 7.8542, 29.125, 18.0, 26.0, 21.075, 7.225, 263.0, 7.8958, 27.7208, 10.5, 82.1708, 52.0, 8.05, 18.0, 9.475, 21.0, 7.8958, 8.05, 15.5, 21.6792, 17.8, 39.6875, 7.8, 61.9792, 7.2292, 46.9, 7.2292, 83.475, 27.9, 27.7208, 8.1583, 8.6625, 10.5, 46.9, 73.5, 14.4542, 7.65, 7.8958, 8.05, 9.0, 47.1, 34.375, 8.05, 8.05, 8.05, 7.8542, 61.175, 20.575, 7.25, 8.05, 34.6542, 26.0, 7.8958, 7.8958, 77.2875, 8.6542, 7.925, 7.8958, 7.8958, 52.0, 14.4542, 8.05, 9.825, 14.4583, 7.925, 7.75, 21.0, 247.5208, 31.275, 73.5, 8.05, 30.0708, 77.2875, 7.75, 6.975, 7.8958, 7.05, 14.5, 13.0, 15.0458, 53.1, 9.2167, 79.2, 15.2458, 6.75, 11.5, 36.75, 34.375, 26.0, 13.0, 12.525, 8.05, 14.5, 7.3125, 61.3792, 8.05, 8.6625, 69.55, 16.1, 7.775, 8.6625, 39.6875, 27.9, 25.925, 56.4958, 33.5, 29.125, 7.925, 30.6958, 7.8542, 25.4667, 28.7125, 13.0, 0.0, 69.55, 15.05, 31.3875, 50.0, 15.5, 7.8958, 13.0, 7.75, 8.4042, 13.0, 9.5, 69.55, 6.4958, 7.225, 10.4625, 15.85, 7.05, 7.25, 13.0, 7.75, 27.0, 10.5, 13.0, 8.05, 7.8958, 9.35, 7.25, 13.0, 25.4667, 7.775, 13.5, 10.5, 7.55, 26.0, 10.5, 12.275, 14.4542, 10.5, 7.125, 7.225, 90.0, 7.775, 26.0, 7.25, 10.4625, 26.55, 16.1, 20.2125, 7.75, 79.65, 0.0, 7.75, 10.5, 39.6875, 31.0, 29.7, 7.75, 0.0, 29.125, 7.75, 7.8542, 9.5, 26.0, 8.6625, 7.8958, 12.875, 8.85, 7.8958, 27.7208, 7.2292, 151.55, 0.0, 8.05, 24.0, 26.0, 7.8958, 26.25, 14.0, 7.25, 7.8958, 69.55, 6.2375, 28.5, 153.4625, 18.0, 7.8958, 66.6, 35.5, 13.0, 13.0, 13.0, 8.6625, 9.225, 35.0, 7.2292, 17.8, 7.225, 9.5, 13.0, 27.9, 27.7208, 14.4542, 7.05, 15.5, 7.25, 6.4958, 8.05, 135.6333, 21.075, 211.5, 4.0125, 7.775, 7.925, 7.8958, 73.5, 46.9, 7.7292, 7.925, 7.7958, 7.8542, 26.0, 10.5, 8.05, 9.825, 15.85, 8.6625, 21.0, 7.75, 7.775, 25.4667, 7.8958, 6.8583, 0.0, 8.05, 13.0, 24.15, 7.8958, 7.7333, 7.875, 14.4, 20.2125, 7.25, 7.75, 7.125, 55.9, 34.375, 263.0, 10.5, 9.5, 7.775, 27.75, 19.9667, 27.75, 8.05, 26.55, 7.75, 8.05, 38.5, 13.0, 8.05, 7.05, 0.0, 26.55, 7.725, 7.25, 8.6625, 9.8375, 52.0, 21.0, 7.0458, 7.5208, 46.9, 0.0, 8.05, 25.4667, 29.7, 8.05, 19.9667, 7.25, 30.5, 49.5042, 8.05, 14.4583, 15.1, 151.55, 7.7958, 8.6625, 7.75, 7.6292, 9.5875, 108.9, 22.525, 8.05, 7.4958, 34.0208, 24.15, 7.8958, 7.8958, 7.225, 7.2292, 7.75, 221.7792, 7.925, 11.5, 7.2292, 7.2292, 8.6625, 26.55, 14.5, 31.275, 31.275, 106.425, 26.0, 20.525, 26.0, 7.8292, 26.55, 227.525, 7.75, 7.8958, 13.5, 8.05, 8.05, 24.15, 7.8958, 21.075, 7.2292, 8.05, 14.5, 14.4583, 26.0, 40.125, 8.7125, 15.0, 8.05, 8.05, 7.125, 7.25, 7.75, 26.0, 24.15, 0.0, 7.225, 7.8958, 42.4, 8.05, 15.55, 7.8958, 31.275, 7.05, 7.75, 8.05, 14.4, 16.1, 10.5, 14.4542, 7.8542, 16.1, 32.3208, 12.35, 7.8958, 7.7333, 7.0542, 0.0, 27.9, 7.925, 26.25, 39.6875, 16.1, 7.8542, 27.9, 7.8958, 7.55, 7.8958, 8.4333, 6.75, 73.5, 7.8958, 15.5, 13.0, 113.275, 7.225, 25.5875, 7.4958, 73.5, 13.0, 7.775, 8.05, 52.0, 10.5, 0.0, 7.775, 8.05, 46.9, 8.1375, 9.225, 46.9, 39.0, 41.5792, 39.6875, 10.1708, 7.7958, 7.225, 26.55, 13.5, 8.05, 110.8833, 7.65, 14.4542, 7.7417, 7.8542, 26.0, 26.55, 9.4833, 13.0, 7.65, 15.5, 7.775, 7.0542, 13.0, 13.0, 8.6625, 26.0, 7.925, 18.7875, 0.0, 13.0, 13.0, 16.1, 34.375, 7.8958, 7.8958, 78.85, 16.1, 71.0, 20.25, 53.1, 7.75, 9.5, 7.8958, 7.7958, 11.5, 8.05, 14.5, 7.125, 7.775, 39.6, 7.75, 24.15, 8.3625, 9.5, 7.8542, 10.5, 7.225, 7.75, 7.75, 7.7375, 30.0, 23.45, 7.05, 7.25, 29.125, 79.2, 7.75, 26.0, 69.55, 30.6958, 7.8958, 13.0, 7.2292, 24.15, 13.0, 7.775, 0.0, 7.775, 13.0, 7.8875, 24.15, 10.5, 31.275, 8.05, 0.0, 7.925, 37.0042, 6.45, 27.9, 0.0, 39.6875, 6.95, 56.4958, 7.2292, 7.8542, 8.3, 8.6625, 8.05, 7.925, 10.5, 6.4375, 8.6625, 7.55, 69.55, 7.8958, 33.0, 31.275, 7.775, 15.2458, 26.0, 7.2292, 14.1083, 11.5, 69.55, 13.0, 50.4958, 9.5, 7.8958, 5.0, 9.0, 9.8458, 7.8958, 7.8958, 7.8958, 10.5167, 10.5, 7.05, 29.125, 13.0, 23.45, 7.75], \"xaxis\": \"x\", \"yaxis\": \"y\"}, {\"alignmentgroup\": \"True\", \"bingroup\": \"x\", \"hoverlabel\": {\"namelength\": 0}, \"hovertemplate\": \"Survived=1<br>Fare=%{x}<br>count=%{y}\", \"legendgroup\": \"Survived=1\", \"marker\": {\"color\": \"#EF553B\"}, \"name\": \"Survived=1\", \"offsetgroup\": \"Survived=1\", \"orientation\": \"v\", \"showlegend\": true, \"type\": \"histogram\", \"x\": [71.2833, 7.925, 53.1, 11.1333, 30.0708, 16.7, 26.55, 16.0, 13.0, 7.225, 13.0, 8.0292, 35.5, 31.3875, 7.8792, 146.5208, 7.75, 7.2292, 11.2417, 41.5792, 7.8792, 7.75, 76.7292, 26.0, 35.5, 10.5, 27.75, 80.0, 15.2458, 10.5, 7.925, 56.4958, 29.0, 12.475, 9.5, 7.7875, 10.5, 15.85, 263.0, 63.3583, 23.0, 7.65, 7.775, 24.15, 13.0, 11.2417, 7.1417, 22.3583, 26.0, 26.2833, 7.75, 15.85, 7.7958, 66.6, 7.7333, 15.75, 20.525, 55.0, 11.1333, 39.0, 22.025, 15.5, 26.55, 13.0, 7.8542, 26.0, 27.7208, 146.5208, 7.75, 8.05, 18.7875, 7.75, 31.0, 21.0, 113.275, 7.925, 76.2917, 8.05, 90.0, 10.5, 83.475, 31.3875, 26.25, 15.5, 14.5, 52.5542, 15.2458, 79.2, 86.5, 512.3292, 26.0, 31.3875, 7.775, 153.4625, 135.6333, 0.0, 19.5, 7.75, 77.9583, 20.25, 8.05, 9.5, 13.0, 7.75, 78.85, 91.0792, 30.5, 247.5208, 7.75, 23.25, 12.35, 151.55, 110.8833, 108.9, 56.9292, 83.1583, 262.375, 7.8542, 26.0, 164.8667, 134.5, 12.35, 29.0, 135.6333, 13.0, 20.525, 57.9792, 23.25, 133.65, 134.5, 8.05, 26.0, 263.0, 13.0, 13.0, 16.1, 15.9, 55.0, 7.8792, 7.8792, 75.25, 7.2292, 7.75, 69.3, 55.4417, 82.1708, 7.25, 227.525, 15.7417, 52.0, 13.0, 12.0, 120.0, 7.7958, 113.275, 16.7, 12.65, 7.925, 18.75, 90.0, 7.925, 32.5, 13.0, 26.0, 26.0, 8.05, 26.55, 16.1, 26.0, 120.0, 18.75, 26.25, 13.0, 8.1125, 81.8583, 19.5, 26.55, 19.2583, 30.5, 89.1042, 7.8958, 51.8625, 10.5, 26.55, 19.2583, 27.75, 13.7917, 12.2875, 9.5875, 91.0792, 90.0, 15.9, 78.2667, 86.5, 26.0, 26.55, 56.4958, 7.75, 26.2875, 59.4, 10.5, 26.0, 93.5, 57.9792, 10.5, 26.0, 22.3583, 26.25, 106.425, 49.5, 71.0, 26.0, 26.0, 13.8625, 36.75, 110.8833, 7.225, 7.775, 39.6, 79.65, 17.4, 7.8542, 10.5, 51.4792, 26.3875, 7.75, 13.0, 55.9, 7.925, 30.0, 110.8833, 79.65, 79.2, 78.2667, 33.0, 56.9292, 27.0, 26.55, 30.5, 41.5792, 153.4625, 15.5, 65.0, 39.0, 52.5542, 15.7417, 77.9583, 30.0, 30.5, 13.0, 69.3, 56.4958, 19.2583, 76.7292, 35.5, 7.55, 23.0, 7.8292, 133.65, 7.925, 52.0, 39.0, 13.0, 9.8417, 512.3292, 76.7292, 211.3375, 57.0, 13.4167, 56.4958, 7.7333, 227.525, 26.2875, 13.5, 26.2875, 151.55, 15.2458, 49.5042, 52.0, 227.525, 10.5, 33.0, 53.1, 21.0, 7.7375, 211.3375, 512.3292, 30.0, 262.375, 7.925, 13.0, 23.0, 12.475, 65.0, 14.5, 86.5, 7.2292, 120.0, 77.9583, 23.0, 12.475, 211.3375, 7.2292, 57.0, 7.4958, 20.575, 25.9292, 8.6833, 26.25, 120.0, 8.5167, 6.975, 53.1, 93.5, 8.6625, 12.475, 37.0042, 7.75, 80.0, 14.4542, 18.75, 83.1583, 56.4958, 29.7, 31.0, 89.1042, 39.4, 9.35, 164.8667, 26.55, 19.2583, 25.9292, 13.0, 13.8583, 11.1333, 52.5542, 24.0, 7.225, 83.1583, 26.0, 30.0, 30.0], \"xaxis\": \"x\", \"yaxis\": \"y\"}],\n",
              "                        {\"barmode\": \"relative\", \"legend\": {\"tracegroupgap\": 0}, \"margin\": {\"t\": 60}, \"template\": {\"data\": {\"bar\": [{\"error_x\": {\"color\": \"#2a3f5f\"}, \"error_y\": {\"color\": \"#2a3f5f\"}, \"marker\": {\"line\": {\"color\": \"#E5ECF6\", \"width\": 0.5}}, \"type\": \"bar\"}], \"barpolar\": [{\"marker\": {\"line\": {\"color\": \"#E5ECF6\", \"width\": 0.5}}, \"type\": \"barpolar\"}], \"carpet\": [{\"aaxis\": {\"endlinecolor\": \"#2a3f5f\", \"gridcolor\": \"white\", \"linecolor\": \"white\", \"minorgridcolor\": \"white\", \"startlinecolor\": \"#2a3f5f\"}, \"baxis\": {\"endlinecolor\": \"#2a3f5f\", \"gridcolor\": \"white\", \"linecolor\": \"white\", \"minorgridcolor\": \"white\", \"startlinecolor\": \"#2a3f5f\"}, \"type\": \"carpet\"}], \"choropleth\": [{\"colorbar\": {\"outlinewidth\": 0, \"ticks\": \"\"}, \"type\": \"choropleth\"}], \"contour\": [{\"colorbar\": {\"outlinewidth\": 0, \"ticks\": \"\"}, \"colorscale\": [[0.0, \"#0d0887\"], [0.1111111111111111, \"#46039f\"], [0.2222222222222222, \"#7201a8\"], [0.3333333333333333, \"#9c179e\"], [0.4444444444444444, \"#bd3786\"], [0.5555555555555556, \"#d8576b\"], [0.6666666666666666, \"#ed7953\"], [0.7777777777777778, \"#fb9f3a\"], [0.8888888888888888, \"#fdca26\"], [1.0, \"#f0f921\"]], \"type\": \"contour\"}], \"contourcarpet\": [{\"colorbar\": {\"outlinewidth\": 0, \"ticks\": \"\"}, \"type\": \"contourcarpet\"}], \"heatmap\": [{\"colorbar\": {\"outlinewidth\": 0, \"ticks\": \"\"}, \"colorscale\": [[0.0, \"#0d0887\"], [0.1111111111111111, \"#46039f\"], [0.2222222222222222, \"#7201a8\"], [0.3333333333333333, \"#9c179e\"], [0.4444444444444444, \"#bd3786\"], [0.5555555555555556, \"#d8576b\"], [0.6666666666666666, \"#ed7953\"], [0.7777777777777778, \"#fb9f3a\"], [0.8888888888888888, \"#fdca26\"], [1.0, \"#f0f921\"]], \"type\": \"heatmap\"}], \"heatmapgl\": [{\"colorbar\": {\"outlinewidth\": 0, \"ticks\": \"\"}, \"colorscale\": [[0.0, \"#0d0887\"], [0.1111111111111111, \"#46039f\"], [0.2222222222222222, \"#7201a8\"], [0.3333333333333333, \"#9c179e\"], [0.4444444444444444, \"#bd3786\"], [0.5555555555555556, \"#d8576b\"], [0.6666666666666666, \"#ed7953\"], [0.7777777777777778, \"#fb9f3a\"], [0.8888888888888888, \"#fdca26\"], [1.0, \"#f0f921\"]], \"type\": \"heatmapgl\"}], \"histogram\": [{\"marker\": {\"colorbar\": {\"outlinewidth\": 0, \"ticks\": \"\"}}, \"type\": \"histogram\"}], \"histogram2d\": [{\"colorbar\": {\"outlinewidth\": 0, \"ticks\": \"\"}, \"colorscale\": [[0.0, \"#0d0887\"], [0.1111111111111111, \"#46039f\"], [0.2222222222222222, \"#7201a8\"], [0.3333333333333333, \"#9c179e\"], [0.4444444444444444, \"#bd3786\"], [0.5555555555555556, \"#d8576b\"], [0.6666666666666666, \"#ed7953\"], [0.7777777777777778, \"#fb9f3a\"], [0.8888888888888888, \"#fdca26\"], [1.0, \"#f0f921\"]], \"type\": \"histogram2d\"}], \"histogram2dcontour\": [{\"colorbar\": {\"outlinewidth\": 0, \"ticks\": \"\"}, \"colorscale\": [[0.0, \"#0d0887\"], [0.1111111111111111, \"#46039f\"], [0.2222222222222222, \"#7201a8\"], [0.3333333333333333, \"#9c179e\"], [0.4444444444444444, \"#bd3786\"], [0.5555555555555556, \"#d8576b\"], [0.6666666666666666, \"#ed7953\"], [0.7777777777777778, \"#fb9f3a\"], [0.8888888888888888, \"#fdca26\"], [1.0, \"#f0f921\"]], \"type\": \"histogram2dcontour\"}], \"mesh3d\": [{\"colorbar\": {\"outlinewidth\": 0, \"ticks\": \"\"}, \"type\": \"mesh3d\"}], \"parcoords\": [{\"line\": {\"colorbar\": {\"outlinewidth\": 0, \"ticks\": \"\"}}, \"type\": \"parcoords\"}], \"pie\": [{\"automargin\": true, \"type\": \"pie\"}], \"scatter\": [{\"marker\": {\"colorbar\": {\"outlinewidth\": 0, \"ticks\": \"\"}}, \"type\": \"scatter\"}], \"scatter3d\": [{\"line\": {\"colorbar\": {\"outlinewidth\": 0, \"ticks\": \"\"}}, \"marker\": {\"colorbar\": {\"outlinewidth\": 0, \"ticks\": \"\"}}, \"type\": \"scatter3d\"}], \"scattercarpet\": [{\"marker\": {\"colorbar\": {\"outlinewidth\": 0, \"ticks\": \"\"}}, \"type\": \"scattercarpet\"}], \"scattergeo\": [{\"marker\": {\"colorbar\": {\"outlinewidth\": 0, \"ticks\": \"\"}}, \"type\": \"scattergeo\"}], \"scattergl\": [{\"marker\": {\"colorbar\": {\"outlinewidth\": 0, \"ticks\": \"\"}}, \"type\": \"scattergl\"}], \"scattermapbox\": [{\"marker\": {\"colorbar\": {\"outlinewidth\": 0, \"ticks\": \"\"}}, \"type\": \"scattermapbox\"}], \"scatterpolar\": [{\"marker\": {\"colorbar\": {\"outlinewidth\": 0, \"ticks\": \"\"}}, \"type\": \"scatterpolar\"}], \"scatterpolargl\": [{\"marker\": {\"colorbar\": {\"outlinewidth\": 0, \"ticks\": \"\"}}, \"type\": \"scatterpolargl\"}], \"scatterternary\": [{\"marker\": {\"colorbar\": {\"outlinewidth\": 0, \"ticks\": \"\"}}, \"type\": \"scatterternary\"}], \"surface\": [{\"colorbar\": {\"outlinewidth\": 0, \"ticks\": \"\"}, \"colorscale\": [[0.0, \"#0d0887\"], [0.1111111111111111, \"#46039f\"], [0.2222222222222222, \"#7201a8\"], [0.3333333333333333, \"#9c179e\"], [0.4444444444444444, \"#bd3786\"], [0.5555555555555556, \"#d8576b\"], [0.6666666666666666, \"#ed7953\"], [0.7777777777777778, \"#fb9f3a\"], [0.8888888888888888, \"#fdca26\"], [1.0, \"#f0f921\"]], \"type\": \"surface\"}], \"table\": [{\"cells\": {\"fill\": {\"color\": \"#EBF0F8\"}, \"line\": {\"color\": \"white\"}}, \"header\": {\"fill\": {\"color\": \"#C8D4E3\"}, \"line\": {\"color\": \"white\"}}, \"type\": \"table\"}]}, \"layout\": {\"annotationdefaults\": {\"arrowcolor\": \"#2a3f5f\", \"arrowhead\": 0, \"arrowwidth\": 1}, \"coloraxis\": {\"colorbar\": {\"outlinewidth\": 0, \"ticks\": \"\"}}, \"colorscale\": {\"diverging\": [[0, \"#8e0152\"], [0.1, \"#c51b7d\"], [0.2, \"#de77ae\"], [0.3, \"#f1b6da\"], [0.4, \"#fde0ef\"], [0.5, \"#f7f7f7\"], [0.6, \"#e6f5d0\"], [0.7, \"#b8e186\"], [0.8, \"#7fbc41\"], [0.9, \"#4d9221\"], [1, \"#276419\"]], \"sequential\": [[0.0, \"#0d0887\"], [0.1111111111111111, \"#46039f\"], [0.2222222222222222, \"#7201a8\"], [0.3333333333333333, \"#9c179e\"], [0.4444444444444444, \"#bd3786\"], [0.5555555555555556, \"#d8576b\"], [0.6666666666666666, \"#ed7953\"], [0.7777777777777778, \"#fb9f3a\"], [0.8888888888888888, \"#fdca26\"], [1.0, \"#f0f921\"]], \"sequentialminus\": [[0.0, \"#0d0887\"], [0.1111111111111111, \"#46039f\"], [0.2222222222222222, \"#7201a8\"], [0.3333333333333333, \"#9c179e\"], [0.4444444444444444, \"#bd3786\"], [0.5555555555555556, \"#d8576b\"], [0.6666666666666666, \"#ed7953\"], [0.7777777777777778, \"#fb9f3a\"], [0.8888888888888888, \"#fdca26\"], [1.0, \"#f0f921\"]]}, \"colorway\": [\"#636efa\", \"#EF553B\", \"#00cc96\", \"#ab63fa\", \"#FFA15A\", \"#19d3f3\", \"#FF6692\", \"#B6E880\", \"#FF97FF\", \"#FECB52\"], \"font\": {\"color\": \"#2a3f5f\"}, \"geo\": {\"bgcolor\": \"white\", \"lakecolor\": \"white\", \"landcolor\": \"#E5ECF6\", \"showlakes\": true, \"showland\": true, \"subunitcolor\": \"white\"}, \"hoverlabel\": {\"align\": \"left\"}, \"hovermode\": \"closest\", \"mapbox\": {\"style\": \"light\"}, \"paper_bgcolor\": \"white\", \"plot_bgcolor\": \"#E5ECF6\", \"polar\": {\"angularaxis\": {\"gridcolor\": \"white\", \"linecolor\": \"white\", \"ticks\": \"\"}, \"bgcolor\": \"#E5ECF6\", \"radialaxis\": {\"gridcolor\": \"white\", \"linecolor\": \"white\", \"ticks\": \"\"}}, \"scene\": {\"xaxis\": {\"backgroundcolor\": \"#E5ECF6\", \"gridcolor\": \"white\", \"gridwidth\": 2, \"linecolor\": \"white\", \"showbackground\": true, \"ticks\": \"\", \"zerolinecolor\": \"white\"}, \"yaxis\": {\"backgroundcolor\": \"#E5ECF6\", \"gridcolor\": \"white\", \"gridwidth\": 2, \"linecolor\": \"white\", \"showbackground\": true, \"ticks\": \"\", \"zerolinecolor\": \"white\"}, \"zaxis\": {\"backgroundcolor\": \"#E5ECF6\", \"gridcolor\": \"white\", \"gridwidth\": 2, \"linecolor\": \"white\", \"showbackground\": true, \"ticks\": \"\", \"zerolinecolor\": \"white\"}}, \"shapedefaults\": {\"line\": {\"color\": \"#2a3f5f\"}}, \"ternary\": {\"aaxis\": {\"gridcolor\": \"white\", \"linecolor\": \"white\", \"ticks\": \"\"}, \"baxis\": {\"gridcolor\": \"white\", \"linecolor\": \"white\", \"ticks\": \"\"}, \"bgcolor\": \"#E5ECF6\", \"caxis\": {\"gridcolor\": \"white\", \"linecolor\": \"white\", \"ticks\": \"\"}}, \"title\": {\"x\": 0.05}, \"xaxis\": {\"automargin\": true, \"gridcolor\": \"white\", \"linecolor\": \"white\", \"ticks\": \"\", \"title\": {\"standoff\": 15}, \"zerolinecolor\": \"white\", \"zerolinewidth\": 2}, \"yaxis\": {\"automargin\": true, \"gridcolor\": \"white\", \"linecolor\": \"white\", \"ticks\": \"\", \"title\": {\"standoff\": 15}, \"zerolinecolor\": \"white\", \"zerolinewidth\": 2}}}, \"xaxis\": {\"anchor\": \"y\", \"domain\": [0.0, 1.0], \"title\": {\"text\": \"Fare\"}}, \"yaxis\": {\"anchor\": \"x\", \"domain\": [0.0, 1.0], \"title\": {\"text\": \"count\"}}},\n",
              "                        {\"responsive\": true}\n",
              "                    ).then(function(){\n",
              "                            \n",
              "var gd = document.getElementById('34e36177-bb48-4304-baa0-323eee8c2868');\n",
              "var x = new MutationObserver(function (mutations, observer) {{\n",
              "        var display = window.getComputedStyle(gd).display;\n",
              "        if (!display || display === 'none') {{\n",
              "            console.log([gd, 'removed!']);\n",
              "            Plotly.purge(gd);\n",
              "            observer.disconnect();\n",
              "        }}\n",
              "}});\n",
              "\n",
              "// Listen for the removal of the full notebook cells\n",
              "var notebookContainer = gd.closest('#notebook-container');\n",
              "if (notebookContainer) {{\n",
              "    x.observe(notebookContainer, {childList: true});\n",
              "}}\n",
              "\n",
              "// Listen for the clearing of the current output cell\n",
              "var outputEl = gd.closest('.output');\n",
              "if (outputEl) {{\n",
              "    x.observe(outputEl, {childList: true});\n",
              "}}\n",
              "\n",
              "                        })\n",
              "                };\n",
              "                \n",
              "            </script>\n",
              "        </div>\n",
              "</body>\n",
              "</html>"
            ]
          },
          "metadata": {
            "tags": []
          }
        },
        {
          "output_type": "display_data",
          "data": {
            "text/html": [
              "<html>\n",
              "<head><meta charset=\"utf-8\" /></head>\n",
              "<body>\n",
              "    <div>\n",
              "            <script src=\"https://cdnjs.cloudflare.com/ajax/libs/mathjax/2.7.5/MathJax.js?config=TeX-AMS-MML_SVG\"></script><script type=\"text/javascript\">if (window.MathJax) {MathJax.Hub.Config({SVG: {font: \"STIX-Web\"}});}</script>\n",
              "                <script type=\"text/javascript\">window.PlotlyConfig = {MathJaxConfig: 'local'};</script>\n",
              "        <script src=\"https://cdn.plot.ly/plotly-latest.min.js\"></script>    \n",
              "            <div id=\"90fc2274-2fbb-4520-bb15-24e77a586d62\" class=\"plotly-graph-div\" style=\"height:525px; width:100%;\"></div>\n",
              "            <script type=\"text/javascript\">\n",
              "                \n",
              "                    window.PLOTLYENV=window.PLOTLYENV || {};\n",
              "                    \n",
              "                if (document.getElementById(\"90fc2274-2fbb-4520-bb15-24e77a586d62\")) {\n",
              "                    Plotly.newPlot(\n",
              "                        '90fc2274-2fbb-4520-bb15-24e77a586d62',\n",
              "                        [{\"alignmentgroup\": \"True\", \"bingroup\": \"x\", \"hoverlabel\": {\"namelength\": 0}, \"hovertemplate\": \"Survived=0<br>Cabin=%{x}<br>count=%{y}\", \"legendgroup\": \"Survived=0\", \"marker\": {\"color\": \"#636efa\"}, \"name\": \"Survived=0\", \"offsetgroup\": \"Survived=0\", \"orientation\": \"v\", \"showlegend\": true, \"type\": \"histogram\", \"x\": [null, null, null, \"E46\", null, null, null, null, null, null, null, null, null, \"C23 C25 C27\", null, null, null, null, null, null, null, null, null, null, null, null, null, null, null, null, \"B30\", null, null, null, \"C83\", null, null, null, null, null, null, null, null, \"F G73\", null, null, null, null, null, null, null, null, null, \"E31\", null, null, null, \"A5\", null, null, null, \"D26\", null, null, null, null, \"C110\", null, null, null, null, null, null, null, \"B58 B60\", null, null, null, null, \"D26\", null, null, null, null, null, null, null, \"C123\", null, \"B86\", null, null, null, null, null, \"F2\", null, null, null, null, null, null, null, null, null, null, null, null, null, null, null, null, \"B19\", null, null, \"A7\", null, null, \"C49\", null, null, null, null, null, \"A32\", null, null, null, null, null, null, null, null, null, null, \"G6\", null, null, null, null, null, null, null, null, null, null, null, null, null, null, null, null, null, null, null, null, null, null, null, null, null, \"C78\", null, null, null, \"G6\", \"C87\", null, null, null, \"E67\", \"B94\", null, null, null, null, \"C118\", null, null, null, null, null, null, \"A19\", null, null, \"D\", null, null, null, null, \"C22 C26\", null, null, null, null, null, null, null, null, null, null, null, \"C124\", \"C91\", null, null, \"C2\", \"T\", null, null, null, null, null, \"C128\", null, null, null, null, null, null, null, null, null, null, null, null, null, null, null, \"C82\", null, null, null, null, null, null, null, null, null, null, null, null, null, null, null, null, null, null, null, null, null, null, null, null, null, null, null, null, null, null, null, null, null, null, \"E44\", null, \"C23 C25 C27\", null, null, null, null, null, \"C111\", null, \"E38\", null, null, \"E63\", null, null, null, null, null, null, null, null, null, \"A14\", null, null, null, null, null, null, null, \"B37\", null, null, null, \"C30\", null, null, null, null, \"C22 C26\", null, null, null, null, null, \"C65\", null, null, null, \"D46\", null, null, null, null, null, null, \"C95\", null, null, null, null, null, \"B38\", null, null, null, \"C86\", null, null, null, null, null, null, null, null, null, null, null, null, null, null, null, null, null, null, null, \"A10\", null, null, null, null, null, null, null, null, null, null, null, null, null, null, null, null, null, null, null, null, null, null, null, null, null, null, \"D50\", null, null, null, null, null, null, null, null, null, null, null, null, null, null, null, null, null, null, null, null, null, \"D48\", null, \"E58\", null, null, null, null, null, \"B71\", null, null, null, null, null, null, null, null, null, null, null, null, null, null, null, null, null, \"C68\", \"F G63\", null, null, null, null, \"C124\", null, null, \"F G73\", null, null, null, null, null, null, null, null, null, null, null, null, null, null, null, null, \"C46\", null, \"B22\", null, \"D30\", null, null, null, null, null, null, null, null, null, null, null, null, null, null, null, \"E77\", null, null, \"F38\", null, \"D6\", null, null, null, null, \"B82 B84\", null, null, null, null, null, null, null, null, null, null, \"A36\", null, null, null, null, null, null, null, \"B102\", null, null, null, null, null, null, null, null, null, null, null, null, null, null, null, null, null, null, null, null, null, null, null, null, null, null, null, null, null, null, \"A24\", null, null, \"B51 B53 B55\", null, null, null, null, null, null, null, null, null, null, null, null], \"xaxis\": \"x\", \"yaxis\": \"y\"}, {\"alignmentgroup\": \"True\", \"bingroup\": \"x\", \"hoverlabel\": {\"namelength\": 0}, \"hovertemplate\": \"Survived=1<br>Cabin=%{x}<br>count=%{y}\", \"legendgroup\": \"Survived=1\", \"marker\": {\"color\": \"#EF553B\"}, \"name\": \"Survived=1\", \"offsetgroup\": \"Survived=1\", \"orientation\": \"v\", \"showlegend\": true, \"type\": \"histogram\", \"x\": [\"C85\", null, \"C123\", null, null, \"G6\", \"C103\", null, null, null, \"D56\", null, \"A6\", null, null, \"B78\", null, null, null, null, null, null, \"D33\", null, \"C52\", null, null, \"B28\", null, \"F33\", null, null, null, null, null, null, null, null, \"C23 C25 C27\", \"D10 D12\", null, null, null, null, \"E101\", null, null, \"F E69\", null, \"D47\", null, null, null, \"C2\", null, null, null, \"E33\", null, \"F4\", null, null, null, null, null, \"F2\", \"B4\", \"B80\", null, null, null, null, \"A31\", null, \"D36\", null, \"D15\", null, \"C93\", null, \"C83\", null, null, null, null, \"D35\", null, null, \"B77\", null, null, null, null, \"C125\", \"C99\", null, null, null, \"D7\", null, null, null, null, null, null, \"B49\", \"C106\", \"B58 B60\", null, null, \"E101\", \"C22 C26\", null, \"C65\", \"E36\", \"C54\", \"B57 B59 B63 B66\", null, null, \"C7\", \"E34\", null, null, \"C32\", \"D\", null, \"B18\", null, null, \"E40\", null, \"F2\", \"C23 C25 C27\", \"F33\", null, null, null, \"E33\", null, null, \"D37\", null, null, \"B35\", \"E50\", null, null, null, null, null, null, null, \"B96 B98\", null, \"D36\", \"G6\", null, null, null, \"C78\", null, null, null, null, null, \"E10\", \"C52\", null, null, \"B96 B98\", null, null, null, null, \"A34\", null, null, null, \"C104\", \"C92\", null, \"D21\", null, \"E12\", null, null, \"D\", null, null, \"B49\", \"C93\", null, \"D20\", \"B79\", null, null, null, null, \"E25\", null, \"F33\", null, \"B73\", \"B18\", null, null, null, null, null, \"B39\", \"B22\", null, null, null, null, \"C70\", null, null, \"A16\", \"E67\", null, null, null, \"C101\", \"E25\", null, null, \"E44\", null, null, \"C68\", \"E68\", \"B41\", \"D20\", null, \"A20\", null, null, null, null, \"C125\", null, null, \"F4\", \"D19\", null, \"D9\", \"A23\", \"B50\", null, \"B35\", null, null, \"D33\", \"A26\", null, null, null, null, null, \"C126\", null, null, null, \"B51 B53 B55\", \"D49\", \"B5\", \"B20\", null, null, null, \"C62 C64\", \"E24\", null, \"E24\", null, null, \"C90\", \"C126\", \"C45\", \"E101\", null, \"E8\", null, null, \"B5\", \"B101\", \"D45\", \"B57 B59 B63 B66\", null, null, null, \"E121\", null, null, \"B77\", null, \"B96 B98\", \"D11\", null, null, \"B3\", null, \"B20\", null, null, \"D17\", null, null, \"B96 B98\", null, null, \"E8\", \"B69\", null, \"E121\", null, null, \"B28\", null, null, \"E49\", null, \"C47\", null, \"C92\", \"D28\", null, null, \"E17\", null, \"D17\", null, null, null, \"D35\", null, null, \"C50\", null, \"B42\", \"C148\"], \"xaxis\": \"x\", \"yaxis\": \"y\"}],\n",
              "                        {\"barmode\": \"relative\", \"legend\": {\"tracegroupgap\": 0}, \"margin\": {\"t\": 60}, \"template\": {\"data\": {\"bar\": [{\"error_x\": {\"color\": \"#2a3f5f\"}, \"error_y\": {\"color\": \"#2a3f5f\"}, \"marker\": {\"line\": {\"color\": \"#E5ECF6\", \"width\": 0.5}}, \"type\": \"bar\"}], \"barpolar\": [{\"marker\": {\"line\": {\"color\": \"#E5ECF6\", \"width\": 0.5}}, \"type\": \"barpolar\"}], \"carpet\": [{\"aaxis\": {\"endlinecolor\": \"#2a3f5f\", \"gridcolor\": \"white\", \"linecolor\": \"white\", \"minorgridcolor\": \"white\", \"startlinecolor\": \"#2a3f5f\"}, \"baxis\": {\"endlinecolor\": \"#2a3f5f\", \"gridcolor\": \"white\", \"linecolor\": \"white\", \"minorgridcolor\": \"white\", \"startlinecolor\": \"#2a3f5f\"}, \"type\": \"carpet\"}], \"choropleth\": [{\"colorbar\": {\"outlinewidth\": 0, \"ticks\": \"\"}, \"type\": \"choropleth\"}], \"contour\": [{\"colorbar\": {\"outlinewidth\": 0, \"ticks\": \"\"}, \"colorscale\": [[0.0, \"#0d0887\"], [0.1111111111111111, \"#46039f\"], [0.2222222222222222, \"#7201a8\"], [0.3333333333333333, \"#9c179e\"], [0.4444444444444444, \"#bd3786\"], [0.5555555555555556, \"#d8576b\"], [0.6666666666666666, \"#ed7953\"], [0.7777777777777778, \"#fb9f3a\"], [0.8888888888888888, \"#fdca26\"], [1.0, \"#f0f921\"]], \"type\": \"contour\"}], \"contourcarpet\": [{\"colorbar\": {\"outlinewidth\": 0, \"ticks\": \"\"}, \"type\": \"contourcarpet\"}], \"heatmap\": [{\"colorbar\": {\"outlinewidth\": 0, \"ticks\": \"\"}, \"colorscale\": [[0.0, \"#0d0887\"], [0.1111111111111111, \"#46039f\"], [0.2222222222222222, \"#7201a8\"], [0.3333333333333333, \"#9c179e\"], [0.4444444444444444, \"#bd3786\"], [0.5555555555555556, \"#d8576b\"], [0.6666666666666666, \"#ed7953\"], [0.7777777777777778, \"#fb9f3a\"], [0.8888888888888888, \"#fdca26\"], [1.0, \"#f0f921\"]], \"type\": \"heatmap\"}], \"heatmapgl\": [{\"colorbar\": {\"outlinewidth\": 0, \"ticks\": \"\"}, \"colorscale\": [[0.0, \"#0d0887\"], [0.1111111111111111, \"#46039f\"], [0.2222222222222222, \"#7201a8\"], [0.3333333333333333, \"#9c179e\"], [0.4444444444444444, \"#bd3786\"], [0.5555555555555556, \"#d8576b\"], [0.6666666666666666, \"#ed7953\"], [0.7777777777777778, \"#fb9f3a\"], [0.8888888888888888, \"#fdca26\"], [1.0, \"#f0f921\"]], \"type\": \"heatmapgl\"}], \"histogram\": [{\"marker\": {\"colorbar\": {\"outlinewidth\": 0, \"ticks\": \"\"}}, \"type\": \"histogram\"}], \"histogram2d\": [{\"colorbar\": {\"outlinewidth\": 0, \"ticks\": \"\"}, \"colorscale\": [[0.0, \"#0d0887\"], [0.1111111111111111, \"#46039f\"], [0.2222222222222222, \"#7201a8\"], [0.3333333333333333, \"#9c179e\"], [0.4444444444444444, \"#bd3786\"], [0.5555555555555556, \"#d8576b\"], [0.6666666666666666, \"#ed7953\"], [0.7777777777777778, \"#fb9f3a\"], [0.8888888888888888, \"#fdca26\"], [1.0, \"#f0f921\"]], \"type\": \"histogram2d\"}], \"histogram2dcontour\": [{\"colorbar\": {\"outlinewidth\": 0, \"ticks\": \"\"}, \"colorscale\": [[0.0, \"#0d0887\"], [0.1111111111111111, \"#46039f\"], [0.2222222222222222, \"#7201a8\"], [0.3333333333333333, \"#9c179e\"], [0.4444444444444444, \"#bd3786\"], [0.5555555555555556, \"#d8576b\"], [0.6666666666666666, \"#ed7953\"], [0.7777777777777778, \"#fb9f3a\"], [0.8888888888888888, \"#fdca26\"], [1.0, \"#f0f921\"]], \"type\": \"histogram2dcontour\"}], \"mesh3d\": [{\"colorbar\": {\"outlinewidth\": 0, \"ticks\": \"\"}, \"type\": \"mesh3d\"}], \"parcoords\": [{\"line\": {\"colorbar\": {\"outlinewidth\": 0, \"ticks\": \"\"}}, \"type\": \"parcoords\"}], \"pie\": [{\"automargin\": true, \"type\": \"pie\"}], \"scatter\": [{\"marker\": {\"colorbar\": {\"outlinewidth\": 0, \"ticks\": \"\"}}, \"type\": \"scatter\"}], \"scatter3d\": [{\"line\": {\"colorbar\": {\"outlinewidth\": 0, \"ticks\": \"\"}}, \"marker\": {\"colorbar\": {\"outlinewidth\": 0, \"ticks\": \"\"}}, \"type\": \"scatter3d\"}], \"scattercarpet\": [{\"marker\": {\"colorbar\": {\"outlinewidth\": 0, \"ticks\": \"\"}}, \"type\": \"scattercarpet\"}], \"scattergeo\": [{\"marker\": {\"colorbar\": {\"outlinewidth\": 0, \"ticks\": \"\"}}, \"type\": \"scattergeo\"}], \"scattergl\": [{\"marker\": {\"colorbar\": {\"outlinewidth\": 0, \"ticks\": \"\"}}, \"type\": \"scattergl\"}], \"scattermapbox\": [{\"marker\": {\"colorbar\": {\"outlinewidth\": 0, \"ticks\": \"\"}}, \"type\": \"scattermapbox\"}], \"scatterpolar\": [{\"marker\": {\"colorbar\": {\"outlinewidth\": 0, \"ticks\": \"\"}}, \"type\": \"scatterpolar\"}], \"scatterpolargl\": [{\"marker\": {\"colorbar\": {\"outlinewidth\": 0, \"ticks\": \"\"}}, \"type\": \"scatterpolargl\"}], \"scatterternary\": [{\"marker\": {\"colorbar\": {\"outlinewidth\": 0, \"ticks\": \"\"}}, \"type\": \"scatterternary\"}], \"surface\": [{\"colorbar\": {\"outlinewidth\": 0, \"ticks\": \"\"}, \"colorscale\": [[0.0, \"#0d0887\"], [0.1111111111111111, \"#46039f\"], [0.2222222222222222, \"#7201a8\"], [0.3333333333333333, \"#9c179e\"], [0.4444444444444444, \"#bd3786\"], [0.5555555555555556, \"#d8576b\"], [0.6666666666666666, \"#ed7953\"], [0.7777777777777778, \"#fb9f3a\"], [0.8888888888888888, \"#fdca26\"], [1.0, \"#f0f921\"]], \"type\": \"surface\"}], \"table\": [{\"cells\": {\"fill\": {\"color\": \"#EBF0F8\"}, \"line\": {\"color\": \"white\"}}, \"header\": {\"fill\": {\"color\": \"#C8D4E3\"}, \"line\": {\"color\": \"white\"}}, \"type\": \"table\"}]}, \"layout\": {\"annotationdefaults\": {\"arrowcolor\": \"#2a3f5f\", \"arrowhead\": 0, \"arrowwidth\": 1}, \"coloraxis\": {\"colorbar\": {\"outlinewidth\": 0, \"ticks\": \"\"}}, \"colorscale\": {\"diverging\": [[0, \"#8e0152\"], [0.1, \"#c51b7d\"], [0.2, \"#de77ae\"], [0.3, \"#f1b6da\"], [0.4, \"#fde0ef\"], [0.5, \"#f7f7f7\"], [0.6, \"#e6f5d0\"], [0.7, \"#b8e186\"], [0.8, \"#7fbc41\"], [0.9, \"#4d9221\"], [1, \"#276419\"]], \"sequential\": [[0.0, \"#0d0887\"], [0.1111111111111111, \"#46039f\"], [0.2222222222222222, \"#7201a8\"], [0.3333333333333333, \"#9c179e\"], [0.4444444444444444, \"#bd3786\"], [0.5555555555555556, \"#d8576b\"], [0.6666666666666666, \"#ed7953\"], [0.7777777777777778, \"#fb9f3a\"], [0.8888888888888888, \"#fdca26\"], [1.0, \"#f0f921\"]], \"sequentialminus\": [[0.0, \"#0d0887\"], [0.1111111111111111, \"#46039f\"], [0.2222222222222222, \"#7201a8\"], [0.3333333333333333, \"#9c179e\"], [0.4444444444444444, \"#bd3786\"], [0.5555555555555556, \"#d8576b\"], [0.6666666666666666, \"#ed7953\"], [0.7777777777777778, \"#fb9f3a\"], [0.8888888888888888, \"#fdca26\"], [1.0, \"#f0f921\"]]}, \"colorway\": [\"#636efa\", \"#EF553B\", \"#00cc96\", \"#ab63fa\", \"#FFA15A\", \"#19d3f3\", \"#FF6692\", \"#B6E880\", \"#FF97FF\", \"#FECB52\"], \"font\": {\"color\": \"#2a3f5f\"}, \"geo\": {\"bgcolor\": \"white\", \"lakecolor\": \"white\", \"landcolor\": \"#E5ECF6\", \"showlakes\": true, \"showland\": true, \"subunitcolor\": \"white\"}, \"hoverlabel\": {\"align\": \"left\"}, \"hovermode\": \"closest\", \"mapbox\": {\"style\": \"light\"}, \"paper_bgcolor\": \"white\", \"plot_bgcolor\": \"#E5ECF6\", \"polar\": {\"angularaxis\": {\"gridcolor\": \"white\", \"linecolor\": \"white\", \"ticks\": \"\"}, \"bgcolor\": \"#E5ECF6\", \"radialaxis\": {\"gridcolor\": \"white\", \"linecolor\": \"white\", \"ticks\": \"\"}}, \"scene\": {\"xaxis\": {\"backgroundcolor\": \"#E5ECF6\", \"gridcolor\": \"white\", \"gridwidth\": 2, \"linecolor\": \"white\", \"showbackground\": true, \"ticks\": \"\", \"zerolinecolor\": \"white\"}, \"yaxis\": {\"backgroundcolor\": \"#E5ECF6\", \"gridcolor\": \"white\", \"gridwidth\": 2, \"linecolor\": \"white\", \"showbackground\": true, \"ticks\": \"\", \"zerolinecolor\": \"white\"}, \"zaxis\": {\"backgroundcolor\": \"#E5ECF6\", \"gridcolor\": \"white\", \"gridwidth\": 2, \"linecolor\": \"white\", \"showbackground\": true, \"ticks\": \"\", \"zerolinecolor\": \"white\"}}, \"shapedefaults\": {\"line\": {\"color\": \"#2a3f5f\"}}, \"ternary\": {\"aaxis\": {\"gridcolor\": \"white\", \"linecolor\": \"white\", \"ticks\": \"\"}, \"baxis\": {\"gridcolor\": \"white\", \"linecolor\": \"white\", \"ticks\": \"\"}, \"bgcolor\": \"#E5ECF6\", \"caxis\": {\"gridcolor\": \"white\", \"linecolor\": \"white\", \"ticks\": \"\"}}, \"title\": {\"x\": 0.05}, \"xaxis\": {\"automargin\": true, \"gridcolor\": \"white\", \"linecolor\": \"white\", \"ticks\": \"\", \"title\": {\"standoff\": 15}, \"zerolinecolor\": \"white\", \"zerolinewidth\": 2}, \"yaxis\": {\"automargin\": true, \"gridcolor\": \"white\", \"linecolor\": \"white\", \"ticks\": \"\", \"title\": {\"standoff\": 15}, \"zerolinecolor\": \"white\", \"zerolinewidth\": 2}}}, \"xaxis\": {\"anchor\": \"y\", \"domain\": [0.0, 1.0], \"title\": {\"text\": \"Cabin\"}}, \"yaxis\": {\"anchor\": \"x\", \"domain\": [0.0, 1.0], \"title\": {\"text\": \"count\"}}},\n",
              "                        {\"responsive\": true}\n",
              "                    ).then(function(){\n",
              "                            \n",
              "var gd = document.getElementById('90fc2274-2fbb-4520-bb15-24e77a586d62');\n",
              "var x = new MutationObserver(function (mutations, observer) {{\n",
              "        var display = window.getComputedStyle(gd).display;\n",
              "        if (!display || display === 'none') {{\n",
              "            console.log([gd, 'removed!']);\n",
              "            Plotly.purge(gd);\n",
              "            observer.disconnect();\n",
              "        }}\n",
              "}});\n",
              "\n",
              "// Listen for the removal of the full notebook cells\n",
              "var notebookContainer = gd.closest('#notebook-container');\n",
              "if (notebookContainer) {{\n",
              "    x.observe(notebookContainer, {childList: true});\n",
              "}}\n",
              "\n",
              "// Listen for the clearing of the current output cell\n",
              "var outputEl = gd.closest('.output');\n",
              "if (outputEl) {{\n",
              "    x.observe(outputEl, {childList: true});\n",
              "}}\n",
              "\n",
              "                        })\n",
              "                };\n",
              "                \n",
              "            </script>\n",
              "        </div>\n",
              "</body>\n",
              "</html>"
            ]
          },
          "metadata": {
            "tags": []
          }
        },
        {
          "output_type": "display_data",
          "data": {
            "text/html": [
              "<html>\n",
              "<head><meta charset=\"utf-8\" /></head>\n",
              "<body>\n",
              "    <div>\n",
              "            <script src=\"https://cdnjs.cloudflare.com/ajax/libs/mathjax/2.7.5/MathJax.js?config=TeX-AMS-MML_SVG\"></script><script type=\"text/javascript\">if (window.MathJax) {MathJax.Hub.Config({SVG: {font: \"STIX-Web\"}});}</script>\n",
              "                <script type=\"text/javascript\">window.PlotlyConfig = {MathJaxConfig: 'local'};</script>\n",
              "        <script src=\"https://cdn.plot.ly/plotly-latest.min.js\"></script>    \n",
              "            <div id=\"68dd030c-b26d-4f8a-b097-81e7c38e7fd5\" class=\"plotly-graph-div\" style=\"height:525px; width:100%;\"></div>\n",
              "            <script type=\"text/javascript\">\n",
              "                \n",
              "                    window.PLOTLYENV=window.PLOTLYENV || {};\n",
              "                    \n",
              "                if (document.getElementById(\"68dd030c-b26d-4f8a-b097-81e7c38e7fd5\")) {\n",
              "                    Plotly.newPlot(\n",
              "                        '68dd030c-b26d-4f8a-b097-81e7c38e7fd5',\n",
              "                        [{\"alignmentgroup\": \"True\", \"bingroup\": \"x\", \"hoverlabel\": {\"namelength\": 0}, \"hovertemplate\": \"Survived=0<br>Embarked=%{x}<br>count=%{y}\", \"legendgroup\": \"Survived=0\", \"marker\": {\"color\": \"#636efa\"}, \"name\": \"Survived=0\", \"offsetgroup\": \"Survived=0\", \"orientation\": \"v\", \"showlegend\": true, \"type\": \"histogram\", \"x\": [\"S\", \"S\", \"Q\", \"S\", \"S\", \"S\", \"S\", \"S\", \"Q\", \"S\", \"S\", \"S\", \"C\", \"S\", \"S\", \"C\", \"S\", \"C\", \"S\", \"S\", \"S\", \"S\", \"S\", \"C\", \"S\", \"Q\", \"C\", \"S\", \"S\", \"S\", \"C\", \"C\", \"S\", \"C\", \"S\", \"S\", \"C\", \"S\", \"S\", \"S\", \"S\", \"S\", \"C\", \"S\", \"S\", \"S\", \"S\", \"S\", \"S\", \"S\", \"S\", \"S\", \"S\", \"S\", \"S\", \"S\", \"S\", \"C\", \"S\", \"S\", \"S\", \"S\", \"S\", \"S\", \"S\", \"S\", \"S\", \"C\", \"S\", \"S\", \"C\", \"S\", \"Q\", \"S\", \"C\", \"S\", \"S\", \"S\", \"C\", \"S\", \"Q\", \"S\", \"C\", \"S\", \"S\", \"S\", \"C\", \"S\", \"S\", \"C\", \"C\", \"Q\", \"S\", \"S\", \"S\", \"S\", \"S\", \"S\", \"S\", \"S\", \"S\", \"C\", \"S\", \"S\", \"S\", \"S\", \"S\", \"S\", \"S\", \"S\", \"S\", \"S\", \"S\", \"Q\", \"S\", \"C\", \"S\", \"S\", \"C\", \"S\", \"S\", \"S\", \"C\", \"S\", \"S\", \"Q\", \"S\", \"S\", \"Q\", \"S\", \"S\", \"S\", \"S\", \"S\", \"C\", \"S\", \"S\", \"S\", \"S\", \"S\", \"Q\", \"S\", \"S\", \"S\", \"S\", \"S\", \"S\", \"S\", \"S\", \"S\", \"S\", \"S\", \"S\", \"S\", \"S\", \"S\", \"S\", \"C\", \"S\", \"S\", \"C\", \"Q\", \"S\", \"S\", \"S\", \"S\", \"S\", \"S\", \"S\", \"Q\", \"S\", \"S\", \"Q\", \"S\", \"S\", \"S\", \"C\", \"S\", \"S\", \"Q\", \"Q\", \"S\", \"S\", \"S\", \"C\", \"S\", \"C\", \"S\", \"S\", \"C\", \"C\", \"S\", \"S\", \"S\", \"C\", \"S\", \"S\", \"S\", \"S\", \"S\", \"S\", \"S\", \"S\", \"S\", \"S\", \"S\", \"S\", \"S\", \"S\", \"S\", \"S\", \"S\", \"S\", \"S\", \"S\", \"C\", \"S\", \"C\", \"S\", \"S\", \"S\", \"C\", \"C\", \"S\", \"Q\", \"S\", \"S\", \"S\", \"C\", \"S\", \"C\", \"C\", \"S\", \"S\", \"S\", \"S\", \"S\", \"Q\", \"S\", \"S\", \"S\", \"S\", \"S\", \"S\", \"S\", \"S\", \"S\", \"S\", \"S\", \"S\", \"S\", \"S\", \"Q\", \"S\", \"S\", \"S\", \"S\", \"C\", \"Q\", \"S\", \"S\", \"S\", \"S\", \"Q\", \"S\", \"S\", \"S\", \"S\", \"S\", \"S\", \"S\", \"S\", \"S\", \"C\", \"S\", \"S\", \"Q\", \"S\", \"S\", \"S\", \"S\", \"S\", \"S\", \"S\", \"Q\", \"S\", \"S\", \"S\", \"S\", \"S\", \"S\", \"S\", \"S\", \"S\", \"S\", \"S\", \"C\", \"S\", \"S\", \"S\", \"S\", \"C\", \"S\", \"C\", \"S\", \"S\", \"S\", \"S\", \"Q\", \"Q\", \"S\", \"C\", \"S\", \"S\", \"S\", \"S\", \"Q\", \"S\", \"S\", \"C\", \"C\", \"Q\", \"S\", \"S\", \"S\", \"C\", \"C\", \"S\", \"S\", \"S\", \"S\", \"S\", \"C\", \"S\", \"S\", \"S\", \"Q\", \"S\", \"C\", \"Q\", \"S\", \"S\", \"S\", \"S\", \"S\", \"S\", \"S\", \"C\", \"S\", \"S\", \"C\", \"S\", \"C\", \"C\", \"S\", \"S\", \"S\", \"S\", \"S\", \"Q\", \"S\", \"S\", \"S\", \"C\", \"S\", \"S\", \"S\", \"S\", \"S\", \"S\", \"S\", \"Q\", \"S\", \"S\", \"S\", \"S\", \"C\", \"S\", \"S\", \"S\", \"Q\", \"S\", \"Q\", \"S\", \"S\", \"S\", \"S\", \"S\", \"S\", \"S\", \"S\", \"S\", \"S\", \"S\", \"S\", \"S\", \"Q\", \"S\", \"S\", \"Q\", \"S\", \"C\", \"C\", \"S\", \"S\", \"S\", \"S\", \"S\", \"S\", \"S\", \"S\", \"S\", \"S\", \"S\", \"S\", \"Q\", \"S\", \"S\", \"S\", \"C\", \"S\", \"S\", \"S\", \"C\", \"S\", \"S\", \"S\", \"C\", \"S\", \"C\", \"Q\", \"S\", \"S\", \"S\", \"S\", \"S\", \"S\", \"Q\", \"S\", \"S\", \"S\", \"S\", \"S\", \"S\", \"S\", \"C\", \"S\", \"S\", \"S\", \"S\", \"S\", \"S\", \"S\", \"S\", \"S\", \"S\", \"S\", \"S\", \"Q\", \"S\", \"S\", \"S\", \"S\", \"S\", \"S\", \"S\", \"S\", \"C\", \"Q\", \"Q\", \"S\", \"S\", \"S\", \"S\", \"C\", \"S\", \"Q\", \"Q\", \"S\", \"S\", \"S\", \"S\", \"Q\", \"C\", \"Q\", \"S\", \"S\", \"C\", \"S\", \"S\", \"C\", \"S\", \"S\", \"S\", \"S\", \"S\", \"S\", \"S\", \"S\", \"S\", \"S\", \"S\", \"S\", \"S\", \"C\", \"S\", \"S\", \"S\", \"S\", \"Q\", \"S\", \"C\", \"S\", \"S\", \"S\", \"S\", \"S\", \"S\", \"C\", \"S\", \"S\", \"S\", \"C\", \"S\", \"S\", \"S\", \"C\", \"S\", \"C\", \"S\", \"S\", \"S\", \"S\", \"S\", \"S\", \"S\", \"S\", \"S\", \"S\", \"S\", \"S\", \"S\", \"S\", \"S\", \"S\", \"Q\", \"S\", \"S\", \"Q\"], \"xaxis\": \"x\", \"yaxis\": \"y\"}, {\"alignmentgroup\": \"True\", \"bingroup\": \"x\", \"hoverlabel\": {\"namelength\": 0}, \"hovertemplate\": \"Survived=1<br>Embarked=%{x}<br>count=%{y}\", \"legendgroup\": \"Survived=1\", \"marker\": {\"color\": \"#EF553B\"}, \"name\": \"Survived=1\", \"offsetgroup\": \"Survived=1\", \"orientation\": \"v\", \"showlegend\": true, \"type\": \"histogram\", \"x\": [\"C\", \"S\", \"S\", \"S\", \"C\", \"S\", \"S\", \"S\", \"S\", \"C\", \"S\", \"Q\", \"S\", \"S\", \"Q\", \"C\", \"Q\", \"C\", \"C\", \"C\", \"Q\", \"Q\", \"C\", \"S\", \"S\", \"S\", \"S\", null, \"C\", \"S\", \"S\", \"S\", \"S\", \"S\", \"S\", \"Q\", \"S\", \"S\", \"S\", \"C\", \"S\", \"S\", \"S\", \"Q\", \"S\", \"C\", \"S\", \"C\", \"S\", \"S\", \"S\", \"S\", \"S\", \"S\", \"Q\", \"S\", \"S\", \"S\", \"S\", \"S\", \"S\", \"Q\", \"S\", \"S\", \"S\", \"S\", \"C\", \"C\", \"Q\", \"S\", \"C\", \"Q\", \"C\", \"S\", \"C\", \"S\", \"C\", \"S\", \"S\", \"S\", \"S\", \"S\", \"S\", \"Q\", \"S\", \"S\", \"C\", \"C\", \"S\", \"C\", \"S\", \"S\", \"S\", \"S\", \"S\", \"S\", \"S\", \"Q\", \"S\", \"S\", \"S\", \"S\", \"S\", \"Q\", \"S\", \"C\", \"S\", \"C\", \"Q\", \"Q\", \"Q\", \"S\", \"C\", \"C\", \"C\", \"C\", \"C\", \"S\", \"S\", \"S\", \"C\", \"Q\", \"S\", \"C\", \"S\", \"S\", \"C\", \"Q\", \"S\", \"C\", \"S\", \"S\", \"S\", \"S\", \"S\", \"S\", \"S\", \"S\", \"Q\", \"Q\", \"C\", \"C\", \"Q\", \"C\", \"C\", \"C\", \"S\", \"C\", \"C\", \"S\", \"S\", \"C\", \"S\", \"S\", \"C\", \"S\", \"S\", \"S\", \"S\", \"Q\", \"S\", \"S\", \"S\", \"S\", \"S\", \"S\", \"S\", \"S\", \"S\", \"S\", \"S\", \"S\", \"S\", \"S\", \"S\", \"S\", \"S\", \"C\", \"S\", \"C\", \"C\", \"S\", \"S\", \"S\", \"C\", \"S\", \"C\", \"S\", \"S\", \"C\", \"S\", \"S\", \"C\", \"S\", \"S\", \"S\", \"S\", \"Q\", \"S\", \"C\", \"S\", \"S\", \"S\", \"C\", \"S\", \"S\", \"C\", \"S\", \"C\", \"C\", \"S\", \"S\", \"S\", \"C\", \"S\", \"C\", \"C\", \"S\", \"C\", \"S\", \"S\", \"S\", \"S\", \"S\", \"S\", \"Q\", \"S\", \"S\", \"S\", \"S\", \"C\", \"S\", \"C\", \"C\", \"S\", \"C\", \"S\", \"C\", \"S\", \"C\", \"S\", \"Q\", \"S\", \"S\", \"S\", \"C\", \"S\", \"S\", \"C\", \"S\", \"C\", \"S\", \"C\", \"C\", \"C\", \"S\", \"S\", \"Q\", \"S\", \"S\", \"S\", \"S\", \"S\", \"S\", \"C\", \"C\", \"S\", \"S\", \"C\", \"S\", \"Q\", \"C\", \"S\", \"S\", \"S\", \"S\", \"C\", \"C\", \"S\", \"C\", \"S\", \"S\", \"S\", \"S\", \"Q\", \"S\", \"C\", \"S\", \"C\", \"S\", \"S\", \"S\", \"S\", \"S\", \"S\", \"S\", \"C\", \"S\", \"S\", \"S\", \"S\", \"S\", \"C\", \"S\", \"S\", \"S\", \"S\", \"S\", \"S\", \"S\", \"C\", \"S\", \"S\", \"S\", \"S\", \"S\", \"C\", \"Q\", null, \"C\", \"S\", \"C\", \"S\", \"C\", \"C\", \"C\", \"S\", \"S\", \"S\", \"S\", \"C\", \"S\", \"S\", \"C\", \"S\", \"S\", \"C\", \"C\", \"C\", \"S\", \"S\", \"C\"], \"xaxis\": \"x\", \"yaxis\": \"y\"}],\n",
              "                        {\"barmode\": \"relative\", \"legend\": {\"tracegroupgap\": 0}, \"margin\": {\"t\": 60}, \"template\": {\"data\": {\"bar\": [{\"error_x\": {\"color\": \"#2a3f5f\"}, \"error_y\": {\"color\": \"#2a3f5f\"}, \"marker\": {\"line\": {\"color\": \"#E5ECF6\", \"width\": 0.5}}, \"type\": \"bar\"}], \"barpolar\": [{\"marker\": {\"line\": {\"color\": \"#E5ECF6\", \"width\": 0.5}}, \"type\": \"barpolar\"}], \"carpet\": [{\"aaxis\": {\"endlinecolor\": \"#2a3f5f\", \"gridcolor\": \"white\", \"linecolor\": \"white\", \"minorgridcolor\": \"white\", \"startlinecolor\": \"#2a3f5f\"}, \"baxis\": {\"endlinecolor\": \"#2a3f5f\", \"gridcolor\": \"white\", \"linecolor\": \"white\", \"minorgridcolor\": \"white\", \"startlinecolor\": \"#2a3f5f\"}, \"type\": \"carpet\"}], \"choropleth\": [{\"colorbar\": {\"outlinewidth\": 0, \"ticks\": \"\"}, \"type\": \"choropleth\"}], \"contour\": [{\"colorbar\": {\"outlinewidth\": 0, \"ticks\": \"\"}, \"colorscale\": [[0.0, \"#0d0887\"], [0.1111111111111111, \"#46039f\"], [0.2222222222222222, \"#7201a8\"], [0.3333333333333333, \"#9c179e\"], [0.4444444444444444, \"#bd3786\"], [0.5555555555555556, \"#d8576b\"], [0.6666666666666666, \"#ed7953\"], [0.7777777777777778, \"#fb9f3a\"], [0.8888888888888888, \"#fdca26\"], [1.0, \"#f0f921\"]], \"type\": \"contour\"}], \"contourcarpet\": [{\"colorbar\": {\"outlinewidth\": 0, \"ticks\": \"\"}, \"type\": \"contourcarpet\"}], \"heatmap\": [{\"colorbar\": {\"outlinewidth\": 0, \"ticks\": \"\"}, \"colorscale\": [[0.0, \"#0d0887\"], [0.1111111111111111, \"#46039f\"], [0.2222222222222222, \"#7201a8\"], [0.3333333333333333, \"#9c179e\"], [0.4444444444444444, \"#bd3786\"], [0.5555555555555556, \"#d8576b\"], [0.6666666666666666, \"#ed7953\"], [0.7777777777777778, \"#fb9f3a\"], [0.8888888888888888, \"#fdca26\"], [1.0, \"#f0f921\"]], \"type\": \"heatmap\"}], \"heatmapgl\": [{\"colorbar\": {\"outlinewidth\": 0, \"ticks\": \"\"}, \"colorscale\": [[0.0, \"#0d0887\"], [0.1111111111111111, \"#46039f\"], [0.2222222222222222, \"#7201a8\"], [0.3333333333333333, \"#9c179e\"], [0.4444444444444444, \"#bd3786\"], [0.5555555555555556, \"#d8576b\"], [0.6666666666666666, \"#ed7953\"], [0.7777777777777778, \"#fb9f3a\"], [0.8888888888888888, \"#fdca26\"], [1.0, \"#f0f921\"]], \"type\": \"heatmapgl\"}], \"histogram\": [{\"marker\": {\"colorbar\": {\"outlinewidth\": 0, \"ticks\": \"\"}}, \"type\": \"histogram\"}], \"histogram2d\": [{\"colorbar\": {\"outlinewidth\": 0, \"ticks\": \"\"}, \"colorscale\": [[0.0, \"#0d0887\"], [0.1111111111111111, \"#46039f\"], [0.2222222222222222, \"#7201a8\"], [0.3333333333333333, \"#9c179e\"], [0.4444444444444444, \"#bd3786\"], [0.5555555555555556, \"#d8576b\"], [0.6666666666666666, \"#ed7953\"], [0.7777777777777778, \"#fb9f3a\"], [0.8888888888888888, \"#fdca26\"], [1.0, \"#f0f921\"]], \"type\": \"histogram2d\"}], \"histogram2dcontour\": [{\"colorbar\": {\"outlinewidth\": 0, \"ticks\": \"\"}, \"colorscale\": [[0.0, \"#0d0887\"], [0.1111111111111111, \"#46039f\"], [0.2222222222222222, \"#7201a8\"], [0.3333333333333333, \"#9c179e\"], [0.4444444444444444, \"#bd3786\"], [0.5555555555555556, \"#d8576b\"], [0.6666666666666666, \"#ed7953\"], [0.7777777777777778, \"#fb9f3a\"], [0.8888888888888888, \"#fdca26\"], [1.0, \"#f0f921\"]], \"type\": \"histogram2dcontour\"}], \"mesh3d\": [{\"colorbar\": {\"outlinewidth\": 0, \"ticks\": \"\"}, \"type\": \"mesh3d\"}], \"parcoords\": [{\"line\": {\"colorbar\": {\"outlinewidth\": 0, \"ticks\": \"\"}}, \"type\": \"parcoords\"}], \"pie\": [{\"automargin\": true, \"type\": \"pie\"}], \"scatter\": [{\"marker\": {\"colorbar\": {\"outlinewidth\": 0, \"ticks\": \"\"}}, \"type\": \"scatter\"}], \"scatter3d\": [{\"line\": {\"colorbar\": {\"outlinewidth\": 0, \"ticks\": \"\"}}, \"marker\": {\"colorbar\": {\"outlinewidth\": 0, \"ticks\": \"\"}}, \"type\": \"scatter3d\"}], \"scattercarpet\": [{\"marker\": {\"colorbar\": {\"outlinewidth\": 0, \"ticks\": \"\"}}, \"type\": \"scattercarpet\"}], \"scattergeo\": [{\"marker\": {\"colorbar\": {\"outlinewidth\": 0, \"ticks\": \"\"}}, \"type\": \"scattergeo\"}], \"scattergl\": [{\"marker\": {\"colorbar\": {\"outlinewidth\": 0, \"ticks\": \"\"}}, \"type\": \"scattergl\"}], \"scattermapbox\": [{\"marker\": {\"colorbar\": {\"outlinewidth\": 0, \"ticks\": \"\"}}, \"type\": \"scattermapbox\"}], \"scatterpolar\": [{\"marker\": {\"colorbar\": {\"outlinewidth\": 0, \"ticks\": \"\"}}, \"type\": \"scatterpolar\"}], \"scatterpolargl\": [{\"marker\": {\"colorbar\": {\"outlinewidth\": 0, \"ticks\": \"\"}}, \"type\": \"scatterpolargl\"}], \"scatterternary\": [{\"marker\": {\"colorbar\": {\"outlinewidth\": 0, \"ticks\": \"\"}}, \"type\": \"scatterternary\"}], \"surface\": [{\"colorbar\": {\"outlinewidth\": 0, \"ticks\": \"\"}, \"colorscale\": [[0.0, \"#0d0887\"], [0.1111111111111111, \"#46039f\"], [0.2222222222222222, \"#7201a8\"], [0.3333333333333333, \"#9c179e\"], [0.4444444444444444, \"#bd3786\"], [0.5555555555555556, \"#d8576b\"], [0.6666666666666666, \"#ed7953\"], [0.7777777777777778, \"#fb9f3a\"], [0.8888888888888888, \"#fdca26\"], [1.0, \"#f0f921\"]], \"type\": \"surface\"}], \"table\": [{\"cells\": {\"fill\": {\"color\": \"#EBF0F8\"}, \"line\": {\"color\": \"white\"}}, \"header\": {\"fill\": {\"color\": \"#C8D4E3\"}, \"line\": {\"color\": \"white\"}}, \"type\": \"table\"}]}, \"layout\": {\"annotationdefaults\": {\"arrowcolor\": \"#2a3f5f\", \"arrowhead\": 0, \"arrowwidth\": 1}, \"coloraxis\": {\"colorbar\": {\"outlinewidth\": 0, \"ticks\": \"\"}}, \"colorscale\": {\"diverging\": [[0, \"#8e0152\"], [0.1, \"#c51b7d\"], [0.2, \"#de77ae\"], [0.3, \"#f1b6da\"], [0.4, \"#fde0ef\"], [0.5, \"#f7f7f7\"], [0.6, \"#e6f5d0\"], [0.7, \"#b8e186\"], [0.8, \"#7fbc41\"], [0.9, \"#4d9221\"], [1, \"#276419\"]], \"sequential\": [[0.0, \"#0d0887\"], [0.1111111111111111, \"#46039f\"], [0.2222222222222222, \"#7201a8\"], [0.3333333333333333, \"#9c179e\"], [0.4444444444444444, \"#bd3786\"], [0.5555555555555556, \"#d8576b\"], [0.6666666666666666, \"#ed7953\"], [0.7777777777777778, \"#fb9f3a\"], [0.8888888888888888, \"#fdca26\"], [1.0, \"#f0f921\"]], \"sequentialminus\": [[0.0, \"#0d0887\"], [0.1111111111111111, \"#46039f\"], [0.2222222222222222, \"#7201a8\"], [0.3333333333333333, \"#9c179e\"], [0.4444444444444444, \"#bd3786\"], [0.5555555555555556, \"#d8576b\"], [0.6666666666666666, \"#ed7953\"], [0.7777777777777778, \"#fb9f3a\"], [0.8888888888888888, \"#fdca26\"], [1.0, \"#f0f921\"]]}, \"colorway\": [\"#636efa\", \"#EF553B\", \"#00cc96\", \"#ab63fa\", \"#FFA15A\", \"#19d3f3\", \"#FF6692\", \"#B6E880\", \"#FF97FF\", \"#FECB52\"], \"font\": {\"color\": \"#2a3f5f\"}, \"geo\": {\"bgcolor\": \"white\", \"lakecolor\": \"white\", \"landcolor\": \"#E5ECF6\", \"showlakes\": true, \"showland\": true, \"subunitcolor\": \"white\"}, \"hoverlabel\": {\"align\": \"left\"}, \"hovermode\": \"closest\", \"mapbox\": {\"style\": \"light\"}, \"paper_bgcolor\": \"white\", \"plot_bgcolor\": \"#E5ECF6\", \"polar\": {\"angularaxis\": {\"gridcolor\": \"white\", \"linecolor\": \"white\", \"ticks\": \"\"}, \"bgcolor\": \"#E5ECF6\", \"radialaxis\": {\"gridcolor\": \"white\", \"linecolor\": \"white\", \"ticks\": \"\"}}, \"scene\": {\"xaxis\": {\"backgroundcolor\": \"#E5ECF6\", \"gridcolor\": \"white\", \"gridwidth\": 2, \"linecolor\": \"white\", \"showbackground\": true, \"ticks\": \"\", \"zerolinecolor\": \"white\"}, \"yaxis\": {\"backgroundcolor\": \"#E5ECF6\", \"gridcolor\": \"white\", \"gridwidth\": 2, \"linecolor\": \"white\", \"showbackground\": true, \"ticks\": \"\", \"zerolinecolor\": \"white\"}, \"zaxis\": {\"backgroundcolor\": \"#E5ECF6\", \"gridcolor\": \"white\", \"gridwidth\": 2, \"linecolor\": \"white\", \"showbackground\": true, \"ticks\": \"\", \"zerolinecolor\": \"white\"}}, \"shapedefaults\": {\"line\": {\"color\": \"#2a3f5f\"}}, \"ternary\": {\"aaxis\": {\"gridcolor\": \"white\", \"linecolor\": \"white\", \"ticks\": \"\"}, \"baxis\": {\"gridcolor\": \"white\", \"linecolor\": \"white\", \"ticks\": \"\"}, \"bgcolor\": \"#E5ECF6\", \"caxis\": {\"gridcolor\": \"white\", \"linecolor\": \"white\", \"ticks\": \"\"}}, \"title\": {\"x\": 0.05}, \"xaxis\": {\"automargin\": true, \"gridcolor\": \"white\", \"linecolor\": \"white\", \"ticks\": \"\", \"title\": {\"standoff\": 15}, \"zerolinecolor\": \"white\", \"zerolinewidth\": 2}, \"yaxis\": {\"automargin\": true, \"gridcolor\": \"white\", \"linecolor\": \"white\", \"ticks\": \"\", \"title\": {\"standoff\": 15}, \"zerolinecolor\": \"white\", \"zerolinewidth\": 2}}}, \"xaxis\": {\"anchor\": \"y\", \"domain\": [0.0, 1.0], \"title\": {\"text\": \"Embarked\"}}, \"yaxis\": {\"anchor\": \"x\", \"domain\": [0.0, 1.0], \"title\": {\"text\": \"count\"}}},\n",
              "                        {\"responsive\": true}\n",
              "                    ).then(function(){\n",
              "                            \n",
              "var gd = document.getElementById('68dd030c-b26d-4f8a-b097-81e7c38e7fd5');\n",
              "var x = new MutationObserver(function (mutations, observer) {{\n",
              "        var display = window.getComputedStyle(gd).display;\n",
              "        if (!display || display === 'none') {{\n",
              "            console.log([gd, 'removed!']);\n",
              "            Plotly.purge(gd);\n",
              "            observer.disconnect();\n",
              "        }}\n",
              "}});\n",
              "\n",
              "// Listen for the removal of the full notebook cells\n",
              "var notebookContainer = gd.closest('#notebook-container');\n",
              "if (notebookContainer) {{\n",
              "    x.observe(notebookContainer, {childList: true});\n",
              "}}\n",
              "\n",
              "// Listen for the clearing of the current output cell\n",
              "var outputEl = gd.closest('.output');\n",
              "if (outputEl) {{\n",
              "    x.observe(outputEl, {childList: true});\n",
              "}}\n",
              "\n",
              "                        })\n",
              "                };\n",
              "                \n",
              "            </script>\n",
              "        </div>\n",
              "</body>\n",
              "</html>"
            ]
          },
          "metadata": {
            "tags": []
          }
        }
      ]
    },
    {
      "cell_type": "markdown",
      "metadata": {
        "id": "RY1GNCGts15L"
      },
      "source": [
        "**Mapeando mortos e vivos em um dicionário e salvando na variável surv**"
      ]
    },
    {
      "cell_type": "code",
      "metadata": {
        "id": "GStnBxVEqkof"
      },
      "source": [
        "surv = {0:'Died', 1:'Alive'}\n",
        "#Died\n",
        "#Alive"
      ],
      "execution_count": null,
      "outputs": []
    },
    {
      "cell_type": "markdown",
      "metadata": {
        "id": "NcI_5ykotFN6"
      },
      "source": [
        "**Substuindo o Survived pelo dicionário criado com os atributos criados, utilizando o método map**"
      ]
    },
    {
      "cell_type": "code",
      "metadata": {
        "id": "ALL12lCzq2du"
      },
      "source": [
        "titanic['Survived'] = titanic['Survived'].map(surv)"
      ],
      "execution_count": null,
      "outputs": []
    },
    {
      "cell_type": "code",
      "metadata": {
        "colab": {
          "base_uri": "https://localhost:8080/",
          "height": 141
        },
        "id": "RV-6SzhurH96",
        "outputId": "6571abcd-0b6c-4129-9ab6-a504d480cb93"
      },
      "source": [
        "titanic.head(3)"
      ],
      "execution_count": null,
      "outputs": [
        {
          "output_type": "execute_result",
          "data": {
            "text/html": [
              "<div>\n",
              "<style scoped>\n",
              "    .dataframe tbody tr th:only-of-type {\n",
              "        vertical-align: middle;\n",
              "    }\n",
              "\n",
              "    .dataframe tbody tr th {\n",
              "        vertical-align: top;\n",
              "    }\n",
              "\n",
              "    .dataframe thead th {\n",
              "        text-align: right;\n",
              "    }\n",
              "</style>\n",
              "<table border=\"1\" class=\"dataframe\">\n",
              "  <thead>\n",
              "    <tr style=\"text-align: right;\">\n",
              "      <th></th>\n",
              "      <th>Survived</th>\n",
              "      <th>Pclass</th>\n",
              "      <th>Name</th>\n",
              "      <th>Sex</th>\n",
              "      <th>Age</th>\n",
              "      <th>SibSp</th>\n",
              "      <th>Parch</th>\n",
              "      <th>Ticket</th>\n",
              "      <th>Fare</th>\n",
              "      <th>Cabin</th>\n",
              "      <th>Embarked</th>\n",
              "    </tr>\n",
              "  </thead>\n",
              "  <tbody>\n",
              "    <tr>\n",
              "      <th>0</th>\n",
              "      <td>Died</td>\n",
              "      <td>3</td>\n",
              "      <td>Braund, Mr. Owen Harris</td>\n",
              "      <td>male</td>\n",
              "      <td>22.0</td>\n",
              "      <td>1</td>\n",
              "      <td>0</td>\n",
              "      <td>A/5 21171</td>\n",
              "      <td>7.2500</td>\n",
              "      <td>NaN</td>\n",
              "      <td>S</td>\n",
              "    </tr>\n",
              "    <tr>\n",
              "      <th>1</th>\n",
              "      <td>Alive</td>\n",
              "      <td>1</td>\n",
              "      <td>Cumings, Mrs. John Bradley (Florence Briggs Th...</td>\n",
              "      <td>female</td>\n",
              "      <td>38.0</td>\n",
              "      <td>1</td>\n",
              "      <td>0</td>\n",
              "      <td>PC 17599</td>\n",
              "      <td>71.2833</td>\n",
              "      <td>C85</td>\n",
              "      <td>C</td>\n",
              "    </tr>\n",
              "    <tr>\n",
              "      <th>2</th>\n",
              "      <td>Alive</td>\n",
              "      <td>3</td>\n",
              "      <td>Heikkinen, Miss. Laina</td>\n",
              "      <td>female</td>\n",
              "      <td>26.0</td>\n",
              "      <td>0</td>\n",
              "      <td>0</td>\n",
              "      <td>STON/O2. 3101282</td>\n",
              "      <td>7.9250</td>\n",
              "      <td>NaN</td>\n",
              "      <td>S</td>\n",
              "    </tr>\n",
              "  </tbody>\n",
              "</table>\n",
              "</div>"
            ],
            "text/plain": [
              "  Survived  Pclass  ... Cabin Embarked\n",
              "0     Died       3  ...   NaN        S\n",
              "1    Alive       1  ...   C85        C\n",
              "2    Alive       3  ...   NaN        S\n",
              "\n",
              "[3 rows x 11 columns]"
            ]
          },
          "metadata": {
            "tags": []
          },
          "execution_count": 20
        }
      ]
    },
    {
      "cell_type": "code",
      "metadata": {
        "colab": {
          "base_uri": "https://localhost:8080/"
        },
        "id": "kQrEfgjxstNP",
        "outputId": "05a35fbb-334c-47d6-d12b-707fbde88dee"
      },
      "source": [
        "titanic['Survived'].value_counts()"
      ],
      "execution_count": null,
      "outputs": [
        {
          "output_type": "execute_result",
          "data": {
            "text/plain": [
              "Died     549\n",
              "Alive    342\n",
              "Name: Survived, dtype: int64"
            ]
          },
          "metadata": {
            "tags": []
          },
          "execution_count": 21
        }
      ]
    },
    {
      "cell_type": "markdown",
      "metadata": {
        "id": "Gy9ddMEft0__"
      },
      "source": [
        "**Usando o Seaborn para criar um countplot de mortos e sobreviventes, baseado na nova coluna Survived, com a tonalidade baseada na coluna Embarked**"
      ]
    },
    {
      "cell_type": "code",
      "metadata": {
        "colab": {
          "base_uri": "https://localhost:8080/",
          "height": 296
        },
        "id": "h8PChR0TtcA5",
        "outputId": "4b796cdf-4640-4d3c-83de-8348f23bf1ba"
      },
      "source": [
        "# plt.legend(bbox_to_anchor=(1.05, 1), loc=2, borderaxespad=0.) - Defino a legenda do lado \n",
        "sns.countplot(x='Survived', data=titanic, hue='Embarked')\n",
        "plt.legend(bbox_to_anchor=(1.05, 1), loc=2, borderaxespad=0.)"
      ],
      "execution_count": null,
      "outputs": [
        {
          "output_type": "execute_result",
          "data": {
            "text/plain": [
              "<matplotlib.legend.Legend at 0x7faf4024a450>"
            ]
          },
          "metadata": {
            "tags": []
          },
          "execution_count": 22
        },
        {
          "output_type": "display_data",
          "data": {
            "image/png": "[encoded data removed]",
            "text/plain": [
              "<Figure size 432x288 with 1 Axes>"
            ]
          },
          "metadata": {
            "tags": [],
            "needs_background": "light"
          }
        }
      ]
    },
    {
      "cell_type": "markdown",
      "metadata": {
        "id": "hbakZMW6vshj"
      },
      "source": [
        "**Criando um plot para cada cidade de embarcação, agrupando por sexo e contando por cidade**"
      ]
    },
    {
      "cell_type": "code",
      "metadata": {
        "colab": {
          "base_uri": "https://localhost:8080/",
          "height": 296
        },
        "id": "mVaLoiLUuNny",
        "outputId": "3643ee90-3956-4603-df8b-174f2bbf8b89"
      },
      "source": [
        "titanic[titanic['Embarked'] == 'S'].groupby('Age').count()['Sex'].plot()\n",
        "\n",
        "##df[df['Reason'] =='Traffic'].groupby('Sex').count()['twp'].plot()"
      ],
      "execution_count": null,
      "outputs": [
        {
          "output_type": "execute_result",
          "data": {
            "text/plain": [
              "<matplotlib.axes._subplots.AxesSubplot at 0x7faf40219950>"
            ]
          },
          "metadata": {
            "tags": []
          },
          "execution_count": 23
        },
        {
          "output_type": "display_data",
          "data": {
            "image/png": "[encoded data removed]",
            "text/plain": [
              "<Figure size 432x288 with 1 Axes>"
            ]
          },
          "metadata": {
            "tags": [],
            "needs_background": "light"
          }
        }
      ]
    },
    {
      "cell_type": "code",
      "metadata": {
        "colab": {
          "base_uri": "https://localhost:8080/"
        },
        "id": "T1IRiVieF3ac",
        "outputId": "c5b90630-3d27-44a6-d8dd-c8857eb62eb0"
      },
      "source": [
        "sns.pairplot(titanic)"
      ],
      "execution_count": null,
      "outputs": [
        {
          "output_type": "execute_result",
          "data": {
            "text/plain": [
              "<seaborn.axisgrid.PairGrid at 0x7faf4024a310>"
            ]
          },
          "metadata": {
            "tags": []
          },
          "execution_count": 24
        },
        {
          "output_type": "display_data",
          "data": {
            "image/png": "[encoded data removed]",
            "text/plain": [
              "<Figure size 900x900 with 30 Axes>"
            ]
          },
          "metadata": {
            "tags": [],
            "needs_background": "light"
          }
        }
      ]
    },
    {
      "cell_type": "markdown",
      "metadata": {
        "id": "M_n-LaOIHCR0"
      },
      "source": [
        "**Plotando com o heatmap as informações nulas**"
      ]
    },
    {
      "cell_type": "code",
      "metadata": {
        "colab": {
          "base_uri": "https://localhost:8080/"
        },
        "id": "W0V-d652Gm0K",
        "outputId": "ddd14e19-a2ea-44a2-c22d-2cd70612babd"
      },
      "source": [
        "plt.figure(figsize=(12,6))\n",
        "sns.heatmap(titanic.isnull(), yticklabels=False, cbar=False, cmap='viridis')"
      ],
      "execution_count": null,
      "outputs": [
        {
          "output_type": "execute_result",
          "data": {
            "text/plain": [
              "<matplotlib.axes._subplots.AxesSubplot at 0x7faf4045a8d0>"
            ]
          },
          "metadata": {
            "tags": []
          },
          "execution_count": 25
        },
        {
          "output_type": "display_data",
          "data": {
            "image/png": "[encoded data removed]",
            "text/plain": [
              "<Figure size 864x432 with 1 Axes>"
            ]
          },
          "metadata": {
            "tags": [],
            "needs_background": "light"
          }
        }
      ]
    },
    {
      "cell_type": "markdown",
      "metadata": {
        "id": "BfAymvqvIlex"
      },
      "source": [
        "**Análise exploratória dos dados**"
      ]
    },
    {
      "cell_type": "markdown",
      "metadata": {
        "id": "5e3TftamJJzI"
      },
      "source": [
        "**Plotando um count de mortos e sobreviventes**"
      ]
    },
    {
      "cell_type": "code",
      "metadata": {
        "colab": {
          "base_uri": "https://localhost:8080/"
        },
        "id": "ydPzT30JIqtU",
        "outputId": "8bde8b46-b862-4b35-b48c-41cf945577b9"
      },
      "source": [
        "# palette='RdBu_r' - azul para masculino e rosa para feminino\n",
        "sns.countplot(x='Survived', data=titanic, hue='Sex', palette='RdBu_r')"
      ],
      "execution_count": null,
      "outputs": [
        {
          "output_type": "execute_result",
          "data": {
            "text/plain": [
              "<matplotlib.axes._subplots.AxesSubplot at 0x7faf407f1c90>"
            ]
          },
          "metadata": {
            "tags": []
          },
          "execution_count": 26
        },
        {
          "output_type": "display_data",
          "data": {
            "image/png": "[encoded data removed]",
            "text/plain": [
              "<Figure size 432x288 with 1 Axes>"
            ]
          },
          "metadata": {
            "tags": [],
            "needs_background": "light"
          }
        }
      ]
    },
    {
      "cell_type": "markdown",
      "metadata": {
        "id": "UVQDpbX0KAcV"
      },
      "source": [
        "**Distribuição de mortos e sobreviventes entre as classes**"
      ]
    },
    {
      "cell_type": "code",
      "metadata": {
        "colab": {
          "base_uri": "https://localhost:8080/",
          "height": 71
        },
        "id": "aJgz4_qlKFZt",
        "outputId": "8b2bb5d5-d902-4205-d1c7-38d6abf68c88"
      },
      "source": [
        "sns.countplot(x='Survived', data=titanic, hue='Pclass', palette='rainbow')"
      ],
      "execution_count": null,
      "outputs": [
        {
          "output_type": "execute_result",
          "data": {
            "text/plain": [
              "<matplotlib.axes._subplots.AxesSubplot at 0x7faf4045d610>"
            ]
          },
          "metadata": {
            "tags": []
          },
          "execution_count": 27
        },
        {
          "output_type": "display_data",
          "data": {
            "image/png": "[encoded data removed]",
            "text/plain": [
              "<Figure size 432x288 with 1 Axes>"
            ]
          },
          "metadata": {
            "tags": [],
            "needs_background": "light"
          }
        }
      ]
    },
    {
      "cell_type": "markdown",
      "metadata": {
        "id": "z-N6AAGQK4zG"
      },
      "source": [
        "**Distribuição das pessoas que acompanhavam**"
      ]
    },
    {
      "cell_type": "code",
      "metadata": {
        "colab": {
          "base_uri": "https://localhost:8080/",
          "height": 296
        },
        "id": "l3bC34XRK70W",
        "outputId": "f679fb2b-c5bb-4197-bab3-b8b1ca35c40d"
      },
      "source": [
        "sns.countplot(x='SibSp', data=titanic, hue='Sex')"
      ],
      "execution_count": null,
      "outputs": [
        {
          "output_type": "execute_result",
          "data": {
            "text/plain": [
              "<matplotlib.axes._subplots.AxesSubplot at 0x7faf404b6650>"
            ]
          },
          "metadata": {
            "tags": []
          },
          "execution_count": 28
        },
        {
          "output_type": "display_data",
          "data": {
            "image/png": "[encoded data removed]",
            "text/plain": [
              "<Figure size 432x288 with 1 Axes>"
            ]
          },
          "metadata": {
            "tags": [],
            "needs_background": "light"
          }
        }
      ]
    },
    {
      "cell_type": "markdown",
      "metadata": {
        "id": "alA7z-YQMw6G"
      },
      "source": [
        "**Pegando quando o número de acompanhante for igual a zero e pegando a idade usando o histograma.**"
      ]
    },
    {
      "cell_type": "code",
      "metadata": {
        "colab": {
          "base_uri": "https://localhost:8080/",
          "height": 282
        },
        "id": "JyqHOkt4LraX",
        "outputId": "47b1d2ac-a0db-48fe-ba57-3982fc00f879"
      },
      "source": [
        "titanic[titanic['SibSp'] ==0]['Age'].hist(bins=30)"
      ],
      "execution_count": null,
      "outputs": [
        {
          "output_type": "execute_result",
          "data": {
            "text/plain": [
              "<matplotlib.axes._subplots.AxesSubplot at 0x7faf3f2e4b90>"
            ]
          },
          "metadata": {
            "tags": []
          },
          "execution_count": 29
        },
        {
          "output_type": "display_data",
          "data": {
            "image/png": "[encoded data removed]",
            "text/plain": [
              "<Figure size 432x288 with 1 Axes>"
            ]
          },
          "metadata": {
            "tags": [],
            "needs_background": "light"
          }
        }
      ]
    },
    {
      "cell_type": "markdown",
      "metadata": {
        "id": "5DvKBxkMNoEE"
      },
      "source": [
        "**Analisando o ticket médio**"
      ]
    },
    {
      "cell_type": "code",
      "metadata": {
        "colab": {
          "base_uri": "https://localhost:8080/"
        },
        "id": "LmDEn4O0NTNl",
        "outputId": "eb76c43f-7f91-4019-b079-99612862b0a6"
      },
      "source": [
        "titanic['Fare'].hist(color='green', bins=50, figsize=(12,8))"
      ],
      "execution_count": null,
      "outputs": [
        {
          "output_type": "execute_result",
          "data": {
            "text/plain": [
              "<matplotlib.axes._subplots.AxesSubplot at 0x7faf3f3a33d0>"
            ]
          },
          "metadata": {
            "tags": []
          },
          "execution_count": 30
        },
        {
          "output_type": "display_data",
          "data": {
            "image/png": "[encoded data removed]",
            "text/plain": [
              "<Figure size 864x576 with 1 Axes>"
            ]
          },
          "metadata": {
            "tags": [],
            "needs_background": "light"
          }
        }
      ]
    },
    {
      "cell_type": "code",
      "metadata": {
        "colab": {
          "base_uri": "https://localhost:8080/"
        },
        "id": "7ZInisNyOJ6S",
        "outputId": "4c706ebc-58ab-436f-8a5a-af242dca1f42"
      },
      "source": [
        "plt.figure(figsize=(12,6))\n",
        "sns.boxplot(x='Pclass', y='Age', data=titanic)"
      ],
      "execution_count": null,
      "outputs": [
        {
          "output_type": "execute_result",
          "data": {
            "text/plain": [
              "<matplotlib.axes._subplots.AxesSubplot at 0x7faf3f302c90>"
            ]
          },
          "metadata": {
            "tags": []
          },
          "execution_count": 31
        },
        {
          "output_type": "display_data",
          "data": {
            "image/png": "[encoded data removed]",
            "text/plain": [
              "<Figure size 864x432 with 1 Axes>"
            ]
          },
          "metadata": {
            "tags": [],
            "needs_background": "light"
          }
        }
      ]
    },
    {
      "cell_type": "markdown",
      "metadata": {
        "id": "e7qCC4X-PVhe"
      },
      "source": [
        "**Tratando os dados faltantes da idade, preenchendo com a média da classe**"
      ]
    },
    {
      "cell_type": "code",
      "metadata": {
        "id": "dslgT-k0PWQC"
      },
      "source": [
        "def inputar_idade(cols):\n",
        "  idade = cols[0]\n",
        "  Classe = cols[1]\n",
        "  if pd.isnull(idade):\n",
        "    if Classe == 1:\n",
        "         return 37\n",
        "    elif Classe == 2:\n",
        "          return 29\n",
        "    else:\n",
        "          return 24\n",
        "  else:\n",
        "          return idade\n"
      ],
      "execution_count": null,
      "outputs": []
    },
    {
      "cell_type": "markdown",
      "metadata": {
        "id": "4CRxd1ySSgBz"
      },
      "source": [
        "**Aplicando a função criada**"
      ]
    },
    {
      "cell_type": "code",
      "metadata": {
        "id": "hOHUkaQkSjDl"
      },
      "source": [
        "titanic['Age'] = titanic[['Age', 'Pclass']].apply(inputar_idade, axis=1)"
      ],
      "execution_count": null,
      "outputs": []
    },
    {
      "cell_type": "code",
      "metadata": {
        "colab": {
          "base_uri": "https://localhost:8080/",
          "height": 71
        },
        "id": "Zu_CugzZVr_N",
        "outputId": "f5a45d32-a3cd-477f-f80f-af1a66690e2c"
      },
      "source": [
        "plt.figure(figsize=(12,6))\n",
        "sns.heatmap(titanic.isnull(), yticklabels=False, cbar=False, cmap='viridis')"
      ],
      "execution_count": null,
      "outputs": [
        {
          "output_type": "execute_result",
          "data": {
            "text/plain": [
              "<matplotlib.axes._subplots.AxesSubplot at 0x7faf3fbdced0>"
            ]
          },
          "metadata": {
            "tags": []
          },
          "execution_count": 34
        },
        {
          "output_type": "display_data",
          "data": {
            "image/png": "[encoded data removed]",
            "text/plain": [
              "<Figure size 864x432 with 1 Axes>"
            ]
          },
          "metadata": {
            "tags": [],
            "needs_background": "light"
          }
        }
      ]
    },
    {
      "cell_type": "markdown",
      "metadata": {
        "id": "_V4BcryiV-q4"
      },
      "source": [
        "**Dropando a coluna Cabin, pois está com muita informação nula**"
      ]
    },
    {
      "cell_type": "code",
      "metadata": {
        "id": "NRLKu77kWD4I"
      },
      "source": [
        "del titanic['Cabin']\n",
        "\n",
        "##titanic.drop('Cabin', inplace=True)"
      ],
      "execution_count": null,
      "outputs": []
    },
    {
      "cell_type": "code",
      "metadata": {
        "colab": {
          "base_uri": "https://localhost:8080/",
          "height": 71
        },
        "id": "PHv7TQOxWqiY",
        "outputId": "994bc31f-3751-487b-90ab-3deca9ed7201"
      },
      "source": [
        "plt.figure(figsize=(12,6))\n",
        "sns.heatmap(titanic.isnull(), yticklabels=False, cbar=False, cmap='viridis')"
      ],
      "execution_count": null,
      "outputs": [
        {
          "output_type": "execute_result",
          "data": {
            "text/plain": [
              "<matplotlib.axes._subplots.AxesSubplot at 0x7faf3f712690>"
            ]
          },
          "metadata": {
            "tags": []
          },
          "execution_count": 36
        },
        {
          "output_type": "display_data",
          "data": {
            "image/png": "[encoded data removed]",
            "text/plain": [
              "<Figure size 864x432 with 1 Axes>"
            ]
          },
          "metadata": {
            "tags": [],
            "needs_background": "light"
          }
        }
      ]
    },
    {
      "cell_type": "markdown",
      "metadata": {
        "id": "-zsFEv1CXF-E"
      },
      "source": [
        "**Dropando a informação nula da coluna Embarked. Utilizando o método dropna, esse método excluir qualquer linha onde a informação seja falsa**"
      ]
    },
    {
      "cell_type": "code",
      "metadata": {
        "id": "CNoHCJ0vXQo-"
      },
      "source": [
        "titanic.dropna(inplace=True)"
      ],
      "execution_count": null,
      "outputs": []
    },
    {
      "cell_type": "code",
      "metadata": {
        "colab": {
          "base_uri": "https://localhost:8080/"
        },
        "id": "5EQ1yBAXXhIB",
        "outputId": "e656ef98-eb0a-4938-a27b-fdd0468b3c6b"
      },
      "source": [
        "plt.figure(figsize=(12,6))\n",
        "sns.heatmap(titanic.isnull(), yticklabels=False, cbar=False, cmap='viridis')"
      ],
      "execution_count": null,
      "outputs": [
        {
          "output_type": "execute_result",
          "data": {
            "text/plain": [
              "<matplotlib.axes._subplots.AxesSubplot at 0x7faf40866a10>"
            ]
          },
          "metadata": {
            "tags": []
          },
          "execution_count": 38
        },
        {
          "output_type": "display_data",
          "data": {
            "image/png": "[encoded data removed]",
            "text/plain": [
              "<Figure size 864x432 with 1 Axes>"
            ]
          },
          "metadata": {
            "tags": [],
            "needs_background": "light"
          }
        }
      ]
    },
    {
      "cell_type": "markdown",
      "metadata": {
        "id": "UOJbL21-Xr7x"
      },
      "source": [
        "**Tratando os dados categóricos, o meu modelo trabalha com números e não com String. Para esse caso uso a função get_dummies**"
      ]
    },
    {
      "cell_type": "markdown",
      "metadata": {
        "id": "JtyGR-l3ZkxT"
      },
      "source": [
        "**Tratando dados categóricos de sexo**"
      ]
    },
    {
      "cell_type": "code",
      "metadata": {
        "id": "NCRURBE9X2Du"
      },
      "source": [
        "## Método drop_first exclui a primeia linha e evita multicolinearidade\n",
        "sex = pd.get_dummies(titanic['Sex'], drop_first=True)"
      ],
      "execution_count": null,
      "outputs": []
    },
    {
      "cell_type": "markdown",
      "metadata": {
        "id": "GIEwBs0PZpH7"
      },
      "source": [
        "**Tratando dados categóricos de embarque**"
      ]
    },
    {
      "cell_type": "code",
      "metadata": {
        "id": "UZOV7-XoZswL"
      },
      "source": [
        "embark = pd.get_dummies(titanic['Embarked'], drop_first=True)"
      ],
      "execution_count": null,
      "outputs": []
    },
    {
      "cell_type": "code",
      "metadata": {
        "colab": {
          "base_uri": "https://localhost:8080/"
        },
        "id": "V_HdK3whbc9l",
        "outputId": "b0393ab0-4baa-4a02-eaca-9a0e8c5931a0"
      },
      "source": [
        "titanic.head()"
      ],
      "execution_count": null,
      "outputs": [
        {
          "output_type": "execute_result",
          "data": {
            "text/html": [
              "<div>\n",
              "<style scoped>\n",
              "    .dataframe tbody tr th:only-of-type {\n",
              "        vertical-align: middle;\n",
              "    }\n",
              "\n",
              "    .dataframe tbody tr th {\n",
              "        vertical-align: top;\n",
              "    }\n",
              "\n",
              "    .dataframe thead th {\n",
              "        text-align: right;\n",
              "    }\n",
              "</style>\n",
              "<table border=\"1\" class=\"dataframe\">\n",
              "  <thead>\n",
              "    <tr style=\"text-align: right;\">\n",
              "      <th></th>\n",
              "      <th>Survived</th>\n",
              "      <th>Pclass</th>\n",
              "      <th>Name</th>\n",
              "      <th>Sex</th>\n",
              "      <th>Age</th>\n",
              "      <th>SibSp</th>\n",
              "      <th>Parch</th>\n",
              "      <th>Ticket</th>\n",
              "      <th>Fare</th>\n",
              "      <th>Embarked</th>\n",
              "    </tr>\n",
              "  </thead>\n",
              "  <tbody>\n",
              "    <tr>\n",
              "      <th>0</th>\n",
              "      <td>Died</td>\n",
              "      <td>3</td>\n",
              "      <td>Braund, Mr. Owen Harris</td>\n",
              "      <td>male</td>\n",
              "      <td>22.0</td>\n",
              "      <td>1</td>\n",
              "      <td>0</td>\n",
              "      <td>A/5 21171</td>\n",
              "      <td>7.2500</td>\n",
              "      <td>S</td>\n",
              "    </tr>\n",
              "    <tr>\n",
              "      <th>1</th>\n",
              "      <td>Alive</td>\n",
              "      <td>1</td>\n",
              "      <td>Cumings, Mrs. John Bradley (Florence Briggs Th...</td>\n",
              "      <td>female</td>\n",
              "      <td>38.0</td>\n",
              "      <td>1</td>\n",
              "      <td>0</td>\n",
              "      <td>PC 17599</td>\n",
              "      <td>71.2833</td>\n",
              "      <td>C</td>\n",
              "    </tr>\n",
              "    <tr>\n",
              "      <th>2</th>\n",
              "      <td>Alive</td>\n",
              "      <td>3</td>\n",
              "      <td>Heikkinen, Miss. Laina</td>\n",
              "      <td>female</td>\n",
              "      <td>26.0</td>\n",
              "      <td>0</td>\n",
              "      <td>0</td>\n",
              "      <td>STON/O2. 3101282</td>\n",
              "      <td>7.9250</td>\n",
              "      <td>S</td>\n",
              "    </tr>\n",
              "    <tr>\n",
              "      <th>3</th>\n",
              "      <td>Alive</td>\n",
              "      <td>1</td>\n",
              "      <td>Futrelle, Mrs. Jacques Heath (Lily May Peel)</td>\n",
              "      <td>female</td>\n",
              "      <td>35.0</td>\n",
              "      <td>1</td>\n",
              "      <td>0</td>\n",
              "      <td>113803</td>\n",
              "      <td>53.1000</td>\n",
              "      <td>S</td>\n",
              "    </tr>\n",
              "    <tr>\n",
              "      <th>4</th>\n",
              "      <td>Died</td>\n",
              "      <td>3</td>\n",
              "      <td>Allen, Mr. William Henry</td>\n",
              "      <td>male</td>\n",
              "      <td>35.0</td>\n",
              "      <td>0</td>\n",
              "      <td>0</td>\n",
              "      <td>373450</td>\n",
              "      <td>8.0500</td>\n",
              "      <td>S</td>\n",
              "    </tr>\n",
              "  </tbody>\n",
              "</table>\n",
              "</div>"
            ],
            "text/plain": [
              "  Survived  Pclass  ...     Fare Embarked\n",
              "0     Died       3  ...   7.2500        S\n",
              "1    Alive       1  ...  71.2833        C\n",
              "2    Alive       3  ...   7.9250        S\n",
              "3    Alive       1  ...  53.1000        S\n",
              "4     Died       3  ...   8.0500        S\n",
              "\n",
              "[5 rows x 10 columns]"
            ]
          },
          "metadata": {
            "tags": []
          },
          "execution_count": 41
        }
      ]
    },
    {
      "cell_type": "markdown",
      "metadata": {
        "id": "jm8F0galb1yr"
      },
      "source": [
        "**Dropando as colunas que serão irrelevantes na construção do modelo**"
      ]
    },
    {
      "cell_type": "code",
      "metadata": {
        "id": "L0ql6Vjjb7aU"
      },
      "source": [
        "## Passo uma lista de colunas que quero dropar do DataFrame\n",
        "titanic.drop(['Sex', 'Name','Parch', 'Ticket'], axis=1, inplace=True)"
      ],
      "execution_count": null,
      "outputs": []
    },
    {
      "cell_type": "markdown",
      "metadata": {
        "id": "maT92QU-dHmc"
      },
      "source": [
        "**Próximo passos é colocar os tratamentos realizados com a função get_dummies dentro do meu DataFrame para finalizar com a limpeza dos dados**"
      ]
    },
    {
      "cell_type": "code",
      "metadata": {
        "id": "7DTfG0kqdQCq"
      },
      "source": [
        "## Método concat do pandas\n",
        "## Concateno meu DataFrame com as limpezas de dados onde utilizei o get_dummies\n",
        "## concateno as variáveis que gravei, titanic, sex e embark\n",
        "## concateno no eixo 1 nas colunas\n",
        "titanic = pd.concat([titanic, sex, embark], axis=1)"
      ],
      "execution_count": null,
      "outputs": []
    },
    {
      "cell_type": "markdown",
      "metadata": {
        "id": "GJqE-0m3fzNk"
      },
      "source": [
        "**Dropando a coluna Embarked**"
      ]
    },
    {
      "cell_type": "code",
      "metadata": {
        "id": "FUBXaSPIeHOr"
      },
      "source": [
        "del titanic['Embarked']"
      ],
      "execution_count": null,
      "outputs": []
    },
    {
      "cell_type": "code",
      "metadata": {
        "colab": {
          "base_uri": "https://localhost:8080/"
        },
        "id": "uUD4OgU6gHU5",
        "outputId": "c8821d4f-3c1a-4c8d-fec7-8e5cf6396ed3"
      },
      "source": [
        "titanic.head()"
      ],
      "execution_count": null,
      "outputs": [
        {
          "output_type": "execute_result",
          "data": {
            "text/html": [
              "<div>\n",
              "<style scoped>\n",
              "    .dataframe tbody tr th:only-of-type {\n",
              "        vertical-align: middle;\n",
              "    }\n",
              "\n",
              "    .dataframe tbody tr th {\n",
              "        vertical-align: top;\n",
              "    }\n",
              "\n",
              "    .dataframe thead th {\n",
              "        text-align: right;\n",
              "    }\n",
              "</style>\n",
              "<table border=\"1\" class=\"dataframe\">\n",
              "  <thead>\n",
              "    <tr style=\"text-align: right;\">\n",
              "      <th></th>\n",
              "      <th>Survived</th>\n",
              "      <th>Pclass</th>\n",
              "      <th>Age</th>\n",
              "      <th>SibSp</th>\n",
              "      <th>Fare</th>\n",
              "      <th>male</th>\n",
              "      <th>Q</th>\n",
              "      <th>S</th>\n",
              "    </tr>\n",
              "  </thead>\n",
              "  <tbody>\n",
              "    <tr>\n",
              "      <th>0</th>\n",
              "      <td>Died</td>\n",
              "      <td>3</td>\n",
              "      <td>22.0</td>\n",
              "      <td>1</td>\n",
              "      <td>7.2500</td>\n",
              "      <td>1</td>\n",
              "      <td>0</td>\n",
              "      <td>1</td>\n",
              "    </tr>\n",
              "    <tr>\n",
              "      <th>1</th>\n",
              "      <td>Alive</td>\n",
              "      <td>1</td>\n",
              "      <td>38.0</td>\n",
              "      <td>1</td>\n",
              "      <td>71.2833</td>\n",
              "      <td>0</td>\n",
              "      <td>0</td>\n",
              "      <td>0</td>\n",
              "    </tr>\n",
              "    <tr>\n",
              "      <th>2</th>\n",
              "      <td>Alive</td>\n",
              "      <td>3</td>\n",
              "      <td>26.0</td>\n",
              "      <td>0</td>\n",
              "      <td>7.9250</td>\n",
              "      <td>0</td>\n",
              "      <td>0</td>\n",
              "      <td>1</td>\n",
              "    </tr>\n",
              "    <tr>\n",
              "      <th>3</th>\n",
              "      <td>Alive</td>\n",
              "      <td>1</td>\n",
              "      <td>35.0</td>\n",
              "      <td>1</td>\n",
              "      <td>53.1000</td>\n",
              "      <td>0</td>\n",
              "      <td>0</td>\n",
              "      <td>1</td>\n",
              "    </tr>\n",
              "    <tr>\n",
              "      <th>4</th>\n",
              "      <td>Died</td>\n",
              "      <td>3</td>\n",
              "      <td>35.0</td>\n",
              "      <td>0</td>\n",
              "      <td>8.0500</td>\n",
              "      <td>1</td>\n",
              "      <td>0</td>\n",
              "      <td>1</td>\n",
              "    </tr>\n",
              "  </tbody>\n",
              "</table>\n",
              "</div>"
            ],
            "text/plain": [
              "  Survived  Pclass   Age  SibSp     Fare  male  Q  S\n",
              "0     Died       3  22.0      1   7.2500     1  0  1\n",
              "1    Alive       1  38.0      1  71.2833     0  0  0\n",
              "2    Alive       3  26.0      0   7.9250     0  0  1\n",
              "3    Alive       1  35.0      1  53.1000     0  0  1\n",
              "4     Died       3  35.0      0   8.0500     1  0  1"
            ]
          },
          "metadata": {
            "tags": []
          },
          "execution_count": 45
        }
      ]
    },
    {
      "cell_type": "markdown",
      "metadata": {
        "id": "yqNh950kg175"
      },
      "source": [
        "**Calibrando o modelo utilizando regressão logística**"
      ]
    },
    {
      "cell_type": "code",
      "metadata": {
        "id": "U9BV6_hpg7yo"
      },
      "source": [
        "# Biblioteca de Machine Learning\n",
        "from sklearn.linear_model import LogisticRegression"
      ],
      "execution_count": null,
      "outputs": []
    },
    {
      "cell_type": "markdown",
      "metadata": {
        "id": "ypzLSNolhUCY"
      },
      "source": [
        "**Quebrando o modelo em dados de treino e de teste**"
      ]
    },
    {
      "cell_type": "code",
      "metadata": {
        "id": "scENr58AhXOI"
      },
      "source": [
        "# Biblioteca de Machine Learning\n",
        "from sklearn.model_selection import train_test_split"
      ],
      "execution_count": null,
      "outputs": []
    },
    {
      "cell_type": "code",
      "metadata": {
        "id": "eBwNx_cvhlxH"
      },
      "source": [
        "# Meus objetos de treino e teste\n",
        "# meu X será tudo diferente da coluna Survived, para isso uso a função drop e o eixo 1 da coluna\n",
        "# Meu y será a coluna Survived, meu test_size será de 30%\n",
        "x_train, x_teste, y_train, y_teste = train_test_split(titanic.drop('Survived', axis=1), titanic['Survived'], test_size=0.3)"
      ],
      "execution_count": null,
      "outputs": []
    },
    {
      "cell_type": "markdown",
      "metadata": {
        "id": "VUDgjz0EkUG3"
      },
      "source": [
        "**Instanciando a classe LogisticRegression**"
      ]
    },
    {
      "cell_type": "code",
      "metadata": {
        "id": "9fqPO2CckCr5"
      },
      "source": [
        "logmodel = LogisticRegression()"
      ],
      "execution_count": null,
      "outputs": []
    },
    {
      "cell_type": "markdown",
      "metadata": {
        "id": "DQ0Piz-TltSE"
      },
      "source": [
        "**Instância criada posso calibrar meu modelo**"
      ]
    },
    {
      "cell_type": "markdown",
      "metadata": {
        "id": "M7NaTinvmsz8"
      },
      "source": [
        "**Regressão criada e já posso usar esse modelo para predição**"
      ]
    },
    {
      "cell_type": "code",
      "metadata": {
        "colab": {
          "base_uri": "https://localhost:8080/"
        },
        "id": "wd4URem_lxHp",
        "outputId": "6a6d8027-6dc6-42bb-e935-2b103de29372"
      },
      "source": [
        "logmodel.fit(x_train, y_train)"
      ],
      "execution_count": null,
      "outputs": [
        {
          "output_type": "execute_result",
          "data": {
            "text/plain": [
              "LogisticRegression(C=1.0, class_weight=None, dual=False, fit_intercept=True,\n",
              "                   intercept_scaling=1, l1_ratio=None, max_iter=100,\n",
              "                   multi_class='auto', n_jobs=None, penalty='l2',\n",
              "                   random_state=None, solver='lbfgs', tol=0.0001, verbose=0,\n",
              "                   warm_start=False)"
            ]
          },
          "metadata": {
            "tags": []
          },
          "execution_count": 50
        }
      ]
    },
    {
      "cell_type": "markdown",
      "metadata": {
        "id": "XioF4wTunWyF"
      },
      "source": [
        "**Criando um objeto prection usando a classe logmodel.predict. Passando a variável x_teste, quero que ele me prediza os inputs do x_teste. Ou seja, ele vai pegar os valores de x_teste e calcular os valores que o modelo diz que é verdade.**"
      ]
    },
    {
      "cell_type": "code",
      "metadata": {
        "id": "COImYKlVmFbx"
      },
      "source": [
        "prection = logmodel.predict(x_teste)"
      ],
      "execution_count": null,
      "outputs": []
    },
    {
      "cell_type": "markdown",
      "metadata": {
        "id": "CfZUT0TcoTwh"
      },
      "source": [
        "**Validando com o metrics**"
      ]
    },
    {
      "cell_type": "code",
      "metadata": {
        "id": "R6FT9bwWoXl6"
      },
      "source": [
        "from sklearn.metrics import classification_report"
      ],
      "execution_count": null,
      "outputs": []
    },
    {
      "cell_type": "code",
      "metadata": {
        "colab": {
          "base_uri": "https://localhost:8080/"
        },
        "id": "tp7ThpG5oiWj",
        "outputId": "00b7fe05-cc5d-4ef8-f3b7-61253b96e84d"
      },
      "source": [
        "print(classification_report(y_teste, prection))"
      ],
      "execution_count": null,
      "outputs": [
        {
          "output_type": "stream",
          "text": [
            "              precision    recall  f1-score   support\n",
            "\n",
            "       Alive       0.77      0.68      0.72       106\n",
            "        Died       0.80      0.86      0.83       161\n",
            "\n",
            "    accuracy                           0.79       267\n",
            "   macro avg       0.78      0.77      0.78       267\n",
            "weighted avg       0.79      0.79      0.79       267\n",
            "\n"
          ],
          "name": "stdout"
        }
      ]
    },
    {
      "cell_type": "code",
      "metadata": {
        "id": "mH6oPUJNpiQm"
      },
      "source": [
        "from sklearn.metrics import confusion_matrix"
      ],
      "execution_count": null,
      "outputs": []
    },
    {
      "cell_type": "code",
      "metadata": {
        "colab": {
          "base_uri": "https://localhost:8080/"
        },
        "id": "733Z69rfpkwv",
        "outputId": "7303591c-ce36-4fc7-82a5-ee1d9e252668"
      },
      "source": [
        "print(confusion_matrix(y_teste, prection))"
      ],
      "execution_count": null,
      "outputs": [
        {
          "output_type": "stream",
          "text": [
            "[[ 72  34]\n",
            " [ 22 139]]\n"
          ],
          "name": "stdout"
        }
      ]
    }
  ]
}